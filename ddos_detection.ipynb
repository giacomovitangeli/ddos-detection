{
 "cells": [
  {
   "attachments": {},
   "cell_type": "markdown",
   "metadata": {},
   "source": [
    "# Machine and Deep Learning for DDoS Detection\n",
    "### Marcos V. O. Assis (mvoassis@gmail.com)\n",
    "***\n",
    "\n",
    "> ## Published Results:\n",
    "\n",
    "* *A GRU deep learning system against attacks in software defined networks*\n",
    "\n",
    "* https://doi.org/10.1016/j.jnca.2020.102942\n",
    "\n",
    "\n",
    "\n",
    "* \\***Update - 06/2022** - improved detection results through better data cleaning process. Updated results on Git. \n",
    "\n",
    "> ## Objectives\n",
    "\n",
    "1. Evaluate different Machine and Deep Learning methods for anomaly detection.\n",
    "2. Detection of Distributed Denial of Service Attacks\n",
    "\n",
    "> ## Dataset\n",
    "\n",
    "* CIC-DDoS2019 - https://www.unb.ca/cic/datasets/ddos-2019.html\n",
    "\n",
    "> ## Evaluated Methods\n",
    "\n",
    "* Gated Recurrent Units (GRU)\n",
    "* Long-Short Term Memory (LSTM)\n",
    "* Convolutional Neural Network (CNN)\n",
    "* Deep Neural Network (DNN)\n",
    "* Support Vector Machine (SVM)\n",
    "* Logistic Regression (LR)\n",
    "* Gradient Descent (GD)\n",
    "* k Nearest Neighbors (kNN)\n",
    "\n",
    "> ## Environment Config.\n",
    "\n",
    "* Python 3.7.13\n",
    "* Numpy 1.16.4\n",
    "* Scikit-learn 0.21.2\n",
    "* Pandas 0.24.2\n",
    "* Tensorflow 1.14.0\n",
    "* Keras 2.2.4\n",
    "* Matplotlib 3.1.0\n",
    "* Seaborn 0.11.2\n",
    "\n",
    "***"
   ]
  },
  {
   "attachments": {},
   "cell_type": "markdown",
   "metadata": {},
   "source": [
    "# Importing and treating CIC-DDoS-2019"
   ]
  },
  {
   "cell_type": "code",
   "execution_count": 3,
   "metadata": {},
   "outputs": [],
   "source": [
    "import pandas as pd\n",
    "import numpy as np\n",
    "from sklearn.utils import resample\n",
    "from sklearn import preprocessing\n",
    "import numba as nb"
   ]
  },
  {
   "attachments": {},
   "cell_type": "markdown",
   "metadata": {},
   "source": [
    "## Defining functions to load files and downsample them\n",
    "\n",
    "As this research aims to develop a binary detector (Attack or Normal), we should balance the dataset between these two classes. However, CIC-DDOS2019 has few normal flows in it. Thus, downsampling is necessary.\n",
    "\n",
    "For the downsampling process, we allow anomalous flows to be \"mult\" times bigger than normal flows. This approach aims to reduce class disbalance while preventing information losses on attack flows (when the number of attack flows is downsampled to the number of normal ones, ML models could not fit appropriately).  "
   ]
  },
  {
   "cell_type": "code",
   "execution_count": 4,
   "metadata": {},
   "outputs": [],
   "source": [
    "mult = 5\n",
    "\n",
    "def load_file(path):\n",
    "    data = pd.read_csv(path, sep=',')\n",
    "\n",
    "    is_benign = data[' Label']=='BENIGN'\n",
    "    flows_ok = data[is_benign]\n",
    "    flows_ddos_full = data[~is_benign]\n",
    "    \n",
    "    sizeDownSample = len(flows_ok)*mult # tamanho do set final de dados anomalos\n",
    "    \n",
    "    # downsample majority\n",
    "    if (len(flows_ok)*mult) < (len(flows_ddos_full)): \n",
    "        flows_ddos_reduced = resample(flows_ddos_full,\n",
    "                                         replace = False, # sample without replacement\n",
    "                                         n_samples = sizeDownSample, # match minority n\n",
    "                                         random_state = 27) # reproducible results\n",
    "    else:\n",
    "        flows_ddos_reduced = flows_ddos_full\n",
    "    \n",
    "    return flows_ok, flows_ddos_reduced\n",
    "\n",
    " \n",
    "def load_huge_file(path):\n",
    "    df_chunk = pd.read_csv(path, chunksize=500000)\n",
    "    \n",
    "    chunk_list_ok = []  # append each chunk df here \n",
    "    chunk_list_ddos = [] \n",
    "\n",
    "    # Each chunk is in df format\n",
    "    for chunk in df_chunk:  \n",
    "        # perform data filtering \n",
    "        is_benign = chunk[' Label']=='BENIGN'\n",
    "        flows_ok = chunk[is_benign]\n",
    "        flows_ddos_full = chunk[~is_benign]\n",
    "        \n",
    "        if (len(flows_ok)*mult) < (len(flows_ddos_full)): \n",
    "            sizeDownSample = len(flows_ok)*mult # tamanho do set final de dados anomalos\n",
    "            \n",
    "            # downsample majority\n",
    "            flows_ddos_reduced = resample(flows_ddos_full,\n",
    "                                             replace = False, # sample without replacement\n",
    "                                             n_samples = sizeDownSample, # match minority n\n",
    "                                             random_state = 27) # reproducible results \n",
    "        else:\n",
    "            flows_ddos_reduced = flows_ddos_full\n",
    "            \n",
    "        # Once the data filtering is done, append the chunk to list\n",
    "        chunk_list_ok.append(flows_ok)\n",
    "        chunk_list_ddos.append(flows_ddos_reduced)\n",
    "        \n",
    "    # concat the list into dataframe \n",
    "    flows_ok = pd.concat(chunk_list_ok)\n",
    "    flows_ddos = pd.concat(chunk_list_ddos)\n",
    "    \n",
    "    return flows_ok, flows_ddos"
   ]
  },
  {
   "cell_type": "code",
   "execution_count": 5,
   "metadata": {},
   "outputs": [
    {
     "data": {
      "text/plain": [
       "' Commands for Linux\\n!wget \"http://205.174.165.80/CICDataset/CICDDoS2019/Dataset/CSVs/CSV-01-12.zip\" -O temp.zip\\n! unzip temp.zip\\n! rm temp.zip\\n'"
      ]
     },
     "execution_count": 5,
     "metadata": {},
     "output_type": "execute_result"
    }
   ],
   "source": [
    "\n",
    "''' Commands for Windows\n",
    "!curl -o temp.zip http://205.174.165.80/CICDataset/CICDDoS2019/Dataset/CSVs/CSV-01-12.zip\n",
    "!tar -xf CSV-01-12.zip\n",
    "!tar -xf CSV-03-11.zip\n",
    "!del CSV-01-12.zip\n",
    "!del CSV-03-11.zip'''\n",
    "''' Commands for Linux\n",
    "!wget \"http://205.174.165.80/CICDataset/CICDDoS2019/Dataset/CSVs/CSV-01-12.zip\" -O temp.zip\n",
    "! unzip temp.zip\n",
    "! rm temp.zip\n",
    "'''"
   ]
  },
  {
   "cell_type": "code",
   "execution_count": 6,
   "metadata": {},
   "outputs": [
    {
     "data": {
      "text/plain": [
       "'df = pd.read_csv(\"./01-12/TFTP.csv\", nrows= 100000) # very large file, \\n# if read completely will crash  colab, so only reading first 100000 rows\\ndf = df.iloc[:40000]\\ndf.to_csv(\"tftp.csv\")\\n\\ndf = pd.read_csv(\"./01-12/DrDoS_LDAP.csv\")\\ndf = df.iloc[:40000]\\ndf.to_csv(\"ldap.csv\")\\n\\ndf = pd.read_csv(\"./01-12/DrDoS_MSSQL.csv\")\\ndf = df.iloc[:40000]\\ndf.to_csv(\"mssql.csv\")\\n\\ndf = pd.read_csv(\"./01-12/DrDoS_NetBIOS.csv\")\\ndf = df.iloc[:40000]\\ndf.to_csv(\"netBIOS.csv\")\\n\\ndf = pd.read_csv(\"./01-12/DrDoS_NTP.csv\")\\ndf = df.iloc[:40000]\\ndf.to_csv(\"ntp.csv\")\\n\\ndf = pd.read_csv(\"./01-12/DrDoS_SNMP.csv\")\\ndf = df.iloc[:40000]\\ndf.to_csv(\"snmp.csv\")\\n\\ndf = pd.read_csv(\"./01-12/DrDoS_SSDP.csv\")\\ndf = df.iloc[:40000]\\ndf.to_csv(\"ssdp.csv\")\\n\\ndf = pd.read_csv(\"./01-12/DrDoS_UDP.csv\")\\ndf = df.iloc[:40000]\\ndf.to_csv(\"udp.csv\")\\n\\ndf = pd.read_csv(\"./01-12/Syn.csv\")\\ndf = df.iloc[:40000]\\ndf.to_csv(\"syn.csv\")\\n\\ndf = pd.read_csv(\"./01-12/DrDoS_DNS.csv\")\\ndf = df.iloc[:40000]\\ndf.to_csv(\"dns.csv\")\\n\\ndf = pd.read_csv(\"./01-12/UDPLag.csv\")\\ndf = df.iloc[:40000]\\ndf.to_csv(\"udplag.csv\")'"
      ]
     },
     "execution_count": 6,
     "metadata": {},
     "output_type": "execute_result"
    }
   ],
   "source": [
    "'''df = pd.read_csv(\"./01-12/TFTP.csv\", nrows= 100000) # very large file, \n",
    "# if read completely will crash  colab, so only reading first 100000 rows\n",
    "df = df.iloc[:40000]\n",
    "df.to_csv(\"tftp.csv\")\n",
    "\n",
    "df = pd.read_csv(\"./01-12/DrDoS_LDAP.csv\")\n",
    "df = df.iloc[:40000]\n",
    "df.to_csv(\"ldap.csv\")\n",
    "\n",
    "df = pd.read_csv(\"./01-12/DrDoS_MSSQL.csv\")\n",
    "df = df.iloc[:40000]\n",
    "df.to_csv(\"mssql.csv\")\n",
    "\n",
    "df = pd.read_csv(\"./01-12/DrDoS_NetBIOS.csv\")\n",
    "df = df.iloc[:40000]\n",
    "df.to_csv(\"netBIOS.csv\")\n",
    "\n",
    "df = pd.read_csv(\"./01-12/DrDoS_NTP.csv\")\n",
    "df = df.iloc[:40000]\n",
    "df.to_csv(\"ntp.csv\")\n",
    "\n",
    "df = pd.read_csv(\"./01-12/DrDoS_SNMP.csv\")\n",
    "df = df.iloc[:40000]\n",
    "df.to_csv(\"snmp.csv\")\n",
    "\n",
    "df = pd.read_csv(\"./01-12/DrDoS_SSDP.csv\")\n",
    "df = df.iloc[:40000]\n",
    "df.to_csv(\"ssdp.csv\")\n",
    "\n",
    "df = pd.read_csv(\"./01-12/DrDoS_UDP.csv\")\n",
    "df = df.iloc[:40000]\n",
    "df.to_csv(\"udp.csv\")\n",
    "\n",
    "df = pd.read_csv(\"./01-12/Syn.csv\")\n",
    "df = df.iloc[:40000]\n",
    "df.to_csv(\"syn.csv\")\n",
    "\n",
    "df = pd.read_csv(\"./01-12/DrDoS_DNS.csv\")\n",
    "df = df.iloc[:40000]\n",
    "df.to_csv(\"dns.csv\")\n",
    "\n",
    "df = pd.read_csv(\"./01-12/UDPLag.csv\")\n",
    "df = df.iloc[:40000]\n",
    "df.to_csv(\"udplag.csv\")'''"
   ]
  },
  {
   "attachments": {},
   "cell_type": "markdown",
   "metadata": {},
   "source": [
    "## Loading CIC-DDoS2019 - Day 1 (training)"
   ]
  },
  {
   "cell_type": "code",
   "execution_count": 18,
   "metadata": {},
   "outputs": [
    {
     "name": "stderr",
     "output_type": "stream",
     "text": [
      "C:\\Users\\anicc\\AppData\\Local\\Temp\\ipykernel_34012\\3645198409.py:31: DtypeWarning: Columns (85) have mixed types. Specify dtype option on import or set low_memory=False.\n",
      "  for chunk in df_chunk:\n",
      "C:\\Users\\anicc\\AppData\\Local\\Temp\\ipykernel_34012\\3645198409.py:31: DtypeWarning: Columns (85) have mixed types. Specify dtype option on import or set low_memory=False.\n",
      "  for chunk in df_chunk:\n",
      "C:\\Users\\anicc\\AppData\\Local\\Temp\\ipykernel_34012\\3645198409.py:31: DtypeWarning: Columns (85) have mixed types. Specify dtype option on import or set low_memory=False.\n",
      "  for chunk in df_chunk:\n",
      "C:\\Users\\anicc\\AppData\\Local\\Temp\\ipykernel_34012\\3645198409.py:31: DtypeWarning: Columns (85) have mixed types. Specify dtype option on import or set low_memory=False.\n",
      "  for chunk in df_chunk:\n",
      "C:\\Users\\anicc\\AppData\\Local\\Temp\\ipykernel_34012\\3645198409.py:31: DtypeWarning: Columns (85) have mixed types. Specify dtype option on import or set low_memory=False.\n",
      "  for chunk in df_chunk:\n",
      "C:\\Users\\anicc\\AppData\\Local\\Temp\\ipykernel_34012\\3645198409.py:31: DtypeWarning: Columns (85) have mixed types. Specify dtype option on import or set low_memory=False.\n",
      "  for chunk in df_chunk:\n",
      "C:\\Users\\anicc\\AppData\\Local\\Temp\\ipykernel_34012\\3645198409.py:31: DtypeWarning: Columns (85) have mixed types. Specify dtype option on import or set low_memory=False.\n",
      "  for chunk in df_chunk:\n",
      "C:\\Users\\anicc\\AppData\\Local\\Temp\\ipykernel_34012\\3645198409.py:31: DtypeWarning: Columns (85) have mixed types. Specify dtype option on import or set low_memory=False.\n",
      "  for chunk in df_chunk:\n",
      "C:\\Users\\anicc\\AppData\\Local\\Temp\\ipykernel_34012\\3645198409.py:31: DtypeWarning: Columns (85) have mixed types. Specify dtype option on import or set low_memory=False.\n",
      "  for chunk in df_chunk:\n",
      "C:\\Users\\anicc\\AppData\\Local\\Temp\\ipykernel_34012\\3645198409.py:31: DtypeWarning: Columns (85) have mixed types. Specify dtype option on import or set low_memory=False.\n",
      "  for chunk in df_chunk:\n",
      "C:\\Users\\anicc\\AppData\\Local\\Temp\\ipykernel_34012\\3645198409.py:31: DtypeWarning: Columns (85) have mixed types. Specify dtype option on import or set low_memory=False.\n",
      "  for chunk in df_chunk:\n",
      "C:\\Users\\anicc\\AppData\\Local\\Temp\\ipykernel_34012\\3645198409.py:31: DtypeWarning: Columns (85) have mixed types. Specify dtype option on import or set low_memory=False.\n",
      "  for chunk in df_chunk:\n",
      "C:\\Users\\anicc\\AppData\\Local\\Temp\\ipykernel_34012\\3645198409.py:31: DtypeWarning: Columns (85) have mixed types. Specify dtype option on import or set low_memory=False.\n",
      "  for chunk in df_chunk:\n",
      "C:\\Users\\anicc\\AppData\\Local\\Temp\\ipykernel_34012\\3645198409.py:31: DtypeWarning: Columns (85) have mixed types. Specify dtype option on import or set low_memory=False.\n",
      "  for chunk in df_chunk:\n",
      "C:\\Users\\anicc\\AppData\\Local\\Temp\\ipykernel_34012\\3645198409.py:31: DtypeWarning: Columns (85) have mixed types. Specify dtype option on import or set low_memory=False.\n",
      "  for chunk in df_chunk:\n",
      "C:\\Users\\anicc\\AppData\\Local\\Temp\\ipykernel_34012\\3645198409.py:31: DtypeWarning: Columns (85) have mixed types. Specify dtype option on import or set low_memory=False.\n",
      "  for chunk in df_chunk:\n",
      "C:\\Users\\anicc\\AppData\\Local\\Temp\\ipykernel_34012\\3645198409.py:31: DtypeWarning: Columns (85) have mixed types. Specify dtype option on import or set low_memory=False.\n",
      "  for chunk in df_chunk:\n",
      "C:\\Users\\anicc\\AppData\\Local\\Temp\\ipykernel_34012\\3645198409.py:31: DtypeWarning: Columns (85) have mixed types. Specify dtype option on import or set low_memory=False.\n",
      "  for chunk in df_chunk:\n",
      "C:\\Users\\anicc\\AppData\\Local\\Temp\\ipykernel_34012\\3645198409.py:31: DtypeWarning: Columns (85) have mixed types. Specify dtype option on import or set low_memory=False.\n",
      "  for chunk in df_chunk:\n",
      "C:\\Users\\anicc\\AppData\\Local\\Temp\\ipykernel_34012\\3645198409.py:31: DtypeWarning: Columns (85) have mixed types. Specify dtype option on import or set low_memory=False.\n",
      "  for chunk in df_chunk:\n",
      "C:\\Users\\anicc\\AppData\\Local\\Temp\\ipykernel_34012\\3645198409.py:31: DtypeWarning: Columns (85) have mixed types. Specify dtype option on import or set low_memory=False.\n",
      "  for chunk in df_chunk:\n",
      "C:\\Users\\anicc\\AppData\\Local\\Temp\\ipykernel_34012\\3645198409.py:31: DtypeWarning: Columns (85) have mixed types. Specify dtype option on import or set low_memory=False.\n",
      "  for chunk in df_chunk:\n",
      "C:\\Users\\anicc\\AppData\\Local\\Temp\\ipykernel_34012\\3645198409.py:31: DtypeWarning: Columns (85) have mixed types. Specify dtype option on import or set low_memory=False.\n",
      "  for chunk in df_chunk:\n",
      "C:\\Users\\anicc\\AppData\\Local\\Temp\\ipykernel_34012\\3645198409.py:31: DtypeWarning: Columns (85) have mixed types. Specify dtype option on import or set low_memory=False.\n",
      "  for chunk in df_chunk:\n",
      "C:\\Users\\anicc\\AppData\\Local\\Temp\\ipykernel_34012\\3645198409.py:31: DtypeWarning: Columns (85) have mixed types. Specify dtype option on import or set low_memory=False.\n",
      "  for chunk in df_chunk:\n",
      "C:\\Users\\anicc\\AppData\\Local\\Temp\\ipykernel_34012\\3645198409.py:31: DtypeWarning: Columns (85) have mixed types. Specify dtype option on import or set low_memory=False.\n",
      "  for chunk in df_chunk:\n",
      "C:\\Users\\anicc\\AppData\\Local\\Temp\\ipykernel_34012\\3645198409.py:31: DtypeWarning: Columns (85) have mixed types. Specify dtype option on import or set low_memory=False.\n",
      "  for chunk in df_chunk:\n",
      "C:\\Users\\anicc\\AppData\\Local\\Temp\\ipykernel_34012\\3645198409.py:31: DtypeWarning: Columns (85) have mixed types. Specify dtype option on import or set low_memory=False.\n",
      "  for chunk in df_chunk:\n",
      "C:\\Users\\anicc\\AppData\\Local\\Temp\\ipykernel_34012\\3645198409.py:31: DtypeWarning: Columns (85) have mixed types. Specify dtype option on import or set low_memory=False.\n",
      "  for chunk in df_chunk:\n",
      "C:\\Users\\anicc\\AppData\\Local\\Temp\\ipykernel_34012\\3645198409.py:31: DtypeWarning: Columns (85) have mixed types. Specify dtype option on import or set low_memory=False.\n",
      "  for chunk in df_chunk:\n",
      "C:\\Users\\anicc\\AppData\\Local\\Temp\\ipykernel_34012\\3645198409.py:31: DtypeWarning: Columns (85) have mixed types. Specify dtype option on import or set low_memory=False.\n",
      "  for chunk in df_chunk:\n",
      "C:\\Users\\anicc\\AppData\\Local\\Temp\\ipykernel_34012\\3645198409.py:31: DtypeWarning: Columns (85) have mixed types. Specify dtype option on import or set low_memory=False.\n",
      "  for chunk in df_chunk:\n",
      "C:\\Users\\anicc\\AppData\\Local\\Temp\\ipykernel_34012\\3645198409.py:31: DtypeWarning: Columns (85) have mixed types. Specify dtype option on import or set low_memory=False.\n",
      "  for chunk in df_chunk:\n",
      "C:\\Users\\anicc\\AppData\\Local\\Temp\\ipykernel_34012\\3645198409.py:31: DtypeWarning: Columns (85) have mixed types. Specify dtype option on import or set low_memory=False.\n",
      "  for chunk in df_chunk:\n",
      "C:\\Users\\anicc\\AppData\\Local\\Temp\\ipykernel_34012\\3645198409.py:31: DtypeWarning: Columns (85) have mixed types. Specify dtype option on import or set low_memory=False.\n",
      "  for chunk in df_chunk:\n"
     ]
    },
    {
     "name": "stdout",
     "output_type": "stream",
     "text": [
      "file 1 loaded\n"
     ]
    },
    {
     "name": "stderr",
     "output_type": "stream",
     "text": [
      "C:\\Users\\anicc\\AppData\\Local\\Temp\\ipykernel_34012\\3645198409.py:4: DtypeWarning: Columns (85) have mixed types. Specify dtype option on import or set low_memory=False.\n",
      "  data = pd.read_csv(path, sep=',')\n"
     ]
    },
    {
     "name": "stdout",
     "output_type": "stream",
     "text": [
      "file 2 loaded\n"
     ]
    },
    {
     "name": "stderr",
     "output_type": "stream",
     "text": [
      "C:\\Users\\anicc\\AppData\\Local\\Temp\\ipykernel_34012\\3645198409.py:4: DtypeWarning: Columns (85) have mixed types. Specify dtype option on import or set low_memory=False.\n",
      "  data = pd.read_csv(path, sep=',')\n"
     ]
    },
    {
     "name": "stdout",
     "output_type": "stream",
     "text": [
      "file 3 loaded\n"
     ]
    },
    {
     "name": "stderr",
     "output_type": "stream",
     "text": [
      "C:\\Users\\anicc\\AppData\\Local\\Temp\\ipykernel_34012\\3645198409.py:4: DtypeWarning: Columns (85) have mixed types. Specify dtype option on import or set low_memory=False.\n",
      "  data = pd.read_csv(path, sep=',')\n"
     ]
    },
    {
     "name": "stdout",
     "output_type": "stream",
     "text": [
      "file 4 loaded\n"
     ]
    },
    {
     "name": "stderr",
     "output_type": "stream",
     "text": [
      "C:\\Users\\anicc\\AppData\\Local\\Temp\\ipykernel_34012\\3645198409.py:4: DtypeWarning: Columns (85) have mixed types. Specify dtype option on import or set low_memory=False.\n",
      "  data = pd.read_csv(path, sep=',')\n"
     ]
    },
    {
     "name": "stdout",
     "output_type": "stream",
     "text": [
      "file 5 loaded\n"
     ]
    },
    {
     "name": "stderr",
     "output_type": "stream",
     "text": [
      "C:\\Users\\anicc\\AppData\\Local\\Temp\\ipykernel_34012\\3645198409.py:4: DtypeWarning: Columns (85) have mixed types. Specify dtype option on import or set low_memory=False.\n",
      "  data = pd.read_csv(path, sep=',')\n"
     ]
    },
    {
     "name": "stdout",
     "output_type": "stream",
     "text": [
      "file 6 loaded\n"
     ]
    },
    {
     "name": "stderr",
     "output_type": "stream",
     "text": [
      "C:\\Users\\anicc\\AppData\\Local\\Temp\\ipykernel_34012\\3645198409.py:4: DtypeWarning: Columns (85) have mixed types. Specify dtype option on import or set low_memory=False.\n",
      "  data = pd.read_csv(path, sep=',')\n"
     ]
    },
    {
     "name": "stdout",
     "output_type": "stream",
     "text": [
      "file 7 loaded\n"
     ]
    },
    {
     "name": "stderr",
     "output_type": "stream",
     "text": [
      "C:\\Users\\anicc\\AppData\\Local\\Temp\\ipykernel_34012\\3645198409.py:4: DtypeWarning: Columns (85) have mixed types. Specify dtype option on import or set low_memory=False.\n",
      "  data = pd.read_csv(path, sep=',')\n"
     ]
    },
    {
     "name": "stdout",
     "output_type": "stream",
     "text": [
      "file 8 loaded\n"
     ]
    },
    {
     "name": "stderr",
     "output_type": "stream",
     "text": [
      "C:\\Users\\anicc\\AppData\\Local\\Temp\\ipykernel_34012\\3645198409.py:4: DtypeWarning: Columns (85) have mixed types. Specify dtype option on import or set low_memory=False.\n",
      "  data = pd.read_csv(path, sep=',')\n"
     ]
    },
    {
     "name": "stdout",
     "output_type": "stream",
     "text": [
      "file 9 loaded\n"
     ]
    },
    {
     "name": "stderr",
     "output_type": "stream",
     "text": [
      "C:\\Users\\anicc\\AppData\\Local\\Temp\\ipykernel_34012\\3645198409.py:4: DtypeWarning: Columns (85) have mixed types. Specify dtype option on import or set low_memory=False.\n",
      "  data = pd.read_csv(path, sep=',')\n"
     ]
    },
    {
     "name": "stdout",
     "output_type": "stream",
     "text": [
      "file 10 loaded\n"
     ]
    },
    {
     "name": "stderr",
     "output_type": "stream",
     "text": [
      "C:\\Users\\anicc\\AppData\\Local\\Temp\\ipykernel_34012\\3645198409.py:4: DtypeWarning: Columns (85) have mixed types. Specify dtype option on import or set low_memory=False.\n",
      "  data = pd.read_csv(path, sep=',')\n"
     ]
    },
    {
     "name": "stdout",
     "output_type": "stream",
     "text": [
      "file 11 loaded\n"
     ]
    }
   ],
   "source": [
    "# file 1\n",
    "flows_ok, flows_ddos = load_huge_file('./01-12/TFTP.csv')\n",
    "print('file 1 loaded')\n",
    "\n",
    "# file 2\n",
    "a,b = load_file('./01-12/DrDoS_LDAP.csv')\n",
    "flows_ok = pd.concat([flows_ok, a], ignore_index=True) \n",
    "flows_ddos = pd.concat([flows_ddos, b], ignore_index=True)\n",
    "print('file 2 loaded')\n",
    "\n",
    "# file 3\n",
    "a,b = load_file('./01-12/DrDoS_MSSQL.csv')\n",
    "flows_ok = pd.concat([flows_ok, a], ignore_index=True) \n",
    "flows_ddos = pd.concat([flows_ddos, b], ignore_index=True)\n",
    "print('file 3 loaded')\n",
    "\n",
    "# file 4\n",
    "a,b = load_file('./01-12/DrDoS_NetBIOS.csv')\n",
    "flows_ok = pd.concat([flows_ok, a], ignore_index=True) \n",
    "flows_ddos = pd.concat([flows_ddos, b], ignore_index=True)\n",
    "print('file 4 loaded')\n",
    "\n",
    "# file 5\n",
    "a,b = load_file('./01-12/DrDoS_NTP.csv')\n",
    "flows_ok = pd.concat([flows_ok, a], ignore_index=True) \n",
    "flows_ddos = pd.concat([flows_ddos, b], ignore_index=True)\n",
    "print('file 5 loaded')\n",
    "\n",
    "# file 6\n",
    "a,b = load_file('./01-12/DrDoS_SNMP.csv')\n",
    "flows_ok = pd.concat([flows_ok, a], ignore_index=True) \n",
    "flows_ddos = pd.concat([flows_ddos, b], ignore_index=True)\n",
    "print('file 6 loaded')\n",
    "\n",
    "# file 7\n",
    "a,b = load_file('./01-12/DrDoS_SSDP.csv')\n",
    "flows_ok = pd.concat([flows_ok, a], ignore_index=True) \n",
    "flows_ddos = pd.concat([flows_ddos, b], ignore_index=True)\n",
    "print('file 7 loaded')\n",
    "\n",
    "# file 8\n",
    "a,b = load_file('./01-12/DrDoS_UDP.csv')\n",
    "flows_ok = pd.concat([flows_ok, a], ignore_index=True) \n",
    "flows_ddos = pd.concat([flows_ddos, b], ignore_index=True)\n",
    "print('file 8 loaded')\n",
    "\n",
    "# file 9\n",
    "a,b = load_file('./01-12/Syn.csv')\n",
    "flows_ok = pd.concat([flows_ok, a], ignore_index=True) \n",
    "flows_ddos = pd.concat([flows_ddos, b], ignore_index=True)\n",
    "print('file 9 loaded')\n",
    "\n",
    "# file 10\n",
    "a,b = load_file('./01-12/DrDoS_DNS.csv')\n",
    "flows_ok = pd.concat([flows_ok, a], ignore_index=True) \n",
    "flows_ddos = pd.concat([flows_ddos, b], ignore_index=True)\n",
    "print('file 10 loaded')\n",
    "\n",
    "# file 11\n",
    "a,b = load_file('./01-12/UDPLag.csv')\n",
    "flows_ok = pd.concat([flows_ok, a], ignore_index=True) \n",
    "flows_ddos = pd.concat([flows_ddos, b], ignore_index=True)\n",
    "print('file 11 loaded')\n",
    "\n",
    "del a,b\n",
    "\n",
    "samples = pd.concat([flows_ok, flows_ddos], ignore_index=True)\n",
    "samples.to_csv(r'./01-12/export_dataframe.csv', index = None, header=True) \n",
    "\n",
    "del flows_ddos, flows_ok"
   ]
  },
  {
   "attachments": {},
   "cell_type": "markdown",
   "metadata": {},
   "source": [
    "## Loading CIC-DDoS2019 - Day 2 (testing)"
   ]
  },
  {
   "cell_type": "code",
   "execution_count": 19,
   "metadata": {},
   "outputs": [
    {
     "name": "stderr",
     "output_type": "stream",
     "text": [
      "C:\\Users\\anicc\\AppData\\Local\\Temp\\ipykernel_34012\\3645198409.py:4: DtypeWarning: Columns (85) have mixed types. Specify dtype option on import or set low_memory=False.\n",
      "  data = pd.read_csv(path, sep=',')\n"
     ]
    },
    {
     "name": "stdout",
     "output_type": "stream",
     "text": [
      "file 1 loaded\n"
     ]
    },
    {
     "name": "stderr",
     "output_type": "stream",
     "text": [
      "C:\\Users\\anicc\\AppData\\Local\\Temp\\ipykernel_34012\\3645198409.py:4: DtypeWarning: Columns (85) have mixed types. Specify dtype option on import or set low_memory=False.\n",
      "  data = pd.read_csv(path, sep=',')\n"
     ]
    },
    {
     "name": "stdout",
     "output_type": "stream",
     "text": [
      "file 2 loaded\n"
     ]
    },
    {
     "name": "stderr",
     "output_type": "stream",
     "text": [
      "C:\\Users\\anicc\\AppData\\Local\\Temp\\ipykernel_34012\\3645198409.py:4: DtypeWarning: Columns (85) have mixed types. Specify dtype option on import or set low_memory=False.\n",
      "  data = pd.read_csv(path, sep=',')\n"
     ]
    },
    {
     "name": "stdout",
     "output_type": "stream",
     "text": [
      "file 3 loaded\n"
     ]
    },
    {
     "name": "stderr",
     "output_type": "stream",
     "text": [
      "C:\\Users\\anicc\\AppData\\Local\\Temp\\ipykernel_34012\\3645198409.py:4: DtypeWarning: Columns (85) have mixed types. Specify dtype option on import or set low_memory=False.\n",
      "  data = pd.read_csv(path, sep=',')\n"
     ]
    },
    {
     "name": "stdout",
     "output_type": "stream",
     "text": [
      "file 4 loaded\n"
     ]
    },
    {
     "name": "stderr",
     "output_type": "stream",
     "text": [
      "C:\\Users\\anicc\\AppData\\Local\\Temp\\ipykernel_34012\\3645198409.py:4: DtypeWarning: Columns (85) have mixed types. Specify dtype option on import or set low_memory=False.\n",
      "  data = pd.read_csv(path, sep=',')\n"
     ]
    },
    {
     "name": "stdout",
     "output_type": "stream",
     "text": [
      "file 5 loaded\n"
     ]
    }
   ],
   "source": [
    "# file 1\n",
    "flows_ok, flows_ddos = load_file('./03-11/LDAP.csv')\n",
    "print('file 1 loaded')\n",
    "\n",
    "# file 2\n",
    "a,b = load_file('./03-11/MSSQL.csv')\n",
    "flows_ok = pd.concat([flows_ok, a], ignore_index=True) \n",
    "flows_ddos = pd.concat([flows_ddos, b], ignore_index=True)\n",
    "print('file 2 loaded')\n",
    "\n",
    "# file 3\n",
    "a,b = load_file('./03-11/NetBIOS.csv')\n",
    "flows_ok = pd.concat([flows_ok, a], ignore_index=True) \n",
    "flows_ddos = pd.concat([flows_ddos, b], ignore_index=True)\n",
    "print('file 3 loaded')\n",
    "\n",
    "# file 4\n",
    "a,b = load_file('./03-11/PortMap.csv')\n",
    "flows_ok = pd.concat([flows_ok, a], ignore_index=True) \n",
    "flows_ddos = pd.concat([flows_ddos, b], ignore_index=True)\n",
    "print('file 4 loaded')\n",
    "\n",
    "# file 5\n",
    "a,b = load_file('./03-11/Syn.csv')\n",
    "flows_ok = pd.concat([flows_ok, a], ignore_index=True) \n",
    "flows_ddos = pd.concat([flows_ddos, b], ignore_index=True)\n",
    "print('file 5 loaded') "
   ]
  },
  {
   "cell_type": "code",
   "execution_count": 20,
   "metadata": {},
   "outputs": [],
   "source": [
    "'''# following files won't load**\n",
    "# file 6\n",
    "\n",
    "a,b = load_file('cicddos2019/03-11/UDP.csv')\n",
    "flows_ok = flows_ok.append(a,ignore_index=True)\n",
    "flows_ddos = flows_ddos.append(b,ignore_index=True)\n",
    "print('file 6 loaded')\n",
    "\n",
    "# file 7\n",
    "a,b = load_file('cicddos2019/03-11/UDPLag.csv')\n",
    "flows_ok = flows_ok.append(a,ignore_index=True)\n",
    "flows_ddos = flows_ddos.append(b,ignore_index=True)\n",
    "print('file 7 loaded')'''\n",
    "\n",
    "tests = pd.concat([flows_ok, flows_ddos], ignore_index=True)\n",
    "tests.to_csv(r'./01-12/export_tests.csv', index = None, header=True) \n",
    "\n",
    "del flows_ddos, flows_ok, a, b"
   ]
  },
  {
   "attachments": {},
   "cell_type": "markdown",
   "metadata": {},
   "source": [
    "## CIC-DDoS2019 Data Processing"
   ]
  },
  {
   "cell_type": "code",
   "execution_count": 22,
   "metadata": {},
   "outputs": [
    {
     "name": "stderr",
     "output_type": "stream",
     "text": [
      "C:\\Users\\anicc\\AppData\\Local\\Temp\\ipykernel_34012\\1082182861.py:2: DtypeWarning: Columns (85) have mixed types. Specify dtype option on import or set low_memory=False.\n",
      "  samples = pd.read_csv('./01-12/export_dataframe.csv', sep=',')\n"
     ]
    },
    {
     "name": "stdout",
     "output_type": "stream",
     "text": [
      "Training data processed\n"
     ]
    }
   ],
   "source": [
    "# training data\n",
    "samples = pd.read_csv('./01-12/export_dataframe.csv', sep=',')\n",
    "\n",
    "def string2numeric_hash(text):\n",
    "    import hashlib\n",
    "    return int(hashlib.md5(text).hexdigest()[:8], 16)\n",
    "\n",
    "# Flows Packet/s e Bytes/s - Replace infinity by 0\n",
    "samples = samples.replace('Infinity','0')\n",
    "samples = samples.replace(np.inf,0)\n",
    "#samples = samples.replace('nan','0')\n",
    "samples[' Flow Packets/s'] = pd.to_numeric(samples[' Flow Packets/s'])\n",
    "\n",
    "samples['Flow Bytes/s'] = samples['Flow Bytes/s'].fillna(0)\n",
    "samples['Flow Bytes/s'] = pd.to_numeric(samples['Flow Bytes/s'])\n",
    "\n",
    "\n",
    "#Label\n",
    "samples[' Label'] = samples[' Label'].replace('BENIGN',0)\n",
    "samples[' Label'] = samples[' Label'].replace('DrDoS_DNS',1)\n",
    "samples[' Label'] = samples[' Label'].replace('DrDoS_LDAP',1)\n",
    "samples[' Label'] = samples[' Label'].replace('DrDoS_MSSQL',1)\n",
    "samples[' Label'] = samples[' Label'].replace('DrDoS_NTP',1)\n",
    "samples[' Label'] = samples[' Label'].replace('DrDoS_NetBIOS',1)\n",
    "samples[' Label'] = samples[' Label'].replace('DrDoS_SNMP',1)\n",
    "samples[' Label'] = samples[' Label'].replace('DrDoS_SSDP',1)\n",
    "samples[' Label'] = samples[' Label'].replace('DrDoS_UDP',1)\n",
    "samples[' Label'] = samples[' Label'].replace('Syn',1)\n",
    "samples[' Label'] = samples[' Label'].replace('TFTP',1)\n",
    "samples[' Label'] = samples[' Label'].replace('UDP-lag',1)\n",
    "samples[' Label'] = samples[' Label'].replace('WebDDoS',1)\n",
    "\n",
    "#Timestamp - Drop day, then convert hour, minute and seconds to hashing \n",
    "colunaTime = pd.DataFrame(samples[' Timestamp'].str.split(' ').tolist(), columns = ['dia','horas'])\n",
    "colunaTime = pd.DataFrame(colunaTime['horas'].str.split('.').tolist(),columns = ['horas','milisec'])\n",
    "stringHoras = pd.DataFrame(colunaTime['horas'].str.encode('utf-8'))\n",
    "samples[' Timestamp'] = pd.DataFrame(stringHoras['horas'].apply(string2numeric_hash))#colunaTime['horas']\n",
    "del colunaTime,stringHoras\n",
    "\n",
    "\n",
    "# flowID - IP origem - IP destino - Simillar HTTP -> Drop (individual flow analysis)\n",
    "del samples[' Source IP']\n",
    "del samples[' Destination IP']\n",
    "del samples['Flow ID']\n",
    "del samples['SimillarHTTP']\n",
    "del samples['Unnamed: 0']\n",
    "\n",
    "samples.to_csv(r'./01-12/export_dataframe_proc.csv', index = None, header=True) \n",
    "print('Training data processed')"
   ]
  },
  {
   "cell_type": "code",
   "execution_count": 23,
   "metadata": {},
   "outputs": [
    {
     "name": "stderr",
     "output_type": "stream",
     "text": [
      "C:\\Users\\anicc\\AppData\\Local\\Temp\\ipykernel_34012\\915912304.py:2: DtypeWarning: Columns (85) have mixed types. Specify dtype option on import or set low_memory=False.\n",
      "  tests = pd.read_csv('./01-12/export_tests.csv', sep=',')\n"
     ]
    },
    {
     "name": "stdout",
     "output_type": "stream",
     "text": [
      "Test data processed\n"
     ]
    }
   ],
   "source": [
    "# test data\n",
    "tests = pd.read_csv('./01-12/export_tests.csv', sep=',')\n",
    "\n",
    "def string2numeric_hash(text):\n",
    "    import hashlib\n",
    "    return int(hashlib.md5(text).hexdigest()[:8], 16)\n",
    "\n",
    "# Flows Packet/s e Bytes/s - Change infinity by 0\n",
    "tests = tests.replace('Infinity','0')\n",
    "tests = tests.replace(np.inf,0)\n",
    "#amostras = amostras.replace('nan','0')\n",
    "tests[' Flow Packets/s'] = pd.to_numeric(tests[' Flow Packets/s'])\n",
    "\n",
    "tests['Flow Bytes/s'] = tests['Flow Bytes/s'].fillna(0)\n",
    "tests['Flow Bytes/s'] = pd.to_numeric(tests['Flow Bytes/s'])\n",
    "\n",
    "\n",
    "#Label\n",
    "tests[' Label'] = tests[' Label'].replace('BENIGN',0)\n",
    "tests[' Label'] = tests[' Label'].replace('LDAP',1)\n",
    "tests[' Label'] = tests[' Label'].replace('NetBIOS',1)\n",
    "tests[' Label'] = tests[' Label'].replace('MSSQL',1)\n",
    "tests[' Label'] = tests[' Label'].replace('Portmap',1)\n",
    "tests[' Label'] = tests[' Label'].replace('Syn',1)\n",
    "#tests[' Label'] = tests[' Label'].replace('DrDoS_SNMP',1)\n",
    "#tests[' Label'] = tests[' Label'].replace('DrDoS_SSDP',1)\n",
    "\n",
    "#Timestamp - Drop day, then convert hour, minute and seconds to hashing \n",
    "colunaTime = pd.DataFrame(tests[' Timestamp'].str.split(' ').tolist(), columns = ['dia','horas'])\n",
    "colunaTime = pd.DataFrame(colunaTime['horas'].str.split('.').tolist(),columns = ['horas','milisec'])\n",
    "stringHoras = pd.DataFrame(colunaTime['horas'].str.encode('utf-8'))\n",
    "tests[' Timestamp'] = pd.DataFrame(stringHoras['horas'].apply(string2numeric_hash))#colunaTime['horas']\n",
    "del colunaTime,stringHoras\n",
    "\n",
    "# flowID - IP origem - IP destino - Simillar HTTP -> Deletar (analise fluxo a fluxo)\n",
    "del tests[' Source IP']\n",
    "del tests[' Destination IP']\n",
    "del tests['Flow ID']\n",
    "del tests['SimillarHTTP']\n",
    "del tests['Unnamed: 0']\n",
    "\n",
    "tests.to_csv(r'./01-12/export_tests_proc.csv', index = None, header=True) \n",
    "print('Test data processed')"
   ]
  },
  {
   "attachments": {},
   "cell_type": "markdown",
   "metadata": {},
   "source": [
    "## Methods implementation\n",
    "\n",
    "Importing required library"
   ]
  },
  {
   "cell_type": "code",
   "execution_count": 42,
   "metadata": {},
   "outputs": [],
   "source": [
    "# Import required libraries\n",
    "from keras.models import Sequential\n",
    "\n",
    "from keras.layers import Dense,GRU,Embedding,Dropout,Flatten,Conv1D,MaxPooling1D,LSTM\n",
    "from sklearn.svm import SVC\n",
    "from sklearn.linear_model import LogisticRegression, SGDClassifier\n",
    "from sklearn.neighbors import KNeighborsClassifier"
   ]
  },
  {
   "attachments": {},
   "cell_type": "markdown",
   "metadata": {},
   "source": [
    "### Gated Recurrent Units (GRU)"
   ]
  },
  {
   "cell_type": "code",
   "execution_count": 43,
   "metadata": {},
   "outputs": [],
   "source": [
    "#input_size\n",
    "# -> CIC-DDoS2019 82\n",
    "# -> CIC-IDS2018 78\n",
    "\n",
    "def GRU_model(input_size):\n",
    "   \n",
    "    # Initialize the constructor\n",
    "    model = Sequential()\n",
    "    \n",
    "    model.add(GRU(32, input_shape=(input_size,1), return_sequences=False)) #\n",
    "    model.add(Dropout(0.5))    \n",
    "    model.add(Dense(10, activation='relu'))\n",
    "    model.add(Dense(1, activation='sigmoid'))\n",
    "    \n",
    "    model.build()\n",
    "    print(model.summary())\n",
    "    \n",
    "    return model"
   ]
  },
  {
   "attachments": {},
   "cell_type": "markdown",
   "metadata": {},
   "source": [
    "### Convolutional Neural Network (CNN)"
   ]
  },
  {
   "cell_type": "code",
   "execution_count": 44,
   "metadata": {},
   "outputs": [],
   "source": [
    "def CNN_model(input_size):\n",
    "   \n",
    "    # Initialize the constructor\n",
    "    model = Sequential()\n",
    "    \n",
    "    model.add(Conv1D(filters=64, kernel_size=8, activation='relu', input_shape=(input_size,1)))\n",
    "    model.add(MaxPooling1D(2))\n",
    "    model.add(Conv1D(filters=32, kernel_size=16, activation='relu'))\n",
    "    model.add(MaxPooling1D(2))\n",
    "    model.add(Conv1D(filters=16, kernel_size=3, activation='relu'))\n",
    "    model.add(MaxPooling1D(2))\n",
    "    \n",
    "    model.add(Dropout(0.5))\n",
    "\n",
    "    model.add(Flatten())\n",
    "    model.add(Dense(10, activation='relu'))\n",
    "    model.add(Dense(1, activation='sigmoid'))\n",
    "    \n",
    "    print(model.summary())\n",
    "    \n",
    "    return model"
   ]
  },
  {
   "attachments": {},
   "cell_type": "markdown",
   "metadata": {},
   "source": [
    "### Long-Short Term Memory (LSTM)"
   ]
  },
  {
   "cell_type": "code",
   "execution_count": 45,
   "metadata": {},
   "outputs": [],
   "source": [
    "def LSTM_model(input_size):\n",
    "   \n",
    "    # Initialize the constructor\n",
    "    model = Sequential()\n",
    "    \n",
    "    model.add(LSTM(32,input_shape=(input_size,1), return_sequences=False))\n",
    "    model.add(Dropout(0.5))    \n",
    "    model.add(Dense(10, activation='relu'))\n",
    "    model.add(Dense(1, activation='sigmoid'))\n",
    "    \n",
    "    print(model.summary())\n",
    "    \n",
    "    return model"
   ]
  },
  {
   "attachments": {},
   "cell_type": "markdown",
   "metadata": {},
   "source": [
    "### Deep Neural Network (DNN)"
   ]
  },
  {
   "cell_type": "code",
   "execution_count": 46,
   "metadata": {},
   "outputs": [],
   "source": [
    "def DNN_model(input_size):\n",
    "   \n",
    "    # Initialize the constructor\n",
    "    model = Sequential()\n",
    "    \n",
    "    model.add(Dense(2, activation='relu', input_shape=(input_size,)))\n",
    "    #model.add(Dense(100, activation='relu'))   \n",
    "    #model.add(Dense(40, activation='relu'))\n",
    "    #model.add(Dense(10, activation='relu'))\n",
    "    #model.add(Dropout(0.5))\n",
    "    model.add(Dense(1, activation='sigmoid'))\n",
    "    \n",
    "    print(model.summary())\n",
    "    \n",
    "    return model"
   ]
  },
  {
   "attachments": {},
   "cell_type": "markdown",
   "metadata": {},
   "source": [
    "### Support Vector Machine (SVM)"
   ]
  },
  {
   "cell_type": "code",
   "execution_count": 47,
   "metadata": {},
   "outputs": [],
   "source": [
    "def SVM():\n",
    "    return SVC(kernel='linear')"
   ]
  },
  {
   "attachments": {},
   "cell_type": "markdown",
   "metadata": {},
   "source": [
    "### Logistic Regression (LR)"
   ]
  },
  {
   "cell_type": "code",
   "execution_count": 48,
   "metadata": {},
   "outputs": [],
   "source": [
    "def LR():\n",
    "    return LogisticRegression()"
   ]
  },
  {
   "attachments": {},
   "cell_type": "markdown",
   "metadata": {},
   "source": [
    "### Gradient Descent (GD)"
   ]
  },
  {
   "cell_type": "code",
   "execution_count": 49,
   "metadata": {},
   "outputs": [],
   "source": [
    "def GD():\n",
    "    return SGDClassifier()"
   ]
  },
  {
   "attachments": {},
   "cell_type": "markdown",
   "metadata": {},
   "source": [
    "### k Nearest Neighbors (kNN)"
   ]
  },
  {
   "cell_type": "code",
   "execution_count": 50,
   "metadata": {},
   "outputs": [],
   "source": [
    "def kNN():\n",
    "    return KNeighborsClassifier(n_neighbors=3, n_jobs=-1)"
   ]
  },
  {
   "attachments": {},
   "cell_type": "markdown",
   "metadata": {},
   "source": [
    "# Auxiliar Functions\n",
    "\n",
    "Implementation of auxiliar functions, such as testing, compiling/training, 3d reshape, etc. "
   ]
  },
  {
   "attachments": {},
   "cell_type": "markdown",
   "metadata": {},
   "source": [
    "### train_test(samples)\n",
    "> Receives a group of samples and split it in train/test sets."
   ]
  },
  {
   "cell_type": "code",
   "execution_count": 51,
   "metadata": {},
   "outputs": [],
   "source": [
    "\n",
    "\n",
    "def train_test(samples):\n",
    "    # Import `train_test_split` from `sklearn.model_selection`\n",
    "    from sklearn.model_selection import train_test_split\n",
    "    import numpy as np\n",
    "    \n",
    "    # Specify the data \n",
    "    X=samples.iloc[:,0:(samples.shape[1]-1)]\n",
    "    \n",
    "    # Specify the target labels and flatten the array\n",
    "    #y= np.ravel(amostras.type)\n",
    "    y= samples.iloc[:,-1]\n",
    "    \n",
    "    # Split the data up in train and test sets\n",
    "    X_train, X_test, y_train, y_test = train_test_split(X, y, test_size=0.33, random_state=42)\n",
    "    \n",
    "    return X_train, X_test, y_train, y_test\n"
   ]
  },
  {
   "attachments": {},
   "cell_type": "markdown",
   "metadata": {},
   "source": [
    "### normalize_data(X_train,X_test)\n",
    "\n",
    "> Normalize data between -1 and 1"
   ]
  },
  {
   "cell_type": "code",
   "execution_count": 52,
   "metadata": {},
   "outputs": [],
   "source": [
    "def normalize_data(X_train,X_test):\n",
    "    # Import `StandardScaler` from `sklearn.preprocessing`\n",
    "    from sklearn.preprocessing import StandardScaler,MinMaxScaler\n",
    "    \n",
    "    # Define the scaler \n",
    "    #scaler = StandardScaler().fit(X_train)\n",
    "    scaler = MinMaxScaler(feature_range=(-1, 1)).fit(X_train)\n",
    "    \n",
    "    # Scale the train set\n",
    "    X_train = scaler.transform(X_train)\n",
    "    \n",
    "    # Scale the test set\n",
    "    X_test = scaler.transform(X_test)\n",
    "    \n",
    "    return X_train, X_test"
   ]
  },
  {
   "cell_type": "code",
   "execution_count": null,
   "metadata": {},
   "outputs": [
    {
     "data": {
      "text/plain": [
       "'from multiprocessing import Pool\\nnum_processes = 6\\ndef normalize_data(X_train, X_test, scaler=None):\\n    from sklearn.preprocessing import MinMaxScaler\\n    \\n    if not scaler:\\n        scaler = MinMaxScaler(feature_range=(-1, 1)).fit(X_train)\\n    \\n    X_train = scaler.transform(X_train)\\n    X_test = scaler.transform(X_test)\\n\\n    X_train_list = np.array_split(X_train, num_processes)\\n    X_test_list = np.array_split(X_test, num_processes)\\n\\n    pool = Pool(num_processes)\\n    results = []\\n\\n    for i in range(num_processes):\\n        scaler = MinMaxScaler(feature_range=(-1, 1)).fit(X_train_list[i])\\n        result = pool.apply_async(normalize_data, args=(X_train_list[i], X_test_list[i], scaler))\\n        results.append(result)\\n\\n    pool.close()\\n    pool.join()\\n    return X_train, X_test'"
      ]
     },
     "execution_count": 22,
     "metadata": {},
     "output_type": "execute_result"
    }
   ],
   "source": [
    "'''from multiprocessing import Pool\n",
    "num_processes = 6\n",
    "def normalize_data(X_train, X_test, scaler=None):\n",
    "    from sklearn.preprocessing import MinMaxScaler\n",
    "    \n",
    "    if not scaler:\n",
    "        scaler = MinMaxScaler(feature_range=(-1, 1)).fit(X_train)\n",
    "    \n",
    "    X_train = scaler.transform(X_train)\n",
    "    X_test = scaler.transform(X_test)\n",
    "\n",
    "    X_train_list = np.array_split(X_train, num_processes)\n",
    "    X_test_list = np.array_split(X_test, num_processes)\n",
    "\n",
    "    pool = Pool(num_processes)\n",
    "    results = []\n",
    "\n",
    "    for i in range(num_processes):\n",
    "        scaler = MinMaxScaler(feature_range=(-1, 1)).fit(X_train_list[i])\n",
    "        result = pool.apply_async(normalize_data, args=(X_train_list[i], X_test_list[i], scaler))\n",
    "        results.append(result)\n",
    "\n",
    "    pool.close()\n",
    "    pool.join()\n",
    "    return X_train, X_test'''"
   ]
  },
  {
   "attachments": {},
   "cell_type": "markdown",
   "metadata": {},
   "source": [
    "### format_{2,3}d()\n",
    "\n",
    "> Reshape data in 3d or 2d format (for input in methods such as GRU, CNN and LSTM)"
   ]
  },
  {
   "cell_type": "code",
   "execution_count": 53,
   "metadata": {},
   "outputs": [],
   "source": [
    "# Reshape data input\n",
    "\n",
    "'''@nb.jit(nopython=True)\n",
    "def format_3d(df):\n",
    "    X = np.array(df)\n",
    "    return np.reshape(X, (X.shape[0], X.shape[1], 1))\n",
    "\n",
    "@nb.jit(nopython=True)\n",
    "def format_2d(df):\n",
    "    X = np.array(df)\n",
    "    return np.reshape(X, (X.shape[0], X.shape[1]))'''\n",
    "\n",
    "def format_3d(df):\n",
    "    \n",
    "    X = np.array(df)\n",
    "    return np.reshape(X, (X.shape[0], X.shape[1], 1))\n",
    "\n",
    "def format_2d(df):\n",
    "    \n",
    "    X = np.array(df)\n",
    "    return np.reshape(X, (X.shape[0], X.shape[1]))"
   ]
  },
  {
   "attachments": {},
   "cell_type": "markdown",
   "metadata": {},
   "source": [
    "### compile_train(model,X_train,y_train,deep=True)\n",
    "\n",
    "> Compile and train learning model\n",
    "\n",
    "> deep = False for scikit-learn ML methods\n"
   ]
  },
  {
   "cell_type": "code",
   "execution_count": 54,
   "metadata": {},
   "outputs": [],
   "source": [
    "# compile and train learning model\n",
    "\n",
    "def compile_train(model,X_train,y_train,deep=True):\n",
    "    \n",
    "    if(deep==True):\n",
    "        import matplotlib.pyplot as plt\n",
    "\n",
    "\n",
    "        model.compile(loss='binary_crossentropy',\n",
    "                      optimizer='adam',\n",
    "                      metrics=['accuracy'])\n",
    "        \n",
    "        history = model.fit(X_train, y_train,epochs=10, batch_size=256, verbose=1)\n",
    "        #model.fit(X_train, y_train,epochs=3)\n",
    "\n",
    "        # summarize history for accuracy\n",
    "        plt.plot(history.history['acc'])\n",
    "        plt.title('model accuracy')\n",
    "        plt.ylabel('accuracy')\n",
    "        plt.xlabel('epoch')\n",
    "        plt.legend(['train'], loc='upper left')\n",
    "        plt.show()\n",
    "        # summarize history for loss\n",
    "        plt.plot(history.history['loss'])\n",
    "        plt.title('model loss')\n",
    "        plt.ylabel('loss')\n",
    "        plt.xlabel('epoch')\n",
    "        plt.legend(['train'], loc='upper left')\n",
    "        plt.show()\n",
    "\n",
    "        print(model.metrics_names)\n",
    "    \n",
    "    else:\n",
    "        model.fit(X_train, y_train) #SVM, LR, GD\n",
    "    \n",
    "    print('Model Compiled and Trained')\n",
    "    return model"
   ]
  },
  {
   "attachments": {},
   "cell_type": "markdown",
   "metadata": {},
   "source": [
    "### testes(model,X_test,y_test,y_pred, deep=True)\n",
    "\n",
    "> Testing performance outcomes of the methods\n",
    "\n",
    "> deep = False for scikit-learn ML methods\n"
   ]
  },
  {
   "cell_type": "code",
   "execution_count": 55,
   "metadata": {},
   "outputs": [],
   "source": [
    "# Testing performance outcomes of the methods\n",
    "\n",
    "def testes(model,X_test,y_test,y_pred, deep=True):\n",
    "    if(deep==True): \n",
    "        score = model.evaluate(X_test, y_test,verbose=1)\n",
    "\n",
    "        print(score)\n",
    "    \n",
    "    # Alguns testes adicionais\n",
    "    #y_test = formatar2d(y_test)\n",
    "    #y_pred = formatar2d(y_pred)\n",
    "    \n",
    "    \n",
    "    # Import the modules from `sklearn.metrics`\n",
    "    from sklearn.metrics import confusion_matrix, precision_score, recall_score, f1_score, cohen_kappa_score, accuracy_score\n",
    "    \n",
    "    # Accuracy \n",
    "    acc = accuracy_score(y_test, y_pred)\n",
    "    print('\\nAccuracy')\n",
    "    print(acc)\n",
    "    \n",
    "    # Precision \n",
    "    prec = precision_score(y_test, y_pred)#,average='macro')\n",
    "    print('\\nPrecision')\n",
    "    print(prec)\n",
    "    \n",
    "    # Recall\n",
    "    rec = recall_score(y_test, y_pred) #,average='macro')\n",
    "    print('\\nRecall')\n",
    "    print(rec)\n",
    "    \n",
    "    # F1 score\n",
    "    f1 = f1_score(y_test,y_pred) #,average='macro')\n",
    "    print('\\nF1 Score')\n",
    "    print(f1)\n",
    "    \n",
    "    #average\n",
    "    avrg = (acc+prec+rec+f1)/4\n",
    "    print('\\nAverage (acc, prec, rec, f1)')\n",
    "    print(avrg)\n",
    "    \n",
    "    return acc, prec, rec, f1, avrg"
   ]
  },
  {
   "attachments": {},
   "cell_type": "markdown",
   "metadata": {},
   "source": [
    "### test_normal_atk(y_test,y_pred):\n",
    "\n",
    "> Calculate the correct classification rate of normal and attack flow records"
   ]
  },
  {
   "cell_type": "code",
   "execution_count": 56,
   "metadata": {},
   "outputs": [],
   "source": [
    "def test_normal_atk(y_test,y_pred):\n",
    "    df = pd.DataFrame()\n",
    "    df['y_test'] = y_test\n",
    "    df['y_pred'] = y_pred\n",
    "    \n",
    "    normal = len(df.query('y_test == 0'))\n",
    "    atk = len(y_test)-normal\n",
    "    \n",
    "    wrong = df.query('y_test != y_pred')\n",
    "    \n",
    "    normal_detect_rate = (normal - wrong.groupby('y_test').count().iloc[0][0]) / normal\n",
    "    atk_detect_rate = (atk - wrong.groupby('y_test').count().iloc[1][0]) / atk\n",
    "    \n",
    "    #print(normal_detect_rate,atk_detect_rate)\n",
    "    \n",
    "    return normal_detect_rate, atk_detect_rate\n",
    "    "
   ]
  },
  {
   "attachments": {},
   "cell_type": "markdown",
   "metadata": {},
   "source": [
    "### Saving and Loading methods\n",
    "\n",
    "> Methods for saving and loading trained models"
   ]
  },
  {
   "cell_type": "code",
   "execution_count": 57,
   "metadata": {},
   "outputs": [],
   "source": [
    "# Save model and weights\n",
    "\n",
    "def save_model(model,name):\n",
    "    from keras.models import model_from_json\n",
    "    \n",
    "    arq_json = 'Models/' + name + '.json'\n",
    "    model_json = model.to_json()\n",
    "    with open(arq_json,\"w\") as json_file:\n",
    "        json_file.write(model_json)\n",
    "    \n",
    "    arq_h5 = 'Models/' + name + '.h5'\n",
    "    model.save_weights(arq_h5)\n",
    "    print('Model Saved')\n",
    "    \n",
    "def load_model(name):\n",
    "    from keras.models import model_from_json\n",
    "    \n",
    "    arq_json = 'Models/' + name + '.json'\n",
    "    json_file = open(arq_json,'r')\n",
    "    loaded_model_json = json_file.read()\n",
    "    json_file.close()\n",
    "    loaded_model = model_from_json(loaded_model_json)\n",
    "    \n",
    "    arq_h5 = 'Models/' + name + '.h5'\n",
    "    loaded_model.load_weights(arq_h5)\n",
    "    \n",
    "    print('Model loaded')\n",
    "    \n",
    "    return loaded_model\n",
    "\n",
    "def save_Sklearn(model,nome):\n",
    "    import pickle\n",
    "    arquivo = 'Models/'+ nome + '.pkl'\n",
    "    with open(arquivo,'wb') as file:\n",
    "        pickle.dump(model,file)\n",
    "    print('Model sklearn saved')\n",
    "\n",
    "def load_Sklearn(nome):\n",
    "    import pickle\n",
    "    arquivo = 'Models/'+ nome + '.pkl'\n",
    "    with open(arquivo,'rb') as file:\n",
    "        model = pickle.load(file)\n",
    "    print('Model sklearn loaded')\n",
    "    return model"
   ]
  },
  {
   "attachments": {},
   "cell_type": "markdown",
   "metadata": {},
   "source": [
    "# Main script for testing the learning methods\n",
    "\n",
    "> **Dataset - CIC-DDoS2019**\n",
    "\n",
    "Loading training dataset (day 1), upsampling normal flows for balancing the training set. "
   ]
  },
  {
   "cell_type": "code",
   "execution_count": 36,
   "metadata": {},
   "outputs": [],
   "source": [
    "# UPSAMPLE OF NORMAL FLOWS\n",
    "    \n",
    "samples = pd.read_csv('./01-12/export_dataframe_proc.csv', sep=',')\n",
    "\n",
    "X_train, X_test, y_train, y_test = train_test(samples)\n",
    "\n",
    "\n",
    "#junta novamente pra aumentar o numero de normais\n",
    "X = pd.concat([X_train, y_train], axis=1)\n",
    "\n",
    "# separate minority and majority classes\n",
    "is_benign = X[' Label']==0 #base de dados toda junta\n",
    "\n",
    "normal = X[is_benign]\n",
    "ddos = X[~is_benign]\n",
    "\n",
    "# upsample minority\n",
    "normal_upsampled = resample(normal,\n",
    "                          replace=True, # sample with replacement\n",
    "                          n_samples=len(ddos), # match number in majority class\n",
    "                          random_state=27) # reproducible results\n",
    "\n",
    "# combine majority and upsampled minority\n",
    "upsampled = pd.concat([normal_upsampled, ddos])\n",
    "\n",
    "# Specify the data \n",
    "X_train=upsampled.iloc[:,0:(upsampled.shape[1]-1)]    #DDoS\n",
    "y_train= upsampled.iloc[:,-1]  #DDoS\n",
    "\n",
    "input_size = (X_train.shape[1], 1)\n",
    "\n",
    "del X, normal_upsampled, ddos, upsampled, normal #, l1, l2 "
   ]
  },
  {
   "attachments": {},
   "cell_type": "markdown",
   "metadata": {},
   "source": [
    "Importing the test dataset (day 2) and normalizing data."
   ]
  },
  {
   "cell_type": "code",
   "execution_count": 37,
   "metadata": {},
   "outputs": [],
   "source": [
    "tests = pd.read_csv('./01-12/export_tests_proc.csv', sep=',')\n",
    "\n",
    "# X_test = np.concatenate((X_test,(tests.iloc[:,0:(tests.shape[1]-1)]).to_numpy())) # testar 33% + dia de testes\n",
    "# y_test = np.concatenate((y_test,tests.iloc[:,-1]))\n",
    "\n",
    "del X_test,y_test                            # testar só o dia de testes\n",
    "X_test = tests.iloc[:,0:(tests.shape[1]-1)]                        \n",
    "y_test = tests.iloc[:,-1]\n",
    "\n",
    "# print((y_test.shape))\n",
    "# print((X_test.shape))\n",
    "\n",
    "X_train, X_test = normalize_data(X_train,X_test)\n"
   ]
  },
  {
   "attachments": {},
   "cell_type": "markdown",
   "metadata": {},
   "source": [
    "Compiling and Training the methods\n",
    "\n",
    "> Comment the last 2 code blocks\n",
    "\n",
    "**OR**\n",
    "\n",
    "Loading and compiling the methods\n",
    "\n",
    "> Comment the first 2 code blocks"
   ]
  },
  {
   "cell_type": "code",
   "execution_count": 60,
   "metadata": {},
   "outputs": [],
   "source": [
    "def compile_train(model,X_train,y_train,deep=True):\n",
    "    \n",
    "    if(deep==True):\n",
    "        import matplotlib.pyplot as plt\n",
    "\n",
    "\n",
    "        model.compile(loss='binary_crossentropy',\n",
    "                      optimizer='adam',\n",
    "                      metrics=['accuracy'])\n",
    "        \n",
    "        history = model.fit(X_train, y_train,epochs=10, batch_size=256, verbose=1)\n",
    "        #model.fit(X_train, y_train,epochs=3)\n",
    "\n",
    "        # summarize history for accuracy\n",
    "        if 'acc' in history.history:\n",
    "            plt.plot(history.history['acc'])\n",
    "            plt.title('model accuracy')\n",
    "            plt.ylabel('accuracy')\n",
    "            plt.xlabel('epoch')\n",
    "            plt.legend(['train'], loc='upper left')\n",
    "            plt.show()\n",
    "        # summarize history for loss\n",
    "        if 'loss' in history.history:\n",
    "            plt.plot(history.history['loss'])\n",
    "            plt.title('model loss')\n",
    "            plt.ylabel('loss')\n",
    "            plt.xlabel('epoch')\n",
    "            plt.legend(['train'], loc='upper left')\n",
    "            plt.show()\n",
    "\n",
    "        print(model.metrics_names)\n",
    "    \n",
    "    else:\n",
    "        model.fit(X_train, y_train) #SVM, LR, GD\n",
    "    \n",
    "    print('Model Compiled and Trained')\n",
    "    return model\n"
   ]
  },
  {
   "cell_type": "code",
   "execution_count": 61,
   "metadata": {},
   "outputs": [
    {
     "name": "stdout",
     "output_type": "stream",
     "text": [
      "Model: \"sequential_4\"\n",
      "_________________________________________________________________\n",
      " Layer (type)                Output Shape              Param #   \n",
      "=================================================================\n",
      " gru_1 (GRU)                 (None, 32)                3360      \n",
      "                                                                 \n",
      " dropout_3 (Dropout)         (None, 32)                0         \n",
      "                                                                 \n",
      " dense_8 (Dense)             (None, 10)                330       \n",
      "                                                                 \n",
      " dense_9 (Dense)             (None, 1)                 11        \n",
      "                                                                 \n",
      "=================================================================\n",
      "Total params: 3,701\n",
      "Trainable params: 3,701\n",
      "Non-trainable params: 0\n",
      "_________________________________________________________________\n",
      "None\n",
      "Model: \"sequential_5\"\n",
      "_________________________________________________________________\n",
      " Layer (type)                Output Shape              Param #   \n",
      "=================================================================\n",
      " conv1d_3 (Conv1D)           (None, 75, 64)            576       \n",
      "                                                                 \n",
      " max_pooling1d_3 (MaxPooling  (None, 37, 64)           0         \n",
      " 1D)                                                             \n",
      "                                                                 \n",
      " conv1d_4 (Conv1D)           (None, 22, 32)            32800     \n",
      "                                                                 \n",
      " max_pooling1d_4 (MaxPooling  (None, 11, 32)           0         \n",
      " 1D)                                                             \n",
      "                                                                 \n",
      " conv1d_5 (Conv1D)           (None, 9, 16)             1552      \n",
      "                                                                 \n",
      " max_pooling1d_5 (MaxPooling  (None, 4, 16)            0         \n",
      " 1D)                                                             \n",
      "                                                                 \n",
      " dropout_4 (Dropout)         (None, 4, 16)             0         \n",
      "                                                                 \n",
      " flatten_1 (Flatten)         (None, 64)                0         \n",
      "                                                                 \n",
      " dense_10 (Dense)            (None, 10)                650       \n",
      "                                                                 \n",
      " dense_11 (Dense)            (None, 1)                 11        \n",
      "                                                                 \n",
      "=================================================================\n",
      "Total params: 35,589\n",
      "Trainable params: 35,589\n",
      "Non-trainable params: 0\n",
      "_________________________________________________________________\n",
      "None\n",
      "Model: \"sequential_6\"\n",
      "_________________________________________________________________\n",
      " Layer (type)                Output Shape              Param #   \n",
      "=================================================================\n",
      " lstm_1 (LSTM)               (None, 32)                4352      \n",
      "                                                                 \n",
      " dropout_5 (Dropout)         (None, 32)                0         \n",
      "                                                                 \n",
      " dense_12 (Dense)            (None, 10)                330       \n",
      "                                                                 \n",
      " dense_13 (Dense)            (None, 1)                 11        \n",
      "                                                                 \n",
      "=================================================================\n",
      "Total params: 4,693\n",
      "Trainable params: 4,693\n",
      "Non-trainable params: 0\n",
      "_________________________________________________________________\n",
      "None\n",
      "Model: \"sequential_7\"\n",
      "_________________________________________________________________\n",
      " Layer (type)                Output Shape              Param #   \n",
      "=================================================================\n",
      " dense_14 (Dense)            (None, 2)                 166       \n",
      "                                                                 \n",
      " dense_15 (Dense)            (None, 1)                 3         \n",
      "                                                                 \n",
      "=================================================================\n",
      "Total params: 169\n",
      "Trainable params: 169\n",
      "Non-trainable params: 0\n",
      "_________________________________________________________________\n",
      "None\n",
      "Model: \"sequential_4\"\n",
      "_________________________________________________________________\n",
      " Layer (type)                Output Shape              Param #   \n",
      "=================================================================\n",
      " gru_1 (GRU)                 (None, 32)                3360      \n",
      "                                                                 \n",
      " dropout_3 (Dropout)         (None, 32)                0         \n",
      "                                                                 \n",
      " dense_8 (Dense)             (None, 10)                330       \n",
      "                                                                 \n",
      " dense_9 (Dense)             (None, 1)                 11        \n",
      "                                                                 \n",
      "=================================================================\n",
      "Total params: 3,701\n",
      "Trainable params: 3,701\n",
      "Non-trainable params: 0\n",
      "_________________________________________________________________\n",
      "(368604, 82)\n",
      "Epoch 1/10\n",
      "1440/1440 [==============================] - 48s 33ms/step - loss: 0.0875 - accuracy: 0.9718\n",
      "Epoch 2/10\n",
      "1440/1440 [==============================] - 44s 31ms/step - loss: 0.0449 - accuracy: 0.9858\n",
      "Epoch 3/10\n",
      "1440/1440 [==============================] - 44s 30ms/step - loss: 0.0378 - accuracy: 0.9881\n",
      "Epoch 4/10\n",
      "1440/1440 [==============================] - 44s 30ms/step - loss: 0.0343 - accuracy: 0.9890\n",
      "Epoch 5/10\n",
      "1440/1440 [==============================] - 44s 30ms/step - loss: 0.0308 - accuracy: 0.9902\n",
      "Epoch 6/10\n",
      "1440/1440 [==============================] - 45s 31ms/step - loss: 0.0291 - accuracy: 0.9907\n",
      "Epoch 7/10\n",
      "1440/1440 [==============================] - 43s 30ms/step - loss: 0.0274 - accuracy: 0.9913\n",
      "Epoch 8/10\n",
      "1440/1440 [==============================] - 43s 30ms/step - loss: 0.0262 - accuracy: 0.9918\n",
      "Epoch 9/10\n",
      "1440/1440 [==============================] - 49s 34ms/step - loss: 0.0254 - accuracy: 0.9921\n",
      "Epoch 10/10\n",
      "1440/1440 [==============================] - 53s 36ms/step - loss: 0.0239 - accuracy: 0.9927\n"
     ]
    },
    {
     "data": {
      "image/png": "[encoded data removed]",
      "text/plain": [
       "<Figure size 640x480 with 1 Axes>"
      ]
     },
     "metadata": {},
     "output_type": "display_data"
    },
    {
     "name": "stdout",
     "output_type": "stream",
     "text": [
      "['loss', 'accuracy']\n",
      "Model Compiled and Trained\n"
     ]
    }
   ],
   "source": [
    "## Comment next 2 blocks if loading pre-trained models\n",
    "## Execute them if training new models\n",
    "\n",
    "model_gru = GRU_model(82) #quando treina novo modelo\n",
    "model_cnn = CNN_model(82)\n",
    "model_lstm = LSTM_model(82)\n",
    "model_dnn = DNN_model(X_train.shape[1])\n",
    "model_svm = SVM()\n",
    "model_lr = LR()\n",
    "model_gd = GD()\n",
    "model_knn = kNN()\n",
    "\n",
    "model_gru.summary()\n",
    "print(X_train.shape)\n",
    "\n",
    "model_cnn = compile_train(model_cnn,format_3d(X_train),y_train)"
   ]
  },
  {
   "cell_type": "code",
   "execution_count": 62,
   "metadata": {
    "scrolled": true
   },
   "outputs": [
    {
     "name": "stdout",
     "output_type": "stream",
     "text": [
      "Epoch 1/10\n",
      "1440/1440 [==============================] - 50s 34ms/step - loss: 0.1818 - accuracy: 0.9434\n",
      "Epoch 2/10\n",
      "1440/1440 [==============================] - 50s 34ms/step - loss: 0.0651 - accuracy: 0.9855\n",
      "Epoch 3/10\n",
      "1440/1440 [==============================] - 50s 34ms/step - loss: 0.0569 - accuracy: 0.9874\n",
      "Epoch 4/10\n",
      "1440/1440 [==============================] - 49s 34ms/step - loss: 0.0548 - accuracy: 0.9874\n",
      "Epoch 5/10\n",
      "1440/1440 [==============================] - 55s 38ms/step - loss: 0.0515 - accuracy: 0.9873\n",
      "Epoch 6/10\n",
      "1440/1440 [==============================] - 54s 38ms/step - loss: 0.0466 - accuracy: 0.9876\n",
      "Epoch 7/10\n",
      "1440/1440 [==============================] - 55s 38ms/step - loss: 0.0407 - accuracy: 0.9884\n",
      "Epoch 8/10\n",
      "1440/1440 [==============================] - 57s 40ms/step - loss: 0.0374 - accuracy: 0.9893\n",
      "Epoch 9/10\n",
      "1440/1440 [==============================] - 51s 36ms/step - loss: 0.0349 - accuracy: 0.9899\n",
      "Epoch 10/10\n",
      "1440/1440 [==============================] - 54s 37ms/step - loss: 0.0324 - accuracy: 0.9903\n"
     ]
    },
    {
     "data": {
      "image/png": "[encoded data removed]",
      "text/plain": [
       "<Figure size 640x480 with 1 Axes>"
      ]
     },
     "metadata": {},
     "output_type": "display_data"
    },
    {
     "name": "stdout",
     "output_type": "stream",
     "text": [
      "['loss', 'accuracy']\n",
      "Model Compiled and Trained\n",
      "Epoch 1/10\n",
      "1440/1440 [==============================] - 41s 28ms/step - loss: 0.0234 - accuracy: 0.9929\n",
      "Epoch 2/10\n",
      "1440/1440 [==============================] - 45s 31ms/step - loss: 0.0224 - accuracy: 0.9933\n",
      "Epoch 3/10\n",
      "1440/1440 [==============================] - 37s 26ms/step - loss: 0.0220 - accuracy: 0.9935\n",
      "Epoch 4/10\n",
      "1440/1440 [==============================] - 37s 26ms/step - loss: 0.0217 - accuracy: 0.9936\n",
      "Epoch 5/10\n",
      "1440/1440 [==============================] - 46s 32ms/step - loss: 0.0212 - accuracy: 0.9938\n",
      "Epoch 6/10\n",
      "1440/1440 [==============================] - 39s 27ms/step - loss: 0.0203 - accuracy: 0.9941\n",
      "Epoch 7/10\n",
      "1440/1440 [==============================] - 41s 28ms/step - loss: 0.0204 - accuracy: 0.9940\n",
      "Epoch 8/10\n",
      "1440/1440 [==============================] - 37s 26ms/step - loss: 0.0192 - accuracy: 0.9945\n",
      "Epoch 9/10\n",
      "1440/1440 [==============================] - 38s 26ms/step - loss: 0.0188 - accuracy: 0.9947\n",
      "Epoch 10/10\n",
      "1440/1440 [==============================] - 49s 34ms/step - loss: 0.0188 - accuracy: 0.9946\n"
     ]
    },
    {
     "data": {
      "image/png": "[encoded data removed]",
      "text/plain": [
       "<Figure size 640x480 with 1 Axes>"
      ]
     },
     "metadata": {},
     "output_type": "display_data"
    },
    {
     "name": "stdout",
     "output_type": "stream",
     "text": [
      "['loss', 'accuracy']\n",
      "Model Compiled and Trained\n",
      "Epoch 1/10\n",
      "1440/1440 [==============================] - 57s 38ms/step - loss: 0.1346 - accuracy: 0.9527\n",
      "Epoch 2/10\n",
      "1440/1440 [==============================] - 57s 40ms/step - loss: 0.0496 - accuracy: 0.9874\n",
      "Epoch 3/10\n",
      "1440/1440 [==============================] - 54s 38ms/step - loss: 0.0866 - accuracy: 0.9776\n",
      "Epoch 4/10\n",
      "1440/1440 [==============================] - 51s 35ms/step - loss: 0.0593 - accuracy: 0.9871\n",
      "Epoch 5/10\n",
      "1440/1440 [==============================] - 51s 35ms/step - loss: 0.0532 - accuracy: 0.9881\n",
      "Epoch 6/10\n",
      "1440/1440 [==============================] - 51s 35ms/step - loss: 0.0519 - accuracy: 0.9877\n",
      "Epoch 7/10\n",
      "1440/1440 [==============================] - 50s 35ms/step - loss: 0.0490 - accuracy: 0.9880\n",
      "Epoch 8/10\n",
      "1440/1440 [==============================] - 50s 34ms/step - loss: 0.0457 - accuracy: 0.9883\n",
      "Epoch 9/10\n",
      "1440/1440 [==============================] - 50s 34ms/step - loss: 0.0380 - accuracy: 0.9900\n",
      "Epoch 10/10\n",
      "1440/1440 [==============================] - 50s 34ms/step - loss: 0.0415 - accuracy: 0.9896\n"
     ]
    },
    {
     "data": {
      "image/png": "[encoded data removed]",
      "text/plain": [
       "<Figure size 640x480 with 1 Axes>"
      ]
     },
     "metadata": {},
     "output_type": "display_data"
    },
    {
     "name": "stdout",
     "output_type": "stream",
     "text": [
      "['loss', 'accuracy']\n",
      "Model Compiled and Trained\n",
      "Epoch 1/10\n",
      "1440/1440 [==============================] - 1s 767us/step - loss: 0.1796 - accuracy: 0.9655\n",
      "Epoch 2/10\n",
      "1440/1440 [==============================] - 1s 764us/step - loss: 0.0674 - accuracy: 0.9880\n",
      "Epoch 3/10\n",
      "1440/1440 [==============================] - 1s 810us/step - loss: 0.0612 - accuracy: 0.9881\n",
      "Epoch 4/10\n",
      "1440/1440 [==============================] - 1s 776us/step - loss: 0.0586 - accuracy: 0.9884\n",
      "Epoch 5/10\n",
      "1440/1440 [==============================] - 1s 775us/step - loss: 0.0569 - accuracy: 0.9887\n",
      "Epoch 6/10\n",
      "1440/1440 [==============================] - 1s 794us/step - loss: 0.0556 - accuracy: 0.9889\n",
      "Epoch 7/10\n",
      "1440/1440 [==============================] - 1s 795us/step - loss: 0.0546 - accuracy: 0.9889\n",
      "Epoch 8/10\n",
      "1440/1440 [==============================] - 1s 801us/step - loss: 0.0537 - accuracy: 0.9889\n",
      "Epoch 9/10\n",
      "1440/1440 [==============================] - 1s 801us/step - loss: 0.0529 - accuracy: 0.9887\n",
      "Epoch 10/10\n",
      "1440/1440 [==============================] - 1s 795us/step - loss: 0.0524 - accuracy: 0.9887\n"
     ]
    },
    {
     "data": {
      "image/png": "[encoded data removed]",
      "text/plain": [
       "<Figure size 640x480 with 1 Axes>"
      ]
     },
     "metadata": {},
     "output_type": "display_data"
    },
    {
     "name": "stdout",
     "output_type": "stream",
     "text": [
      "['loss', 'accuracy']\n",
      "Model Compiled and Trained\n",
      "Model Compiled and Trained\n"
     ]
    },
    {
     "name": "stderr",
     "output_type": "stream",
     "text": [
      "c:\\Python311\\Lib\\site-packages\\sklearn\\linear_model\\_logistic.py:458: ConvergenceWarning: lbfgs failed to converge (status=1):\n",
      "STOP: TOTAL NO. of ITERATIONS REACHED LIMIT.\n",
      "\n",
      "Increase the number of iterations (max_iter) or scale the data as shown in:\n",
      "    https://scikit-learn.org/stable/modules/preprocessing.html\n",
      "Please also refer to the documentation for alternative solver options:\n",
      "    https://scikit-learn.org/stable/modules/linear_model.html#logistic-regression\n",
      "  n_iter_i = _check_optimize_result(\n"
     ]
    },
    {
     "name": "stdout",
     "output_type": "stream",
     "text": [
      "Model Compiled and Trained\n",
      "Model Compiled and Trained\n",
      "Model Compiled and Trained\n"
     ]
    }
   ],
   "source": [
    "#### For the Next RUN -> divide each model, because the output in jupyter is compressed\n",
    "## Comment next 2 blocks if loading pre-trained models\n",
    "## Execute them if training new models\n",
    "\n",
    "'''model_gru = GRU_model(82) #quando treina novo modelo\n",
    "model_cnn = CNN_model(82)\n",
    "model_lstm = LSTM_model(82)\n",
    "model_dnn = DNN_model(X_train.shape[1])\n",
    "model_svm = SVM()\n",
    "model_lr = LR()\n",
    "model_gd = GD()\n",
    "model_knn = kNN()\n",
    "\n",
    "model_gru.summary()'''\n",
    " \n",
    "model_gru = compile_train(model_gru,format_3d(X_train),y_train)  #quando treina novo modelo, ou retreina\n",
    "model_cnn = compile_train(model_cnn,format_3d(X_train),y_train)\n",
    "model_lstm = compile_train(model_lstm,format_3d(X_train),y_train)\n",
    "model_dnn = compile_train(model_dnn,X_train,y_train)\n",
    "model_svm = compile_train(model_svm,X_train,y_train,False)\n",
    "model_lr = compile_train(model_lr,X_train,y_train,False)\n",
    "model_gd = compile_train(model_gd,X_train,y_train,False)\n",
    "model_knn = compile_train(model_knn,X_train,y_train,False)\n",
    "\n",
    "## Comment next 2 blocks if training new models\n",
    "## Execute them if loading pre-trained models\n",
    "\n",
    "# model_gru = load_model('GRU20-32-b256') #when loading previously saved trained model and weights\n",
    "# model_cnn = load_model('CNN5-3cam-b2560')\n",
    "# model_lstm = load_model('LSTM5-32-b256')\n",
    "# model_dnn = load_model('DNN5-2560')\n",
    "# model_svm = load_Sklearn('SVM')\n",
    "# model_lr = load_Sklearn('LR')\n",
    "# model_gd = load_Sklearn('GD')\n",
    "# model_knn = load_Sklearn('kNN-1viz')\n",
    "\n",
    "# model_gru.compile(loss='binary_crossentropy', optimizer='adam', metrics=['accuracy']) #qdo carrega modelo salvo\n",
    "# model_cnn.compile(loss='binary_crossentropy', optimizer='adam', metrics=['accuracy'])\n",
    "# model_lstm.compile(loss='binary_crossentropy', optimizer='adam', metrics=['accuracy'])\n",
    "# model_dnn.compile(loss='binary_crossentropy', optimizer='adam', metrics=['accuracy'])\n"
   ]
  },
  {
   "attachments": {},
   "cell_type": "markdown",
   "metadata": {},
   "source": [
    "# Testing CIC-DDoS2019 "
   ]
  },
  {
   "cell_type": "code",
   "execution_count": 63,
   "metadata": {},
   "outputs": [],
   "source": [
    "results = pd.DataFrame(columns=['Method','Accuracy','Precision','Recall', 'F1_Score', 'Average','Normal_Detect_Rate','Atk_Detect_Rate'])"
   ]
  },
  {
   "attachments": {},
   "cell_type": "markdown",
   "metadata": {},
   "source": [
    "### GRU"
   ]
  },
  {
   "cell_type": "code",
   "execution_count": 68,
   "metadata": {},
   "outputs": [
    {
     "name": "stdout",
     "output_type": "stream",
     "text": [
      "9331/9331 [==============================] - 40s 4ms/step\n",
      "9331/9331 [==============================] - 47s 5ms/step - loss: 0.0150 - accuracy: 0.9975\n",
      "[0.01498925406485796, 0.9974713325500488]\n",
      "\n",
      "Accuracy\n",
      "0.9974713475205809\n",
      "\n",
      "Precision\n",
      "0.9994161465673445\n",
      "\n",
      "Recall\n",
      "0.9975483793179671\n",
      "\n",
      "F1 Score\n",
      "0.9984813894783423\n",
      "\n",
      "Average (acc, prec, rec, f1)\n",
      "0.9982293157210588\n"
     ]
    }
   ],
   "source": [
    "y_pred = model_gru.predict(format_3d(X_test)) \n",
    "\n",
    "y_pred = y_pred.round()\n",
    " \n",
    "acc, prec, rec, f1, avrg = testes(model_gru,format_3d(X_test),y_test,y_pred)\n",
    "\n",
    "norm, atk = test_normal_atk(y_test,y_pred)\n",
    "\n",
    "# create a DataFrame from the dictionary\n",
    "result_df = pd.DataFrame({'Method': 'GRU',\n",
    "                          'Accuracy': acc,\n",
    "                          'Precision': prec,\n",
    "                          'F1_Score': f1,\n",
    "                          'Recall': rec,\n",
    "                          'Average': avrg,\n",
    "                          'Normal_Detect_Rate': norm,\n",
    "                          'Atk_Detect_Rate': atk}, index=[0])\n",
    "\n",
    "# concatenate the new DataFrame with the existing results DataFrame\n",
    "results = pd.concat([results, result_df], ignore_index=True)"
   ]
  },
  {
   "attachments": {},
   "cell_type": "markdown",
   "metadata": {},
   "source": [
    "### CNN"
   ]
  },
  {
   "cell_type": "code",
   "execution_count": 69,
   "metadata": {},
   "outputs": [
    {
     "name": "stdout",
     "output_type": "stream",
     "text": [
      "9331/9331 [==============================] - 34s 4ms/step\n",
      "9331/9331 [==============================] - 41s 4ms/step - loss: 0.0180 - accuracy: 0.9927\n",
      "[0.01795920915901661, 0.9926786422729492]\n",
      "\n",
      "Accuracy\n",
      "0.9926786300397216\n",
      "\n",
      "Precision\n",
      "0.9921418223469172\n",
      "\n",
      "Recall\n",
      "0.9991278660852441\n",
      "\n",
      "F1 Score\n",
      "0.9956225895206475\n",
      "\n",
      "Average (acc, prec, rec, f1)\n",
      "0.9948927269981326\n"
     ]
    }
   ],
   "source": [
    "y_pred = model_cnn.predict(format_3d(X_test)) \n",
    "\n",
    "y_pred = y_pred.round()\n",
    " \n",
    "acc, prec, rec, f1, avrg = testes(model_cnn,format_3d(X_test),y_test,y_pred)\n",
    "\n",
    "norm, atk = test_normal_atk(y_test,y_pred)\n",
    "\n",
    "# create a DataFrame from the dictionary\n",
    "result_df = pd.DataFrame({'Method':'CNN', 'Accuracy':acc, 'Precision':prec, 'F1_Score':f1,\n",
    "                          'Recall':rec,'Average':avrg, 'Normal_Detect_Rate':norm, 'Atk_Detect_Rate':atk}, index=[0])\n",
    "\n",
    "# concatenate the new DataFrame with the existing results DataFrame\n",
    "results = pd.concat([results, result_df], ignore_index=True)"
   ]
  },
  {
   "attachments": {},
   "cell_type": "markdown",
   "metadata": {},
   "source": [
    "### LSTM"
   ]
  },
  {
   "cell_type": "code",
   "execution_count": 70,
   "metadata": {},
   "outputs": [
    {
     "name": "stdout",
     "output_type": "stream",
     "text": [
      "9331/9331 [==============================] - 100s 11ms/step\n",
      "9331/9331 [==============================] - 269s 29ms/step - loss: 0.0217 - accuracy: 0.9963\n",
      "[0.021748574450612068, 0.9962823987007141]\n",
      "\n",
      "Accuracy\n",
      "0.9962823784739666\n",
      "\n",
      "Precision\n",
      "0.9990410224795613\n",
      "\n",
      "Recall\n",
      "0.9964953881397826\n",
      "\n",
      "F1 Score\n",
      "0.9977665816223873\n",
      "\n",
      "Average (acc, prec, rec, f1)\n",
      "0.9973963426789245\n"
     ]
    }
   ],
   "source": [
    "y_pred = model_lstm.predict(format_3d(X_test))\n",
    "\n",
    "y_pred = y_pred.round()\n",
    " \n",
    "acc, prec, rec, f1, avrg = testes(model_lstm,format_3d(X_test),y_test,y_pred)\n",
    "\n",
    "norm, atk = test_normal_atk(y_test,y_pred)\n",
    "\n",
    "# create a DataFrame from the dictionary\n",
    "result_df = pd.DataFrame({'Method':'LSTM', 'Accuracy':acc, 'Precision':prec, 'F1_Score':f1,\n",
    "                          'Recall':rec,'Average':avrg, 'Normal_Detect_Rate':norm, 'Atk_Detect_Rate':atk}, index=[0])\n",
    "\n",
    "# concatenate the new DataFrame with the existing results DataFrame\n",
    "results = pd.concat([results, result_df], ignore_index=True)\n"
   ]
  },
  {
   "attachments": {},
   "cell_type": "markdown",
   "metadata": {},
   "source": [
    "### DNN"
   ]
  },
  {
   "cell_type": "code",
   "execution_count": 71,
   "metadata": {},
   "outputs": [
    {
     "name": "stdout",
     "output_type": "stream",
     "text": [
      "9331/9331 [==============================] - 9s 984us/step\n",
      "9331/9331 [==============================] - 13s 1ms/step - loss: 0.0619 - accuracy: 0.9979\n",
      "[0.06188807636499405, 0.9979034066200256]\n",
      "\n",
      "Accuracy\n",
      "0.9979033954276605\n",
      "\n",
      "Precision\n",
      "0.9982334212607751\n",
      "\n",
      "Recall\n",
      "0.9992524566444949\n",
      "\n",
      "F1 Score\n",
      "0.9987426790176024\n",
      "\n",
      "Average (acc, prec, rec, f1)\n",
      "0.9985329880876332\n"
     ]
    }
   ],
   "source": [
    "y_pred = model_dnn.predict(X_test) \n",
    "\n",
    "y_pred = y_pred.round()\n",
    " \n",
    "acc, prec, rec, f1, avrg = testes(model_dnn,X_test,y_test,y_pred)\n",
    "\n",
    "norm, atk = test_normal_atk(y_test,y_pred)\n",
    "\n",
    "# create a DataFrame from the dictionary\n",
    "result_df = pd.DataFrame({'Method':'DNN', 'Accuracy':acc, 'Precision':prec, 'F1_Score':f1,\n",
    "                          'Recall':rec,'Average':avrg, 'Normal_Detect_Rate':norm, 'Atk_Detect_Rate':atk}, index=[0])\n",
    "\n",
    "# concatenate the new DataFrame with the existing results DataFrame\n",
    "results = pd.concat([results, result_df], ignore_index=True)"
   ]
  },
  {
   "attachments": {},
   "cell_type": "markdown",
   "metadata": {},
   "source": [
    "### SVM"
   ]
  },
  {
   "cell_type": "code",
   "execution_count": 72,
   "metadata": {},
   "outputs": [
    {
     "name": "stdout",
     "output_type": "stream",
     "text": [
      "\n",
      "Accuracy\n",
      "0.9986502689414491\n",
      "\n",
      "Precision\n",
      "0.9991480332427783\n",
      "\n",
      "Recall\n",
      "0.9992323613930029\n",
      "\n",
      "F1 Score\n",
      "0.9991901955386405\n",
      "\n",
      "Average (acc, prec, rec, f1)\n",
      "0.9990552147789676\n"
     ]
    }
   ],
   "source": [
    "y_pred = model_svm.predict(X_test) \n",
    "\n",
    "y_pred = y_pred.round()\n",
    " \n",
    "acc, prec, rec, f1, avrg = testes(model_svm,X_test,y_test,y_pred,False)\n",
    "\n",
    "norm, atk = test_normal_atk(y_test,y_pred)\n",
    "\n",
    "# create a DataFrame from the dictionary\n",
    "result_df = pd.DataFrame({'Method':'SVM', 'Accuracy':acc, 'Precision':prec, 'F1_Score':f1,\n",
    "                          'Recall':rec,'Average':avrg, 'Normal_Detect_Rate':norm, 'Atk_Detect_Rate':atk}, index=[0])\n",
    "\n",
    "# concatenate the new DataFrame with the existing results DataFrame\n",
    "results = pd.concat([results, result_df], ignore_index=True)"
   ]
  },
  {
   "attachments": {},
   "cell_type": "markdown",
   "metadata": {},
   "source": [
    "### LR"
   ]
  },
  {
   "cell_type": "code",
   "execution_count": 73,
   "metadata": {},
   "outputs": [
    {
     "name": "stdout",
     "output_type": "stream",
     "text": [
      "\n",
      "Accuracy\n",
      "0.9973005378828983\n",
      "\n",
      "Precision\n",
      "0.9990060482167217\n",
      "\n",
      "Recall\n",
      "0.9977533508831863\n",
      "\n",
      "F1 Score\n",
      "0.9983793066006056\n",
      "\n",
      "Average (acc, prec, rec, f1)\n",
      "0.998109810895853\n"
     ]
    }
   ],
   "source": [
    "y_pred = model_lr.predict(X_test) \n",
    "\n",
    "y_pred = y_pred.round()\n",
    " \n",
    "acc, prec, rec, f1, avrg = testes(model_lr,X_test,y_test,y_pred,False)\n",
    "\n",
    "norm, atk = test_normal_atk(y_test,y_pred)\n",
    "\n",
    "# create a DataFrame from the dictionary\n",
    "result_df = pd.DataFrame({'Method':'LR', 'Accuracy':acc, 'Precision':prec, 'F1_Score':f1,\n",
    "                          'Recall':rec,'Average':avrg, 'Normal_Detect_Rate':norm, 'Atk_Detect_Rate':atk}, index=[0])\n",
    "\n",
    "# concatenate the new DataFrame with the existing results DataFrame\n",
    "results = pd.concat([results, result_df], ignore_index=True)"
   ]
  },
  {
   "attachments": {},
   "cell_type": "markdown",
   "metadata": {},
   "source": [
    "### GB"
   ]
  },
  {
   "cell_type": "code",
   "execution_count": 74,
   "metadata": {},
   "outputs": [
    {
     "name": "stdout",
     "output_type": "stream",
     "text": [
      "\n",
      "Accuracy\n",
      "0.9986804118186873\n",
      "\n",
      "Precision\n",
      "0.9991881844669949\n",
      "\n",
      "Recall\n",
      "0.9992283423427044\n",
      "\n",
      "F1 Score\n",
      "0.9992082630013666\n",
      "\n",
      "Average (acc, prec, rec, f1)\n",
      "0.9990763004074383\n"
     ]
    }
   ],
   "source": [
    "y_pred = model_gd.predict(X_test) \n",
    "\n",
    "y_pred = y_pred.round()\n",
    " \n",
    "acc, prec, rec, f1, avrg = testes(model_gd,X_test,y_test,y_pred,False)\n",
    "\n",
    "norm, atk = test_normal_atk(y_test,y_pred)\n",
    "\n",
    "# create a DataFrame from the dictionary\n",
    "result_df = pd.DataFrame({'Method':'GB', 'Accuracy':acc, 'Precision':prec, 'F1_Score':f1,\n",
    "                          'Recall':rec,'Average':avrg, 'Normal_Detect_Rate':norm, 'Atk_Detect_Rate':atk}, index=[0])\n",
    "\n",
    "# concatenate the new DataFrame with the existing results DataFrame\n",
    "results = pd.concat([results, result_df], ignore_index=True)"
   ]
  },
  {
   "attachments": {},
   "cell_type": "markdown",
   "metadata": {},
   "source": [
    "### kNN"
   ]
  },
  {
   "cell_type": "code",
   "execution_count": 75,
   "metadata": {},
   "outputs": [
    {
     "name": "stdout",
     "output_type": "stream",
     "text": [
      "\n",
      "Accuracy\n",
      "0.9987038562787613\n",
      "\n",
      "Precision\n",
      "0.999549571288387\n",
      "\n",
      "Recall\n",
      "0.998894761167936\n",
      "\n",
      "F1 Score\n",
      "0.9992220589506439\n",
      "\n",
      "Average (acc, prec, rec, f1)\n",
      "0.9990925619214321\n"
     ]
    }
   ],
   "source": [
    "y_pred = model_knn.predict(X_test) \n",
    "\n",
    "y_pred = y_pred.round()\n",
    " \n",
    "acc, prec, rec, f1, avrg = testes(model_knn,X_test,y_test,y_pred,False)\n",
    "\n",
    "norm, atk = test_normal_atk(y_test,y_pred)\n",
    "\n",
    "# create a DataFrame from the dictionary\n",
    "result_df = pd.DataFrame({'Method':'kNN', 'Accuracy':acc, 'Precision':prec, 'F1_Score':f1,\n",
    "                          'Recall':rec,'Average':avrg, 'Normal_Detect_Rate':norm, 'Atk_Detect_Rate':atk}, index=[0])\n",
    "\n",
    "# concatenate the new DataFrame with the existing results DataFrame\n",
    "results = pd.concat([results, result_df], ignore_index=True)"
   ]
  },
  {
   "attachments": {},
   "cell_type": "markdown",
   "metadata": {},
   "source": [
    "# Discussion and Results\n",
    "\n",
    "Showing the table 'results', containing the performance metrics outcomes for each method."
   ]
  },
  {
   "cell_type": "code",
   "execution_count": 76,
   "metadata": {},
   "outputs": [
    {
     "data": {
      "text/html": [
       "<div>\n",
       "<style scoped>\n",
       "    .dataframe tbody tr th:only-of-type {\n",
       "        vertical-align: middle;\n",
       "    }\n",
       "\n",
       "    .dataframe tbody tr th {\n",
       "        vertical-align: top;\n",
       "    }\n",
       "\n",
       "    .dataframe thead th {\n",
       "        text-align: right;\n",
       "    }\n",
       "</style>\n",
       "<table border=\"1\" class=\"dataframe\">\n",
       "  <thead>\n",
       "    <tr style=\"text-align: right;\">\n",
       "      <th></th>\n",
       "      <th>Method</th>\n",
       "      <th>Accuracy</th>\n",
       "      <th>Precision</th>\n",
       "      <th>Recall</th>\n",
       "      <th>F1_Score</th>\n",
       "      <th>Average</th>\n",
       "      <th>Normal_Detect_Rate</th>\n",
       "      <th>Atk_Detect_Rate</th>\n",
       "    </tr>\n",
       "  </thead>\n",
       "  <tbody>\n",
       "    <tr>\n",
       "      <th>0</th>\n",
       "      <td>GRU</td>\n",
       "      <td>0.997471</td>\n",
       "      <td>0.999416</td>\n",
       "      <td>0.997548</td>\n",
       "      <td>0.998481</td>\n",
       "      <td>0.998229</td>\n",
       "      <td>0.997086</td>\n",
       "      <td>0.997548</td>\n",
       "    </tr>\n",
       "    <tr>\n",
       "      <th>1</th>\n",
       "      <td>CNN</td>\n",
       "      <td>0.992679</td>\n",
       "      <td>0.992142</td>\n",
       "      <td>0.999128</td>\n",
       "      <td>0.995623</td>\n",
       "      <td>0.994893</td>\n",
       "      <td>0.960432</td>\n",
       "      <td>0.999128</td>\n",
       "    </tr>\n",
       "    <tr>\n",
       "      <th>2</th>\n",
       "      <td>LSTM</td>\n",
       "      <td>0.996282</td>\n",
       "      <td>0.999041</td>\n",
       "      <td>0.996495</td>\n",
       "      <td>0.997767</td>\n",
       "      <td>0.997396</td>\n",
       "      <td>0.995217</td>\n",
       "      <td>0.996495</td>\n",
       "    </tr>\n",
       "    <tr>\n",
       "      <th>3</th>\n",
       "      <td>DNN</td>\n",
       "      <td>0.997903</td>\n",
       "      <td>0.998233</td>\n",
       "      <td>0.999252</td>\n",
       "      <td>0.998743</td>\n",
       "      <td>0.998533</td>\n",
       "      <td>0.991158</td>\n",
       "      <td>0.999252</td>\n",
       "    </tr>\n",
       "    <tr>\n",
       "      <th>4</th>\n",
       "      <td>SVM</td>\n",
       "      <td>0.998650</td>\n",
       "      <td>0.999148</td>\n",
       "      <td>0.999232</td>\n",
       "      <td>0.999190</td>\n",
       "      <td>0.999055</td>\n",
       "      <td>0.995740</td>\n",
       "      <td>0.999232</td>\n",
       "    </tr>\n",
       "    <tr>\n",
       "      <th>5</th>\n",
       "      <td>LR</td>\n",
       "      <td>0.997301</td>\n",
       "      <td>0.999006</td>\n",
       "      <td>0.997753</td>\n",
       "      <td>0.998379</td>\n",
       "      <td>0.998110</td>\n",
       "      <td>0.995036</td>\n",
       "      <td>0.997753</td>\n",
       "    </tr>\n",
       "    <tr>\n",
       "      <th>6</th>\n",
       "      <td>GB</td>\n",
       "      <td>0.998680</td>\n",
       "      <td>0.999188</td>\n",
       "      <td>0.999228</td>\n",
       "      <td>0.999208</td>\n",
       "      <td>0.999076</td>\n",
       "      <td>0.995941</td>\n",
       "      <td>0.999228</td>\n",
       "    </tr>\n",
       "    <tr>\n",
       "      <th>7</th>\n",
       "      <td>kNN</td>\n",
       "      <td>0.998704</td>\n",
       "      <td>0.999550</td>\n",
       "      <td>0.998895</td>\n",
       "      <td>0.999222</td>\n",
       "      <td>0.999093</td>\n",
       "      <td>0.997749</td>\n",
       "      <td>0.998895</td>\n",
       "    </tr>\n",
       "  </tbody>\n",
       "</table>\n",
       "</div>"
      ],
      "text/plain": [
       "  Method  Accuracy  Precision    Recall  F1_Score   Average   \n",
       "0    GRU  0.997471   0.999416  0.997548  0.998481  0.998229  \\\n",
       "1    CNN  0.992679   0.992142  0.999128  0.995623  0.994893   \n",
       "2   LSTM  0.996282   0.999041  0.996495  0.997767  0.997396   \n",
       "3    DNN  0.997903   0.998233  0.999252  0.998743  0.998533   \n",
       "4    SVM  0.998650   0.999148  0.999232  0.999190  0.999055   \n",
       "5     LR  0.997301   0.999006  0.997753  0.998379  0.998110   \n",
       "6     GB  0.998680   0.999188  0.999228  0.999208  0.999076   \n",
       "7    kNN  0.998704   0.999550  0.998895  0.999222  0.999093   \n",
       "\n",
       "   Normal_Detect_Rate  Atk_Detect_Rate  \n",
       "0            0.997086         0.997548  \n",
       "1            0.960432         0.999128  \n",
       "2            0.995217         0.996495  \n",
       "3            0.991158         0.999252  \n",
       "4            0.995740         0.999232  \n",
       "5            0.995036         0.997753  \n",
       "6            0.995941         0.999228  \n",
       "7            0.997749         0.998895  "
      ]
     },
     "execution_count": 76,
     "metadata": {},
     "output_type": "execute_result"
    }
   ],
   "source": [
    "results"
   ]
  },
  {
   "attachments": {},
   "cell_type": "markdown",
   "metadata": {},
   "source": [
    "**Classification Metrics:**\n",
    "* Accuracy\n",
    "* Precision\n",
    "* Recall\n",
    "* F1 Measure (F1 Score)\n",
    "\n",
    "Showing performance outcomes of the methods: \n",
    "* GRU\n",
    "* DNN\n",
    "* SVM\n",
    "* LR\n",
    "* GB\n",
    "* kNN\n",
    "\n",
    "LSTM and CNN were separated for visualization improvement."
   ]
  },
  {
   "cell_type": "code",
   "execution_count": 77,
   "metadata": {},
   "outputs": [],
   "source": [
    "import seaborn as sns\n",
    "import matplotlib.pyplot as plt\n",
    "sns.set()"
   ]
  },
  {
   "cell_type": "code",
   "execution_count": 78,
   "metadata": {},
   "outputs": [
    {
     "data": {
      "image/png": "[encoded data removed]",
      "text/plain": [
       "<Figure size 1800x600 with 6 Axes>"
      ]
     },
     "metadata": {},
     "output_type": "display_data"
    }
   ],
   "source": [
    "ax = sns.catplot(data=results.iloc[:,:5].query('Method != \"LSTM\" and Method != \"CNN\"'), col='Method', col_wrap=3, kind='bar', height=3, aspect=2)\n",
    "ax.set(ylim=(0.99,1))\n",
    "ax.set_xticklabels(rotation=45)\n",
    "ax = ax\n"
   ]
  },
  {
   "attachments": {},
   "cell_type": "markdown",
   "metadata": {},
   "source": [
    "> As observed, the evaluated methods achieved good performance outcomes close to 1. As the evaluated methods achieved similar outcomes, a more specific analysis should be performed."
   ]
  },
  {
   "attachments": {},
   "cell_type": "markdown",
   "metadata": {},
   "source": [
    "Showing results of the LSTM and CNN methods."
   ]
  },
  {
   "cell_type": "code",
   "execution_count": 79,
   "metadata": {},
   "outputs": [
    {
     "data": {
      "image/png": "[encoded data removed]",
      "text/plain": [
       "<Figure size 1800x300 with 2 Axes>"
      ]
     },
     "metadata": {},
     "output_type": "display_data"
    }
   ],
   "source": [
    "ax = sns.catplot(data=results.iloc[:,:5].query('Method == \"LSTM\" or Method == \"CNN\"'), col='Method', col_wrap=3, kind='bar', height=3, aspect=2)\n",
    "ax.set(ylim=(0.97,1))\n",
    "ax.set_xticklabels(rotation=45)\n",
    "ax = ax"
   ]
  },
  {
   "attachments": {},
   "cell_type": "markdown",
   "metadata": {},
   "source": [
    "> CNN and LSTM fared worse between the tested approaches. However, these methods achieved performance metrics above 97%, which is a relatively good outcome. "
   ]
  },
  {
   "attachments": {},
   "cell_type": "markdown",
   "metadata": {},
   "source": [
    "**Average of the Metrics**\n",
    "\n",
    "Plotting the Average of the previously mentioned performance metrics to summarize the method's results. "
   ]
  },
  {
   "cell_type": "code",
   "execution_count": 81,
   "metadata": {},
   "outputs": [
    {
     "name": "stderr",
     "output_type": "stream",
     "text": [
      "C:\\Users\\anicc\\AppData\\Local\\Temp\\ipykernel_34012\\3242924192.py:5: UserWarning: FixedFormatter should only be used together with FixedLocator\n",
      "  ax.set_xticklabels(ax.get_xticklabels(), fontsize=12)\n"
     ]
    },
    {
     "data": {
      "image/png": "[encoded data removed]",
      "text/plain": [
       "<Figure size 1200x400 with 1 Axes>"
      ]
     },
     "metadata": {},
     "output_type": "display_data"
    }
   ],
   "source": [
    "plt.figure(figsize=(12,4))\n",
    "ax = sns.barplot(data=results, y='Method', x='Average')\n",
    "ax.set(xlim=(0.98,1))\n",
    "ax.set_title('Average of the Metrics', fontsize=18, loc='left')\n",
    "ax.set_xticklabels(ax.get_xticklabels(), fontsize=12)\n",
    "ax = ax"
   ]
  },
  {
   "attachments": {},
   "cell_type": "markdown",
   "metadata": {},
   "source": [
    "> As observed, on average, kNN fared slightly better compared to GB, LR, SVM, and GRU, which, in turn, achieved very similar results. However, these methods performed nearly 99.9%, which is considered a good classification outcome. "
   ]
  },
  {
   "attachments": {},
   "cell_type": "markdown",
   "metadata": {},
   "source": [
    "**Detection rate of Normal and Attack flow records**\n",
    "\n",
    "The following plot shows the results of each method for classifying normal and attack flow records."
   ]
  },
  {
   "cell_type": "code",
   "execution_count": 82,
   "metadata": {},
   "outputs": [
    {
     "data": {
      "image/png": "[encoded data removed]",
      "text/plain": [
       "<Figure size 1800x900 with 8 Axes>"
      ]
     },
     "metadata": {},
     "output_type": "display_data"
    }
   ],
   "source": [
    "ax = sns.catplot(data=results[['Method', 'Normal_Detect_Rate', 'Atk_Detect_Rate']], col='Method', col_wrap=3, kind='bar', height=3, aspect=2)\n",
    "ax.set(ylim=(0.97,1))\n",
    "ax.set_xticklabels(rotation=45)\n",
    "ax = ax\n"
   ]
  },
  {
   "attachments": {},
   "cell_type": "markdown",
   "metadata": {},
   "source": [
    "> kNN achieved the best classification outcomes. \n",
    "\n",
    "> GRU showed the most balanced approach regarding classifying normal and attack flows. \n",
    "\n",
    "> Although CNN achieved a relatively good classification of attacks, the classification of normal record flows was low compared to other methods. This result can explain the Accuracy rate of this method. This situation also occurs with the LSTM method, which achieved a good classification rate for normal flows and a low classification rate for attack ones. "
   ]
  }
 ],
 "metadata": {
  "kernelspec": {
   "display_name": "Python 3 (ipykernel)",
   "language": "python",
   "name": "python3"
  },
  "language_info": {
   "codemirror_mode": {
    "name": "ipython",
    "version": 3
   },
   "file_extension": ".py",
   "mimetype": "text/x-python",
   "name": "python",
   "nbconvert_exporter": "python",
   "pygments_lexer": "ipython3",
   "version": "3.11.3"
  }
 },
 "nbformat": 4,
 "nbformat_minor": 2
}
