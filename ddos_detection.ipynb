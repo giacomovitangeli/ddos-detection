{
 "cells": [
  {
   "cell_type": "markdown",
   "metadata": {},
   "source": [
    "# Machine and Deep Learning for DDoS Detection\n",
    "### Marcos V. O. Assis (mvoassis@gmail.com)\n",
    "***\n",
    "\n",
    "> ## Published Results:\n",
    "\n",
    "* *A GRU deep learning system against attacks in software defined networks*\n",
    "\n",
    "* https://doi.org/10.1016/j.jnca.2020.102942\n",
    "\n",
    "\n",
    "\n",
    "* \\***Update - 06/2022** - improved detection results through better data cleaning process. Updated results on Git. \n",
    "\n",
    "> ## Objectives\n",
    "\n",
    "1. Evaluate different Machine and Deep Learning methods for anomaly detection.\n",
    "2. Detection of Distributed Denial of Service Attacks\n",
    "\n",
    "> ## Dataset\n",
    "\n",
    "* CIC-DDoS2019 - https://www.unb.ca/cic/datasets/ddos-2019.html\n",
    "\n",
    "> ## Evaluated Methods\n",
    "\n",
    "* Gated Recurrent Units (GRU)\n",
    "* Long-Short Term Memory (LSTM)\n",
    "* Convolutional Neural Network (CNN)\n",
    "* Deep Neural Network (DNN)\n",
    "* Support Vector Machine (SVM)\n",
    "* Logistic Regression (LR)\n",
    "* Gradient Descent (GD)\n",
    "* k Nearest Neighbors (kNN)\n",
    "\n",
    "> ## Environment Config.\n",
    "\n",
    "* Python 3.7.13\n",
    "* Numpy 1.16.4\n",
    "* Scikit-learn 0.21.2\n",
    "* Pandas 0.24.2\n",
    "* Tensorflow 1.14.0\n",
    "* Keras 2.2.4\n",
    "* Matplotlib 3.1.0\n",
    "* Seaborn 0.11.2\n",
    "\n",
    "***"
   ]
  },
  {
   "cell_type": "markdown",
   "metadata": {},
   "source": [
    "# Importing and treating CIC-DDoS-2019"
   ]
  },
  {
   "cell_type": "code",
   "execution_count": 1,
   "metadata": {},
   "outputs": [],
   "source": [
    "import pandas as pd\n",
    "import numpy as np\n",
    "from sklearn.utils import resample\n",
    "from sklearn import preprocessing"
   ]
  },
  {
   "cell_type": "markdown",
   "metadata": {},
   "source": [
    "## Defining functions to load files and downsample them\n",
    "\n",
    "As this research aims to develop a binary detector (Attack or Normal), we should balance the dataset between these two classes. However, CIC-DDOS2019 has few normal flows in it. Thus, downsampling is necessary.\n",
    "\n",
    "For the downsampling process, we allow anomalous flows to be \"mult\" times bigger than normal flows. This approach aims to reduce class disbalance while preventing information losses on attack flows (when the number of attack flows is downsampled to the number of normal ones, ML models could not fit appropriately).  "
   ]
  },
  {
   "cell_type": "code",
   "execution_count": 2,
   "metadata": {},
   "outputs": [],
   "source": [
    "mult = 5\n",
    "\n",
    "def load_file(path):\n",
    "    data = pd.read_csv(path, sep=',')\n",
    "\n",
    "    is_benign = data[' Label']=='BENIGN'\n",
    "    flows_ok = data[is_benign]\n",
    "    flows_ddos_full = data[~is_benign]\n",
    "    \n",
    "    sizeDownSample = len(flows_ok)*mult # tamanho do set final de dados anomalos\n",
    "    \n",
    "    # downsample majority\n",
    "    if (len(flows_ok)*mult) < (len(flows_ddos_full)): \n",
    "        flows_ddos_reduced = resample(flows_ddos_full,\n",
    "                                         replace = False, # sample without replacement\n",
    "                                         n_samples = sizeDownSample, # match minority n\n",
    "                                         random_state = 27) # reproducible results\n",
    "    else:\n",
    "        flows_ddos_reduced = flows_ddos_full\n",
    "    \n",
    "    return flows_ok, flows_ddos_reduced\n",
    "\n",
    " \n",
    "def load_huge_file(path):\n",
    "    df_chunk = pd.read_csv(path, chunksize=500000)\n",
    "    \n",
    "    chunk_list_ok = []  # append each chunk df here \n",
    "    chunk_list_ddos = [] \n",
    "\n",
    "    # Each chunk is in df format\n",
    "    for chunk in df_chunk:  \n",
    "        # perform data filtering \n",
    "        is_benign = chunk[' Label']=='BENIGN'\n",
    "        flows_ok = chunk[is_benign]\n",
    "        flows_ddos_full = chunk[~is_benign]\n",
    "        \n",
    "        if (len(flows_ok)*mult) < (len(flows_ddos_full)): \n",
    "            sizeDownSample = len(flows_ok)*mult # tamanho do set final de dados anomalos\n",
    "            \n",
    "            # downsample majority\n",
    "            flows_ddos_reduced = resample(flows_ddos_full,\n",
    "                                             replace = False, # sample without replacement\n",
    "                                             n_samples = sizeDownSample, # match minority n\n",
    "                                             random_state = 27) # reproducible results \n",
    "        else:\n",
    "            flows_ddos_reduced = flows_ddos_full\n",
    "            \n",
    "        # Once the data filtering is done, append the chunk to list\n",
    "        chunk_list_ok.append(flows_ok)\n",
    "        chunk_list_ddos.append(flows_ddos_reduced)\n",
    "        \n",
    "    # concat the list into dataframe \n",
    "    flows_ok = pd.concat(chunk_list_ok)\n",
    "    flows_ddos = pd.concat(chunk_list_ddos)\n",
    "    \n",
    "    return flows_ok, flows_ddos"
   ]
  },
  {
   "cell_type": "markdown",
   "metadata": {},
   "source": [
    "## Loading CIC-DDoS2019 - Day 1 (training)"
   ]
  },
  {
   "cell_type": "code",
   "execution_count": 13,
   "metadata": {},
   "outputs": [
    {
     "name": "stderr",
     "output_type": "stream",
     "text": [
      "D:\\Users\\mvoas\\Anaconda3\\lib\\site-packages\\IPython\\core\\interactiveshell.py:3248: DtypeWarning: Columns (85) have mixed types. Specify dtype option on import or set low_memory=False.\n",
      "  if (await self.run_code(code, result,  async_=asy)):\n"
     ]
    },
    {
     "name": "stdout",
     "output_type": "stream",
     "text": [
      "file 1 loaded\n",
      "file 2 loaded\n",
      "file 3 loaded\n",
      "file 4 loaded\n",
      "file 5 loaded\n",
      "file 6 loaded\n",
      "file 7 loaded\n",
      "file 8 loaded\n"
     ]
    },
    {
     "name": "stderr",
     "output_type": "stream",
     "text": [
      "D:\\Users\\mvoas\\Anaconda3\\lib\\site-packages\\IPython\\core\\interactiveshell.py:3248: DtypeWarning: Columns (21,85) have mixed types. Specify dtype option on import or set low_memory=False.\n",
      "  if (await self.run_code(code, result,  async_=asy)):\n"
     ]
    },
    {
     "name": "stdout",
     "output_type": "stream",
     "text": [
      "file 9 loaded\n",
      "file 10 loaded\n",
      "file 11 loaded\n"
     ]
    }
   ],
   "source": [
    "# file 1\n",
    "flows_ok, flows_ddos = load_huge_file('cicddos2019/01-12/TFTP.csv')\n",
    "print('file 1 loaded')\n",
    "\n",
    "# file 2\n",
    "a,b = load_file('cicddos2019/01-12/DrDoS_LDAP.csv')\n",
    "flows_ok = flows_ok.append(a,ignore_index=True)\n",
    "flows_ddos = flows_ddos.append(b,ignore_index=True)\n",
    "print('file 2 loaded')\n",
    "\n",
    "# file 3\n",
    "a,b = load_file('cicddos2019/01-12/DrDoS_MSSQL.csv')\n",
    "flows_ok = flows_ok.append(a,ignore_index=True)\n",
    "flows_ddos = flows_ddos.append(b,ignore_index=True)\n",
    "print('file 3 loaded')\n",
    "\n",
    "# file 4\n",
    "a,b = load_file('cicddos2019/01-12/DrDoS_NetBIOS.csv')\n",
    "flows_ok = flows_ok.append(a,ignore_index=True)\n",
    "flows_ddos = flows_ddos.append(b,ignore_index=True)\n",
    "print('file 4 loaded')\n",
    "\n",
    "# file 5\n",
    "a,b = load_file('cicddos2019/01-12/DrDoS_NTP.csv')\n",
    "flows_ok = flows_ok.append(a,ignore_index=True)\n",
    "flows_ddos = flows_ddos.append(b,ignore_index=True)\n",
    "print('file 5 loaded')\n",
    "\n",
    "# file 6\n",
    "a,b = load_file('cicddos2019/01-12/DrDoS_SNMP.csv')\n",
    "flows_ok = flows_ok.append(a,ignore_index=True)\n",
    "flows_ddos = flows_ddos.append(b,ignore_index=True)\n",
    "print('file 6 loaded')\n",
    "\n",
    "# file 7\n",
    "a,b = load_file('cicddos2019/01-12/DrDoS_SSDP.csv')\n",
    "flows_ok = flows_ok.append(a,ignore_index=True)\n",
    "flows_ddos = flows_ddos.append(b,ignore_index=True)\n",
    "print('file 7 loaded')\n",
    "\n",
    "# file 8\n",
    "a,b = load_file('cicddos2019/01-12/DrDoS_UDP.csv')\n",
    "flows_ok = flows_ok.append(a,ignore_index=True)\n",
    "flows_ddos = flows_ddos.append(b,ignore_index=True)\n",
    "print('file 8 loaded')\n",
    "\n",
    "# file 9\n",
    "a,b = load_file('cicddos2019/01-12/Syn.csv')\n",
    "flows_ok = flows_ok.append(a,ignore_index=True)\n",
    "flows_ddos = flows_ddos.append(b,ignore_index=True)\n",
    "print('file 9 loaded')\n",
    "\n",
    "# file 10\n",
    "a,b = load_file('cicddos2019/01-12/DrDoS_DNS.csv')\n",
    "flows_ok = flows_ok.append(a,ignore_index=True)\n",
    "flows_ddos = flows_ddos.append(b,ignore_index=True)\n",
    "print('file 10 loaded')\n",
    "\n",
    "# file 11\n",
    "a,b = load_file('cicddos2019/01-12/UDPLag.csv')\n",
    "flows_ok = flows_ok.append(a,ignore_index=True)\n",
    "flows_ddos = flows_ddos.append(b,ignore_index=True)\n",
    "print('file 11 loaded')\n",
    "\n",
    "del a,b\n",
    "\n",
    "samples = flows_ok.append(flows_ddos,ignore_index=True)\n",
    "samples.to_csv(r'cicddos2019/01-12/export_dataframe.csv', index = None, header=True) \n",
    "\n",
    "del flows_ddos, flows_ok"
   ]
  },
  {
   "cell_type": "markdown",
   "metadata": {},
   "source": [
    "## Loading CIC-DDoS2019 - Day 2 (testing)"
   ]
  },
  {
   "cell_type": "code",
   "execution_count": 8,
   "metadata": {},
   "outputs": [
    {
     "name": "stdout",
     "output_type": "stream",
     "text": [
      "file 1 loaded\n",
      "file 2 loaded\n",
      "file 3 loaded\n",
      "file 4 loaded\n",
      "file 5 loaded\n"
     ]
    }
   ],
   "source": [
    "# file 1\n",
    "flows_ok, flows_ddos = load_file('cicddos2019/03-11/LDAP.csv')\n",
    "print('file 1 loaded')\n",
    "\n",
    "# file 2\n",
    "a,b = load_file('cicddos2019/03-11/MSSQL.csv')\n",
    "flows_ok = flows_ok.append(a,ignore_index=True)\n",
    "flows_ddos = flows_ddos.append(b,ignore_index=True)\n",
    "print('file 2 loaded')\n",
    "\n",
    "# file 3\n",
    "a,b = load_file('cicddos2019/03-11/NetBIOS.csv')\n",
    "flows_ok = flows_ok.append(a,ignore_index=True)\n",
    "flows_ddos = flows_ddos.append(b,ignore_index=True)\n",
    "print('file 3 loaded')\n",
    "\n",
    "# file 4\n",
    "a,b = load_file('cicddos2019/03-11/PortMap.csv')\n",
    "flows_ok = flows_ok.append(a,ignore_index=True)\n",
    "flows_ddos = flows_ddos.append(b,ignore_index=True)\n",
    "print('file 4 loaded')\n",
    "\n",
    "# file 5\n",
    "a,b = load_file('cicddos2019/03-11/Syn.csv')\n",
    "flows_ok = flows_ok.append(a,ignore_index=True)\n",
    "flows_ddos = flows_ddos.append(b,ignore_index=True)\n",
    "print('file 5 loaded')\n",
    "'''\n",
    "# following files won't load**\n",
    "# file 6\n",
    "\n",
    "a,b = load_file('cicddos2019/03-11/UDP.csv')\n",
    "flows_ok = flows_ok.append(a,ignore_index=True)\n",
    "flows_ddos = flows_ddos.append(b,ignore_index=True)\n",
    "print('file 6 loaded')\n",
    "\n",
    "# file 7\n",
    "a,b = load_file('cicddos2019/03-11/UDPLag.csv')\n",
    "flows_ok = flows_ok.append(a,ignore_index=True)\n",
    "flows_ddos = flows_ddos.append(b,ignore_index=True)\n",
    "print('file 7 loaded')\n",
    "'''\n",
    "tests = flows_ok.append(flows_ddos,ignore_index=True)\n",
    "tests.to_csv(r'cicddos2019/01-12/export_tests.csv', index = None, header=True) \n",
    "\n",
    "del flows_ddos, flows_ok, a, b\n",
    "\n",
    "    "
   ]
  },
  {
   "cell_type": "markdown",
   "metadata": {},
   "source": [
    "## CIC-DDoS2019 Data Processing"
   ]
  },
  {
   "cell_type": "code",
   "execution_count": 72,
   "metadata": {},
   "outputs": [
    {
     "name": "stderr",
     "output_type": "stream",
     "text": [
      "D:\\ProgramData\\Anaconda3\\envs\\PaperGRU\\lib\\site-packages\\IPython\\core\\interactiveshell.py:3186: DtypeWarning: Columns (21,22,85) have mixed types. Specify dtype option on import or set low_memory=False.\n",
      "  interactivity=interactivity, compiler=compiler, result=result)\n"
     ]
    },
    {
     "name": "stdout",
     "output_type": "stream",
     "text": [
      "Training data processed\n"
     ]
    }
   ],
   "source": [
    "# training data\n",
    "samples = pd.read_csv('cicddos2019/01-12/export_dataframe.csv', sep=',')\n",
    "\n",
    "def string2numeric_hash(text):\n",
    "    import hashlib\n",
    "    return int(hashlib.md5(text).hexdigest()[:8], 16)\n",
    "\n",
    "# Flows Packet/s e Bytes/s - Replace infinity by 0\n",
    "samples = samples.replace('Infinity','0')\n",
    "samples = samples.replace(np.inf,0)\n",
    "#samples = samples.replace('nan','0')\n",
    "samples[' Flow Packets/s'] = pd.to_numeric(samples[' Flow Packets/s'])\n",
    "\n",
    "samples['Flow Bytes/s'] = samples['Flow Bytes/s'].fillna(0)\n",
    "samples['Flow Bytes/s'] = pd.to_numeric(samples['Flow Bytes/s'])\n",
    "\n",
    "\n",
    "#Label\n",
    "samples[' Label'] = samples[' Label'].replace('BENIGN',0)\n",
    "samples[' Label'] = samples[' Label'].replace('DrDoS_DNS',1)\n",
    "samples[' Label'] = samples[' Label'].replace('DrDoS_LDAP',1)\n",
    "samples[' Label'] = samples[' Label'].replace('DrDoS_MSSQL',1)\n",
    "samples[' Label'] = samples[' Label'].replace('DrDoS_NTP',1)\n",
    "samples[' Label'] = samples[' Label'].replace('DrDoS_NetBIOS',1)\n",
    "samples[' Label'] = samples[' Label'].replace('DrDoS_SNMP',1)\n",
    "samples[' Label'] = samples[' Label'].replace('DrDoS_SSDP',1)\n",
    "samples[' Label'] = samples[' Label'].replace('DrDoS_UDP',1)\n",
    "samples[' Label'] = samples[' Label'].replace('Syn',1)\n",
    "samples[' Label'] = samples[' Label'].replace('TFTP',1)\n",
    "samples[' Label'] = samples[' Label'].replace('UDP-lag',1)\n",
    "samples[' Label'] = samples[' Label'].replace('WebDDoS',1)\n",
    "\n",
    "#Timestamp - Drop day, then convert hour, minute and seconds to hashing \n",
    "colunaTime = pd.DataFrame(samples[' Timestamp'].str.split(' ',1).tolist(), columns = ['dia','horas'])\n",
    "colunaTime = pd.DataFrame(colunaTime['horas'].str.split('.',1).tolist(),columns = ['horas','milisec'])\n",
    "stringHoras = pd.DataFrame(colunaTime['horas'].str.encode('utf-8'))\n",
    "samples[' Timestamp'] = pd.DataFrame(stringHoras['horas'].apply(string2numeric_hash))#colunaTime['horas']\n",
    "del colunaTime,stringHoras\n",
    "\n",
    "\n",
    "# flowID - IP origem - IP destino - Simillar HTTP -> Drop (individual flow analysis)\n",
    "del samples[' Source IP']\n",
    "del samples[' Destination IP']\n",
    "del samples['Flow ID']\n",
    "del samples['SimillarHTTP']\n",
    "del samples['Unnamed: 0']\n",
    "\n",
    "samples.to_csv(r'cicddos2019/01-12/export_dataframe_proc.csv', index = None, header=True) \n",
    "print('Training data processed')"
   ]
  },
  {
   "cell_type": "code",
   "execution_count": 73,
   "metadata": {},
   "outputs": [
    {
     "name": "stderr",
     "output_type": "stream",
     "text": [
      "D:\\ProgramData\\Anaconda3\\envs\\PaperGRU\\lib\\site-packages\\IPython\\core\\interactiveshell.py:3186: DtypeWarning: Columns (85) have mixed types. Specify dtype option on import or set low_memory=False.\n",
      "  interactivity=interactivity, compiler=compiler, result=result)\n"
     ]
    },
    {
     "name": "stdout",
     "output_type": "stream",
     "text": [
      "Test data processed\n"
     ]
    }
   ],
   "source": [
    "# test data\n",
    "tests = pd.read_csv('cicddos2019/01-12/export_tests.csv', sep=',')\n",
    "\n",
    "def string2numeric_hash(text):\n",
    "    import hashlib\n",
    "    return int(hashlib.md5(text).hexdigest()[:8], 16)\n",
    "\n",
    "# Flows Packet/s e Bytes/s - Change infinity by 0\n",
    "tests = tests.replace('Infinity','0')\n",
    "tests = tests.replace(np.inf,0)\n",
    "#amostras = amostras.replace('nan','0')\n",
    "tests[' Flow Packets/s'] = pd.to_numeric(tests[' Flow Packets/s'])\n",
    "\n",
    "tests['Flow Bytes/s'] = tests['Flow Bytes/s'].fillna(0)\n",
    "tests['Flow Bytes/s'] = pd.to_numeric(tests['Flow Bytes/s'])\n",
    "\n",
    "\n",
    "#Label\n",
    "tests[' Label'] = tests[' Label'].replace('BENIGN',0)\n",
    "tests[' Label'] = tests[' Label'].replace('LDAP',1)\n",
    "tests[' Label'] = tests[' Label'].replace('NetBIOS',1)\n",
    "tests[' Label'] = tests[' Label'].replace('MSSQL',1)\n",
    "tests[' Label'] = tests[' Label'].replace('Portmap',1)\n",
    "tests[' Label'] = tests[' Label'].replace('Syn',1)\n",
    "#tests[' Label'] = tests[' Label'].replace('DrDoS_SNMP',1)\n",
    "#tests[' Label'] = tests[' Label'].replace('DrDoS_SSDP',1)\n",
    "\n",
    "#Timestamp - Drop day, then convert hour, minute and seconds to hashing \n",
    "colunaTime = pd.DataFrame(tests[' Timestamp'].str.split(' ',1).tolist(), columns = ['dia','horas'])\n",
    "colunaTime = pd.DataFrame(colunaTime['horas'].str.split('.',1).tolist(),columns = ['horas','milisec'])\n",
    "stringHoras = pd.DataFrame(colunaTime['horas'].str.encode('utf-8'))\n",
    "tests[' Timestamp'] = pd.DataFrame(stringHoras['horas'].apply(string2numeric_hash))#colunaTime['horas']\n",
    "del colunaTime,stringHoras\n",
    "\n",
    "# flowID - IP origem - IP destino - Simillar HTTP -> Deletar (analise fluxo a fluxo)\n",
    "del tests[' Source IP']\n",
    "del tests[' Destination IP']\n",
    "del tests['Flow ID']\n",
    "del tests['SimillarHTTP']\n",
    "del tests['Unnamed: 0']\n",
    "\n",
    "tests.to_csv(r'cicddos2019/01-12/export_tests_proc.csv', index = None, header=True) \n",
    "print('Test data processed')"
   ]
  },
  {
   "cell_type": "markdown",
   "metadata": {},
   "source": [
    "## Methods implementation\n",
    "\n",
    "Importing required library"
   ]
  },
  {
   "cell_type": "code",
   "execution_count": 4,
   "metadata": {},
   "outputs": [
    {
     "name": "stderr",
     "output_type": "stream",
     "text": [
      "Using TensorFlow backend.\n"
     ]
    }
   ],
   "source": [
    "# Import required libraries\n",
    "from keras.models import Sequential\n",
    "\n",
    "from keras.layers import Dense,GRU,Embedding,Dropout,Flatten,Conv1D,MaxPooling1D,LSTM\n",
    "from sklearn.svm import SVC\n",
    "from sklearn.linear_model import LogisticRegression, SGDClassifier\n",
    "from sklearn.neighbors import KNeighborsClassifier"
   ]
  },
  {
   "cell_type": "markdown",
   "metadata": {},
   "source": [
    "### Gated Recurrent Units (GRU)"
   ]
  },
  {
   "cell_type": "code",
   "execution_count": 6,
   "metadata": {},
   "outputs": [],
   "source": [
    "#input_size\n",
    "# -> CIC-DDoS2019 82\n",
    "# -> CIC-IDS2018 78\n",
    "\n",
    "def GRU_model(input_size):\n",
    "   \n",
    "    # Initialize the constructor\n",
    "    model = Sequential()\n",
    "    \n",
    "    model.add(GRU(32, input_shape=(input_size,1), return_sequences=False)) #\n",
    "    model.add(Dropout(0.5))    \n",
    "    model.add(Dense(10, activation='relu'))\n",
    "    model.add(Dense(1, activation='sigmoid'))\n",
    "    \n",
    "    model.build()\n",
    "    print(model.summary())\n",
    "    \n",
    "    return model"
   ]
  },
  {
   "cell_type": "markdown",
   "metadata": {},
   "source": [
    "### Convolutional Neural Network (CNN)"
   ]
  },
  {
   "cell_type": "code",
   "execution_count": 7,
   "metadata": {},
   "outputs": [],
   "source": [
    "def CNN_model(input_size):\n",
    "   \n",
    "    # Initialize the constructor\n",
    "    model = Sequential()\n",
    "    \n",
    "    model.add(Conv1D(filters=64, kernel_size=8, activation='relu', input_shape=(input_size,1)))\n",
    "    model.add(MaxPooling1D(2))\n",
    "    model.add(Conv1D(filters=32, kernel_size=16, activation='relu'))\n",
    "    model.add(MaxPooling1D(2))\n",
    "    model.add(Conv1D(filters=16, kernel_size=3, activation='relu'))\n",
    "    model.add(MaxPooling1D(2))\n",
    "    \n",
    "    model.add(Dropout(0.5))\n",
    "\n",
    "    model.add(Flatten())\n",
    "    model.add(Dense(10, activation='relu'))\n",
    "    model.add(Dense(1, activation='sigmoid'))\n",
    "    \n",
    "    print(model.summary())\n",
    "    \n",
    "    return model"
   ]
  },
  {
   "cell_type": "markdown",
   "metadata": {},
   "source": [
    "### Long-Short Term Memory (LSTM)"
   ]
  },
  {
   "cell_type": "code",
   "execution_count": 8,
   "metadata": {},
   "outputs": [],
   "source": [
    "def LSTM_model(input_size):\n",
    "   \n",
    "    # Initialize the constructor\n",
    "    model = Sequential()\n",
    "    \n",
    "    model.add(LSTM(32,input_shape=(input_size,1), return_sequences=False))\n",
    "    model.add(Dropout(0.5))    \n",
    "    model.add(Dense(10, activation='relu'))\n",
    "    model.add(Dense(1, activation='sigmoid'))\n",
    "    \n",
    "    print(model.summary())\n",
    "    \n",
    "    return model"
   ]
  },
  {
   "cell_type": "markdown",
   "metadata": {},
   "source": [
    "### Deep Neural Network (DNN)"
   ]
  },
  {
   "cell_type": "code",
   "execution_count": 185,
   "metadata": {},
   "outputs": [],
   "source": [
    "def DNN_model(input_size):\n",
    "   \n",
    "    # Initialize the constructor\n",
    "    model = Sequential()\n",
    "    \n",
    "    model.add(Dense(2, activation='relu', input_shape=(input_size,)))\n",
    "    #model.add(Dense(100, activation='relu'))   \n",
    "    #model.add(Dense(40, activation='relu'))\n",
    "    #model.add(Dense(10, activation='relu'))\n",
    "    #model.add(Dropout(0.5))\n",
    "    model.add(Dense(1, activation='sigmoid'))\n",
    "    \n",
    "    print(model.summary())\n",
    "    \n",
    "    return model"
   ]
  },
  {
   "cell_type": "markdown",
   "metadata": {},
   "source": [
    "### Support Vector Machine (SVM)"
   ]
  },
  {
   "cell_type": "code",
   "execution_count": 10,
   "metadata": {},
   "outputs": [],
   "source": [
    "def SVM():\n",
    "    return SVC(kernel='linear')"
   ]
  },
  {
   "cell_type": "markdown",
   "metadata": {},
   "source": [
    "### Logistic Regression (LR)"
   ]
  },
  {
   "cell_type": "code",
   "execution_count": 11,
   "metadata": {},
   "outputs": [],
   "source": [
    "def LR():\n",
    "    return LogisticRegression()"
   ]
  },
  {
   "cell_type": "markdown",
   "metadata": {},
   "source": [
    "### Gradient Descent (GD)"
   ]
  },
  {
   "cell_type": "code",
   "execution_count": 12,
   "metadata": {},
   "outputs": [],
   "source": [
    "def GD():\n",
    "    return SGDClassifier()"
   ]
  },
  {
   "cell_type": "markdown",
   "metadata": {},
   "source": [
    "### k Nearest Neighbors (kNN)"
   ]
  },
  {
   "cell_type": "code",
   "execution_count": 13,
   "metadata": {},
   "outputs": [],
   "source": [
    "def kNN():\n",
    "    return KNeighborsClassifier(n_neighbors=3, n_jobs=-1)"
   ]
  },
  {
   "cell_type": "markdown",
   "metadata": {},
   "source": [
    "# Auxiliar Functions\n",
    "\n",
    "Implementation of auxiliar functions, such as testing, compiling/training, 3d reshape, etc. "
   ]
  },
  {
   "cell_type": "markdown",
   "metadata": {},
   "source": [
    "### train_test(samples)\n",
    "> Receives a group of samples and split it in train/test sets."
   ]
  },
  {
   "cell_type": "code",
   "execution_count": 14,
   "metadata": {},
   "outputs": [],
   "source": [
    "\n",
    "\n",
    "def train_test(samples):\n",
    "    # Import `train_test_split` from `sklearn.model_selection`\n",
    "    from sklearn.model_selection import train_test_split\n",
    "    import numpy as np\n",
    "    \n",
    "    # Specify the data \n",
    "    X=samples.iloc[:,0:(samples.shape[1]-1)]\n",
    "    \n",
    "    # Specify the target labels and flatten the array\n",
    "    #y= np.ravel(amostras.type)\n",
    "    y= samples.iloc[:,-1]\n",
    "    \n",
    "    # Split the data up in train and test sets\n",
    "    X_train, X_test, y_train, y_test = train_test_split(X, y, test_size=0.33, random_state=42)\n",
    "    \n",
    "    return X_train, X_test, y_train, y_test\n"
   ]
  },
  {
   "cell_type": "markdown",
   "metadata": {},
   "source": [
    "### normalize_data(X_train,X_test)\n",
    "\n",
    "> Normalize data between -1 and 1"
   ]
  },
  {
   "cell_type": "code",
   "execution_count": 15,
   "metadata": {},
   "outputs": [],
   "source": [
    "# normalize input data\n",
    "\n",
    "def normalize_data(X_train,X_test):\n",
    "    # Import `StandardScaler` from `sklearn.preprocessing`\n",
    "    from sklearn.preprocessing import StandardScaler,MinMaxScaler\n",
    "    \n",
    "    # Define the scaler \n",
    "    #scaler = StandardScaler().fit(X_train)\n",
    "    scaler = MinMaxScaler(feature_range=(-1, 1)).fit(X_train)\n",
    "    \n",
    "    # Scale the train set\n",
    "    X_train = scaler.transform(X_train)\n",
    "    \n",
    "    # Scale the test set\n",
    "    X_test = scaler.transform(X_test)\n",
    "    \n",
    "    return X_train, X_test\n"
   ]
  },
  {
   "cell_type": "markdown",
   "metadata": {},
   "source": [
    "### format_{2,3}d()\n",
    "\n",
    "> Reshape data in 3d or 2d format (for input in methods such as GRU, CNN and LSTM)"
   ]
  },
  {
   "cell_type": "code",
   "execution_count": 16,
   "metadata": {},
   "outputs": [],
   "source": [
    "# Reshape data input\n",
    "\n",
    "def format_3d(df):\n",
    "    \n",
    "    X = np.array(df)\n",
    "    return np.reshape(X, (X.shape[0], X.shape[1], 1))\n",
    "\n",
    "def format_2d(df):\n",
    "    \n",
    "    X = np.array(df)\n",
    "    return np.reshape(X, (X.shape[0], X.shape[1]))"
   ]
  },
  {
   "cell_type": "markdown",
   "metadata": {},
   "source": [
    "### compile_train(model,X_train,y_train,deep=True)\n",
    "\n",
    "> Compile and train learning model\n",
    "\n",
    "> deep = False for scikit-learn ML methods\n"
   ]
  },
  {
   "cell_type": "code",
   "execution_count": 179,
   "metadata": {},
   "outputs": [],
   "source": [
    "# compile and train learning model\n",
    "\n",
    "def compile_train(model,X_train,y_train,deep=True):\n",
    "    \n",
    "    if(deep==True):\n",
    "        import matplotlib.pyplot as plt\n",
    "\n",
    "\n",
    "        model.compile(loss='binary_crossentropy',\n",
    "                      optimizer='adam',\n",
    "                      metrics=['accuracy'])\n",
    "        \n",
    "        history = model.fit(X_train, y_train,epochs=10, batch_size=256, verbose=1)\n",
    "        #model.fit(X_train, y_train,epochs=3)\n",
    "\n",
    "        # summarize history for accuracy\n",
    "        plt.plot(history.history['acc'])\n",
    "        plt.title('model accuracy')\n",
    "        plt.ylabel('accuracy')\n",
    "        plt.xlabel('epoch')\n",
    "        plt.legend(['train'], loc='upper left')\n",
    "        plt.show()\n",
    "        # summarize history for loss\n",
    "        plt.plot(history.history['loss'])\n",
    "        plt.title('model loss')\n",
    "        plt.ylabel('loss')\n",
    "        plt.xlabel('epoch')\n",
    "        plt.legend(['train'], loc='upper left')\n",
    "        plt.show()\n",
    "\n",
    "        print(model.metrics_names)\n",
    "    \n",
    "    else:\n",
    "        model.fit(X_train, y_train) #SVM, LR, GD\n",
    "    \n",
    "    print('Model Compiled and Trained')\n",
    "    return model"
   ]
  },
  {
   "cell_type": "markdown",
   "metadata": {},
   "source": [
    "### testes(model,X_test,y_test,y_pred, deep=True)\n",
    "\n",
    "> Testing performance outcomes of the methods\n",
    "\n",
    "> deep = False for scikit-learn ML methods\n"
   ]
  },
  {
   "cell_type": "code",
   "execution_count": 199,
   "metadata": {},
   "outputs": [],
   "source": [
    "# Testing performance outcomes of the methods\n",
    "\n",
    "def testes(model,X_test,y_test,y_pred, deep=True):\n",
    "    if(deep==True): \n",
    "        score = model.evaluate(X_test, y_test,verbose=1)\n",
    "\n",
    "        print(score)\n",
    "    \n",
    "    # Alguns testes adicionais\n",
    "    #y_test = formatar2d(y_test)\n",
    "    #y_pred = formatar2d(y_pred)\n",
    "    \n",
    "    \n",
    "    # Import the modules from `sklearn.metrics`\n",
    "    from sklearn.metrics import confusion_matrix, precision_score, recall_score, f1_score, cohen_kappa_score, accuracy_score\n",
    "    \n",
    "    # Accuracy \n",
    "    acc = accuracy_score(y_test, y_pred)\n",
    "    print('\\nAccuracy')\n",
    "    print(acc)\n",
    "    \n",
    "    # Precision \n",
    "    prec = precision_score(y_test, y_pred)#,average='macro')\n",
    "    print('\\nPrecision')\n",
    "    print(prec)\n",
    "    \n",
    "    # Recall\n",
    "    rec = recall_score(y_test, y_pred) #,average='macro')\n",
    "    print('\\nRecall')\n",
    "    print(rec)\n",
    "    \n",
    "    # F1 score\n",
    "    f1 = f1_score(y_test,y_pred) #,average='macro')\n",
    "    print('\\nF1 Score')\n",
    "    print(f1)\n",
    "    \n",
    "    #average\n",
    "    avrg = (acc+prec+rec+f1)/4\n",
    "    print('\\nAverage (acc, prec, rec, f1)')\n",
    "    print(avrg)\n",
    "    \n",
    "    return acc, prec, rec, f1, avrg"
   ]
  },
  {
   "cell_type": "markdown",
   "metadata": {},
   "source": [
    "### test_normal_atk(y_test,y_pred):\n",
    "\n",
    "> Calculate the correct classification rate of normal and attack flow records"
   ]
  },
  {
   "cell_type": "code",
   "execution_count": 231,
   "metadata": {},
   "outputs": [],
   "source": [
    "def test_normal_atk(y_test,y_pred):\n",
    "    df = pd.DataFrame()\n",
    "    df['y_test'] = y_test\n",
    "    df['y_pred'] = y_pred\n",
    "    \n",
    "    normal = len(df.query('y_test == 0'))\n",
    "    atk = len(y_test)-normal\n",
    "    \n",
    "    wrong = df.query('y_test != y_pred')\n",
    "    \n",
    "    normal_detect_rate = (normal - wrong.groupby('y_test').count().iloc[0][0]) / normal\n",
    "    atk_detect_rate = (atk - wrong.groupby('y_test').count().iloc[1][0]) / atk\n",
    "    \n",
    "    #print(normal_detect_rate,atk_detect_rate)\n",
    "    \n",
    "    return normal_detect_rate, atk_detect_rate\n",
    "    "
   ]
  },
  {
   "cell_type": "markdown",
   "metadata": {},
   "source": [
    "### Saving and Loading methods\n",
    "\n",
    "> Methods for saving and loading trained models"
   ]
  },
  {
   "cell_type": "code",
   "execution_count": 19,
   "metadata": {},
   "outputs": [],
   "source": [
    "# Save model and weights\n",
    "\n",
    "def save_model(model,name):\n",
    "    from keras.models import model_from_json\n",
    "    \n",
    "    arq_json = 'Models/' + name + '.json'\n",
    "    model_json = model.to_json()\n",
    "    with open(arq_json,\"w\") as json_file:\n",
    "        json_file.write(model_json)\n",
    "    \n",
    "    arq_h5 = 'Models/' + name + '.h5'\n",
    "    model.save_weights(arq_h5)\n",
    "    print('Model Saved')\n",
    "    \n",
    "def load_model(name):\n",
    "    from keras.models import model_from_json\n",
    "    \n",
    "    arq_json = 'Models/' + name + '.json'\n",
    "    json_file = open(arq_json,'r')\n",
    "    loaded_model_json = json_file.read()\n",
    "    json_file.close()\n",
    "    loaded_model = model_from_json(loaded_model_json)\n",
    "    \n",
    "    arq_h5 = 'Models/' + name + '.h5'\n",
    "    loaded_model.load_weights(arq_h5)\n",
    "    \n",
    "    print('Model loaded')\n",
    "    \n",
    "    return loaded_model\n",
    "\n",
    "def save_Sklearn(model,nome):\n",
    "    import pickle\n",
    "    arquivo = 'Models/'+ nome + '.pkl'\n",
    "    with open(arquivo,'wb') as file:\n",
    "        pickle.dump(model,file)\n",
    "    print('Model sklearn saved')\n",
    "\n",
    "def load_Sklearn(nome):\n",
    "    import pickle\n",
    "    arquivo = 'Models/'+ nome + '.pkl'\n",
    "    with open(arquivo,'rb') as file:\n",
    "        model = pickle.load(file)\n",
    "    print('Model sklearn loaded')\n",
    "    return model"
   ]
  },
  {
   "cell_type": "markdown",
   "metadata": {},
   "source": [
    "# Main script for testing the learning methods\n",
    "\n",
    "> **Dataset - CIC-DDoS2019**\n",
    "\n",
    "Loading training dataset (day 1), upsampling normal flows for balancing the training set. "
   ]
  },
  {
   "cell_type": "code",
   "execution_count": 142,
   "metadata": {},
   "outputs": [],
   "source": [
    "# UPSAMPLE OF NORMAL FLOWS\n",
    "    \n",
    "samples = pd.read_csv('cicddos2019/01-12/export_dataframe_proc.csv', sep=',')\n",
    "\n",
    "X_train, X_test, y_train, y_test = train_test(samples)\n",
    "\n",
    "\n",
    "#junta novamente pra aumentar o numero de normais\n",
    "X = pd.concat([X_train, y_train], axis=1)\n",
    "\n",
    "# separate minority and majority classes\n",
    "is_benign = X[' Label']==0 #base de dados toda junta\n",
    "\n",
    "normal = X[is_benign]\n",
    "ddos = X[~is_benign]\n",
    "\n",
    "# upsample minority\n",
    "normal_upsampled = resample(normal,\n",
    "                          replace=True, # sample with replacement\n",
    "                          n_samples=len(ddos), # match number in majority class\n",
    "                          random_state=27) # reproducible results\n",
    "\n",
    "# combine majority and upsampled minority\n",
    "upsampled = pd.concat([normal_upsampled, ddos])\n",
    "\n",
    "# Specify the data \n",
    "X_train=upsampled.iloc[:,0:(upsampled.shape[1]-1)]    #DDoS\n",
    "y_train= upsampled.iloc[:,-1]  #DDoS\n",
    "\n",
    "input_size = (X_train.shape[1], 1)\n",
    "\n",
    "del X, normal_upsampled, ddos, upsampled, normal #, l1, l2 "
   ]
  },
  {
   "cell_type": "markdown",
   "metadata": {},
   "source": [
    "Importing the test dataset (day 2) and normalizing data."
   ]
  },
  {
   "cell_type": "code",
   "execution_count": 143,
   "metadata": {},
   "outputs": [],
   "source": [
    "tests = pd.read_csv('cicddos2019/01-12/export_tests_proc.csv', sep=',')\n",
    "\n",
    "# X_test = np.concatenate((X_test,(tests.iloc[:,0:(tests.shape[1]-1)]).to_numpy())) # testar 33% + dia de testes\n",
    "# y_test = np.concatenate((y_test,tests.iloc[:,-1]))\n",
    "\n",
    "del X_test,y_test                            # testar só o dia de testes\n",
    "X_test = tests.iloc[:,0:(tests.shape[1]-1)]                        \n",
    "y_test = tests.iloc[:,-1]\n",
    "\n",
    "# print((y_test.shape))\n",
    "# print((X_test.shape))\n",
    "\n",
    "X_train, X_test = normalize_data(X_train,X_test)\n"
   ]
  },
  {
   "cell_type": "markdown",
   "metadata": {},
   "source": [
    "Compiling and Training the methods\n",
    "\n",
    "> Comment the last 2 code blocks\n",
    "\n",
    "**OR**\n",
    "\n",
    "Loading and compiling the methods\n",
    "\n",
    "> Comment the first 2 code blocks"
   ]
  },
  {
   "cell_type": "code",
   "execution_count": 188,
   "metadata": {
    "scrolled": true
   },
   "outputs": [
    {
     "name": "stdout",
     "output_type": "stream",
     "text": [
      "Model loaded\n",
      "Model loaded\n",
      "Model loaded\n",
      "Model loaded\n",
      "Model sklearn loaded\n",
      "Model sklearn loaded\n",
      "Model sklearn loaded\n",
      "Model sklearn loaded\n"
     ]
    }
   ],
   "source": [
    "\n",
    "## Comment next 2 blocks if loading pre-trained models\n",
    "## Execute them if training new models\n",
    "\n",
    "# model_gru = GRU_model() #quando treina novo modelo\n",
    "# model_cnn = CNN_model()\n",
    "# model_lstm = LSTM_model()\n",
    "# model_dnn = DNN_model(X_train.shape[1])\n",
    "# model_svm = SVM()\n",
    "# model_lr = LR()\n",
    "# model_gd = GD()\n",
    "# model_knn = kNN()\n",
    " \n",
    "# model_gru = compile_train(model_gru,format_3d(X_train),y_train)  #quando treina novo modelo, ou retreina\n",
    "# model_cnn = compile_train(model_cnn,format_3d(X_train),y_train)\n",
    "# model_lstm = compile_train(model_lstm,format_3d(X_train),y_train)\n",
    "# model_dnn = compile_train(model_dnn,X_train,y_train)\n",
    "# model_svm = compile_train(model_svm,X_train,y_train,False)\n",
    "# model_lr = compile_train(model_lr,X_train,y_train,False)\n",
    "# model_gd = compile_train(model_gd,X_train,y_train,False)\n",
    "# model_knn = compile_train(model_knn,X_train,y_train,False)\n",
    "\n",
    "## Comment next 2 blocks if training new models\n",
    "## Execute them if loading pre-trained models\n",
    "\n",
    "model_gru = load_model('GRU20-32-b256') #when loading previously saved trained model and weights\n",
    "model_cnn = load_model('CNN5-3cam-b2560')\n",
    "model_lstm = load_model('LSTM5-32-b256')\n",
    "model_dnn = load_model('DNN5-2560')\n",
    "model_svm = load_Sklearn('SVM') \n",
    "model_lr = load_Sklearn('LR')\n",
    "model_gd = load_Sklearn('GD')\n",
    "model_knn = load_Sklearn('kNN-1viz')\n",
    "\n",
    "model_gru.compile(loss='binary_crossentropy', optimizer='adam', metrics=['accuracy']) #qdo carrega modelo salvo\n",
    "model_cnn.compile(loss='binary_crossentropy', optimizer='adam', metrics=['accuracy'])\n",
    "model_lstm.compile(loss='binary_crossentropy', optimizer='adam', metrics=['accuracy'])\n",
    "model_dnn.compile(loss='binary_crossentropy', optimizer='adam', metrics=['accuracy'])\n"
   ]
  },
  {
   "cell_type": "markdown",
   "metadata": {},
   "source": [
    "# Testing CIC-DDoS2019 "
   ]
  },
  {
   "cell_type": "code",
   "execution_count": 305,
   "metadata": {},
   "outputs": [],
   "source": [
    "results = pd.DataFrame(columns=['Method','Accuracy','Precision','Recall', 'F1_Score', 'Average','Normal_Detect_Rate','Atk_Detect_Rate'])"
   ]
  },
  {
   "cell_type": "markdown",
   "metadata": {},
   "source": [
    "### GRU"
   ]
  },
  {
   "cell_type": "code",
   "execution_count": 306,
   "metadata": {},
   "outputs": [
    {
     "name": "stdout",
     "output_type": "stream",
     "text": [
      "298578/298578 [==============================] - 76s 253us/step\n",
      "[0.01105657341191673, 0.9985832847698088]\n",
      "\n",
      "Accuracy\n",
      "0.9985832847698088\n",
      "\n",
      "Precision\n",
      "0.9995093228655545\n",
      "\n",
      "Recall\n",
      "0.9987902658601773\n",
      "\n",
      "F1 Score\n",
      "0.9991496649921299\n",
      "\n",
      "Average (acc, prec, rec, f1)\n",
      "0.9990081346219176\n"
     ]
    }
   ],
   "source": [
    "y_pred = model_gru.predict(format_3d(X_test)) \n",
    "\n",
    "y_pred = y_pred.round()\n",
    " \n",
    "acc, prec, rec, f1, avrg = testes(model_gru,format_3d(X_test),y_test,y_pred)\n",
    "\n",
    "norm, atk = test_normal_atk(y_test,y_pred)\n",
    "\n",
    "results = results.append({'Method':'GRU', 'Accuracy':acc, 'Precision':prec, 'F1_Score':f1,\n",
    "                          'Recall':rec,'Average':avrg, 'Normal_Detect_Rate':norm, 'Atk_Detect_Rate':atk}, ignore_index=True)"
   ]
  },
  {
   "cell_type": "markdown",
   "metadata": {},
   "source": [
    "### CNN"
   ]
  },
  {
   "cell_type": "code",
   "execution_count": 307,
   "metadata": {},
   "outputs": [
    {
     "name": "stdout",
     "output_type": "stream",
     "text": [
      "298578/298578 [==============================] - 54s 182us/step\n",
      "[0.029455807720052126, 0.9877251505469258]\n",
      "\n",
      "Accuracy\n",
      "0.9877251505469258\n",
      "\n",
      "Precision\n",
      "0.9942101910314407\n",
      "\n",
      "Recall\n",
      "0.9910415368848341\n",
      "\n",
      "F1 Score\n",
      "0.9926233352185928\n",
      "\n",
      "Average (acc, prec, rec, f1)\n",
      "0.9914000534204483\n"
     ]
    }
   ],
   "source": [
    "y_pred = model_cnn.predict(format_3d(X_test)) \n",
    "\n",
    "y_pred = y_pred.round()\n",
    " \n",
    "acc, prec, rec, f1, avrg = testes(model_cnn,format_3d(X_test),y_test,y_pred)\n",
    "\n",
    "norm, atk = test_normal_atk(y_test,y_pred)\n",
    "\n",
    "results = results.append({'Method':'CNN', 'Accuracy':acc, 'Precision':prec, 'F1_Score':f1,\n",
    "                          'Recall':rec,'Average':avrg, 'Normal_Detect_Rate':norm, 'Atk_Detect_Rate':atk}, ignore_index=True)"
   ]
  },
  {
   "cell_type": "markdown",
   "metadata": {},
   "source": [
    "### LSTM"
   ]
  },
  {
   "cell_type": "code",
   "execution_count": 308,
   "metadata": {},
   "outputs": [
    {
     "name": "stdout",
     "output_type": "stream",
     "text": [
      "298578/298578 [==============================] - 85s 283us/step\n",
      "[0.07657973352144937, 0.978297128388961]\n",
      "\n",
      "Accuracy\n",
      "0.9782971283885618\n",
      "\n",
      "Precision\n",
      "0.9991801691570573\n",
      "\n",
      "Recall\n",
      "0.9747563450756587\n",
      "\n",
      "F1 Score\n",
      "0.9868171572257439\n",
      "\n",
      "Average (acc, prec, rec, f1)\n",
      "0.9847626999617554\n"
     ]
    }
   ],
   "source": [
    "y_pred = model_lstm.predict(format_3d(X_test)) \n",
    "\n",
    "y_pred = y_pred.round()\n",
    " \n",
    "acc, prec, rec, f1, avrg = testes(model_lstm,format_3d(X_test),y_test,y_pred)\n",
    "\n",
    "norm, atk = test_normal_atk(y_test,y_pred)\n",
    "\n",
    "results = results.append({'Method':'LSTM', 'Accuracy':acc, 'Precision':prec, 'F1_Score':f1,\n",
    "                          'Recall':rec,'Average':avrg, 'Normal_Detect_Rate':norm, 'Atk_Detect_Rate':atk}, ignore_index=True)"
   ]
  },
  {
   "cell_type": "markdown",
   "metadata": {},
   "source": [
    "### DNN"
   ]
  },
  {
   "cell_type": "code",
   "execution_count": 309,
   "metadata": {},
   "outputs": [
    {
     "name": "stdout",
     "output_type": "stream",
     "text": [
      "298578/298578 [==============================] - 15s 50us/step\n",
      "[0.043137314041730386, 0.9974412046433427]\n",
      "\n",
      "Accuracy\n",
      "0.9974412046433427\n",
      "\n",
      "Precision\n",
      "0.9981403904778353\n",
      "\n",
      "Recall\n",
      "0.9987902658601773\n",
      "\n",
      "F1 Score\n",
      "0.9984652224222165\n",
      "\n",
      "Average (acc, prec, rec, f1)\n",
      "0.9982092708508931\n"
     ]
    }
   ],
   "source": [
    "y_pred = model_dnn.predict(X_test) \n",
    "\n",
    "y_pred = y_pred.round()\n",
    " \n",
    "acc, prec, rec, f1, avrg = testes(model_dnn,X_test,y_test,y_pred)\n",
    "\n",
    "norm, atk = test_normal_atk(y_test,y_pred)\n",
    "\n",
    "results = results.append({'Method':'DNN', 'Accuracy':acc, 'Precision':prec, 'F1_Score':f1,\n",
    "                          'Recall':rec,'Average':avrg, 'Normal_Detect_Rate':norm, 'Atk_Detect_Rate':atk}, ignore_index=True)"
   ]
  },
  {
   "cell_type": "markdown",
   "metadata": {},
   "source": [
    "### SVM"
   ]
  },
  {
   "cell_type": "code",
   "execution_count": 310,
   "metadata": {},
   "outputs": [
    {
     "name": "stdout",
     "output_type": "stream",
     "text": [
      "\n",
      "Accuracy\n",
      "0.9986502689414491\n",
      "\n",
      "Precision\n",
      "0.9991480332427783\n",
      "\n",
      "Recall\n",
      "0.9992323613930029\n",
      "\n",
      "F1 Score\n",
      "0.9991901955386405\n",
      "\n",
      "Average (acc, prec, rec, f1)\n",
      "0.9990552147789676\n"
     ]
    }
   ],
   "source": [
    "y_pred = model_svm.predict(X_test) \n",
    "\n",
    "y_pred = y_pred.round()\n",
    " \n",
    "acc, prec, rec, f1, avrg = testes(model_svm,X_test,y_test,y_pred,False)\n",
    "\n",
    "norm, atk = test_normal_atk(y_test,y_pred)\n",
    "\n",
    "results = results.append({'Method':'SVM', 'Accuracy':acc, 'Precision':prec, 'F1_Score':f1,\n",
    "                          'Recall':rec,'Average':avrg, 'Normal_Detect_Rate':norm, 'Atk_Detect_Rate':atk}, ignore_index=True)"
   ]
  },
  {
   "cell_type": "markdown",
   "metadata": {},
   "source": [
    "### LR"
   ]
  },
  {
   "cell_type": "code",
   "execution_count": 311,
   "metadata": {},
   "outputs": [
    {
     "name": "stdout",
     "output_type": "stream",
     "text": [
      "\n",
      "Accuracy\n",
      "0.9985799355612269\n",
      "\n",
      "Precision\n",
      "0.9990677302043358\n",
      "\n",
      "Recall\n",
      "0.9992283423427044\n",
      "\n",
      "F1 Score\n",
      "0.9991480298189563\n",
      "\n",
      "Average (acc, prec, rec, f1)\n",
      "0.9990060094818058\n"
     ]
    }
   ],
   "source": [
    "y_pred = model_lr.predict(X_test) \n",
    "\n",
    "y_pred = y_pred.round()\n",
    " \n",
    "acc, prec, rec, f1, avrg = testes(model_lr,X_test,y_test,y_pred,False)\n",
    "\n",
    "norm, atk = test_normal_atk(y_test,y_pred)\n",
    "\n",
    "results = results.append({'Method':'LR', 'Accuracy':acc, 'Precision':prec, 'F1_Score':f1,\n",
    "                          'Recall':rec,'Average':avrg, 'Normal_Detect_Rate':norm, 'Atk_Detect_Rate':atk}, ignore_index=True)"
   ]
  },
  {
   "cell_type": "markdown",
   "metadata": {},
   "source": [
    "### GB"
   ]
  },
  {
   "cell_type": "code",
   "execution_count": 312,
   "metadata": {},
   "outputs": [
    {
     "name": "stdout",
     "output_type": "stream",
     "text": [
      "\n",
      "Accuracy\n",
      "0.9986804118186873\n",
      "\n",
      "Precision\n",
      "0.9992042344373576\n",
      "\n",
      "Recall\n",
      "0.9992122661415107\n",
      "\n",
      "F1 Score\n",
      "0.9992082502732943\n",
      "\n",
      "Average (acc, prec, rec, f1)\n",
      "0.9990762906677125\n"
     ]
    }
   ],
   "source": [
    "y_pred = model_gd.predict(X_test) \n",
    "\n",
    "y_pred = y_pred.round()\n",
    " \n",
    "acc, prec, rec, f1, avrg = testes(model_gd,X_test,y_test,y_pred,False)\n",
    "\n",
    "norm, atk = test_normal_atk(y_test,y_pred)\n",
    "\n",
    "results = results.append({'Method':'GB', 'Accuracy':acc, 'Precision':prec, 'F1_Score':f1,\n",
    "                          'Recall':rec,'Average':avrg, 'Normal_Detect_Rate':norm, 'Atk_Detect_Rate':atk}, ignore_index=True)"
   ]
  },
  {
   "cell_type": "markdown",
   "metadata": {},
   "source": [
    "### kNN"
   ]
  },
  {
   "cell_type": "code",
   "execution_count": 313,
   "metadata": {},
   "outputs": [
    {
     "name": "stderr",
     "output_type": "stream",
     "text": [
      "D:\\ProgramData\\Anaconda3\\envs\\PaperGRU\\lib\\site-packages\\sklearn\\neighbors\\base.py:441: DeprecationWarning: distutils Version classes are deprecated. Use packaging.version instead.\n",
      "  old_joblib = LooseVersion(joblib_version) < LooseVersion('0.12')\n",
      "D:\\ProgramData\\Anaconda3\\envs\\PaperGRU\\lib\\site-packages\\sklearn\\neighbors\\base.py:441: DeprecationWarning: distutils Version classes are deprecated. Use packaging.version instead.\n",
      "  old_joblib = LooseVersion(joblib_version) < LooseVersion('0.12')\n"
     ]
    },
    {
     "name": "stdout",
     "output_type": "stream",
     "text": [
      "\n",
      "Accuracy\n",
      "0.9991258565600949\n",
      "\n",
      "Precision\n",
      "0.9995578316061968\n",
      "\n",
      "Recall\n",
      "0.9993931234049395\n",
      "\n",
      "F1 Score\n",
      "0.999475470719811\n",
      "\n",
      "Average (acc, prec, rec, f1)\n",
      "0.9993880705727606\n"
     ]
    }
   ],
   "source": [
    "y_pred = model_knn.predict(X_test) \n",
    "\n",
    "y_pred = y_pred.round()\n",
    " \n",
    "acc, prec, rec, f1, avrg = testes(model_knn,X_test,y_test,y_pred,False)\n",
    "\n",
    "norm, atk = test_normal_atk(y_test,y_pred)\n",
    "\n",
    "results = results.append({'Method':'kNN', 'Accuracy':acc, 'Precision':prec, 'F1_Score':f1,\n",
    "                          'Recall':rec,'Average':avrg, 'Normal_Detect_Rate':norm, 'Atk_Detect_Rate':atk}, ignore_index=True)"
   ]
  },
  {
   "cell_type": "markdown",
   "metadata": {},
   "source": [
    "# Discussion and Results\n",
    "\n",
    "Showing the table 'results', containing the performance metrics outcomes for each method."
   ]
  },
  {
   "cell_type": "code",
   "execution_count": 314,
   "metadata": {},
   "outputs": [
    {
     "data": {
      "text/html": [
       "<div>\n",
       "<style scoped>\n",
       "    .dataframe tbody tr th:only-of-type {\n",
       "        vertical-align: middle;\n",
       "    }\n",
       "\n",
       "    .dataframe tbody tr th {\n",
       "        vertical-align: top;\n",
       "    }\n",
       "\n",
       "    .dataframe thead th {\n",
       "        text-align: right;\n",
       "    }\n",
       "</style>\n",
       "<table border=\"1\" class=\"dataframe\">\n",
       "  <thead>\n",
       "    <tr style=\"text-align: right;\">\n",
       "      <th></th>\n",
       "      <th>Method</th>\n",
       "      <th>Accuracy</th>\n",
       "      <th>Precision</th>\n",
       "      <th>Recall</th>\n",
       "      <th>F1_Score</th>\n",
       "      <th>Average</th>\n",
       "      <th>Normal_Detect_Rate</th>\n",
       "      <th>Atk_Detect_Rate</th>\n",
       "    </tr>\n",
       "  </thead>\n",
       "  <tbody>\n",
       "    <tr>\n",
       "      <th>0</th>\n",
       "      <td>GRU</td>\n",
       "      <td>0.998583</td>\n",
       "      <td>0.999509</td>\n",
       "      <td>0.998790</td>\n",
       "      <td>0.999150</td>\n",
       "      <td>0.999008</td>\n",
       "      <td>0.997548</td>\n",
       "      <td>0.998790</td>\n",
       "    </tr>\n",
       "    <tr>\n",
       "      <th>1</th>\n",
       "      <td>CNN</td>\n",
       "      <td>0.987725</td>\n",
       "      <td>0.994210</td>\n",
       "      <td>0.991042</td>\n",
       "      <td>0.992623</td>\n",
       "      <td>0.991400</td>\n",
       "      <td>0.971143</td>\n",
       "      <td>0.991042</td>\n",
       "    </tr>\n",
       "    <tr>\n",
       "      <th>2</th>\n",
       "      <td>LSTM</td>\n",
       "      <td>0.978297</td>\n",
       "      <td>0.999180</td>\n",
       "      <td>0.974756</td>\n",
       "      <td>0.986817</td>\n",
       "      <td>0.984763</td>\n",
       "      <td>0.996001</td>\n",
       "      <td>0.974756</td>\n",
       "    </tr>\n",
       "    <tr>\n",
       "      <th>3</th>\n",
       "      <td>DNN</td>\n",
       "      <td>0.997441</td>\n",
       "      <td>0.998140</td>\n",
       "      <td>0.998790</td>\n",
       "      <td>0.998465</td>\n",
       "      <td>0.998209</td>\n",
       "      <td>0.990696</td>\n",
       "      <td>0.998790</td>\n",
       "    </tr>\n",
       "    <tr>\n",
       "      <th>4</th>\n",
       "      <td>SVM</td>\n",
       "      <td>0.998650</td>\n",
       "      <td>0.999148</td>\n",
       "      <td>0.999232</td>\n",
       "      <td>0.999190</td>\n",
       "      <td>0.999055</td>\n",
       "      <td>0.995740</td>\n",
       "      <td>0.999232</td>\n",
       "    </tr>\n",
       "    <tr>\n",
       "      <th>5</th>\n",
       "      <td>LR</td>\n",
       "      <td>0.998580</td>\n",
       "      <td>0.999068</td>\n",
       "      <td>0.999228</td>\n",
       "      <td>0.999148</td>\n",
       "      <td>0.999006</td>\n",
       "      <td>0.995338</td>\n",
       "      <td>0.999228</td>\n",
       "    </tr>\n",
       "    <tr>\n",
       "      <th>6</th>\n",
       "      <td>GB</td>\n",
       "      <td>0.998680</td>\n",
       "      <td>0.999204</td>\n",
       "      <td>0.999212</td>\n",
       "      <td>0.999208</td>\n",
       "      <td>0.999076</td>\n",
       "      <td>0.996021</td>\n",
       "      <td>0.999212</td>\n",
       "    </tr>\n",
       "    <tr>\n",
       "      <th>7</th>\n",
       "      <td>kNN</td>\n",
       "      <td>0.999126</td>\n",
       "      <td>0.999558</td>\n",
       "      <td>0.999393</td>\n",
       "      <td>0.999475</td>\n",
       "      <td>0.999388</td>\n",
       "      <td>0.997790</td>\n",
       "      <td>0.999393</td>\n",
       "    </tr>\n",
       "  </tbody>\n",
       "</table>\n",
       "</div>"
      ],
      "text/plain": [
       "  Method  Accuracy  Precision    Recall  F1_Score   Average  \\\n",
       "0    GRU  0.998583   0.999509  0.998790  0.999150  0.999008   \n",
       "1    CNN  0.987725   0.994210  0.991042  0.992623  0.991400   \n",
       "2   LSTM  0.978297   0.999180  0.974756  0.986817  0.984763   \n",
       "3    DNN  0.997441   0.998140  0.998790  0.998465  0.998209   \n",
       "4    SVM  0.998650   0.999148  0.999232  0.999190  0.999055   \n",
       "5     LR  0.998580   0.999068  0.999228  0.999148  0.999006   \n",
       "6     GB  0.998680   0.999204  0.999212  0.999208  0.999076   \n",
       "7    kNN  0.999126   0.999558  0.999393  0.999475  0.999388   \n",
       "\n",
       "   Normal_Detect_Rate  Atk_Detect_Rate  \n",
       "0            0.997548         0.998790  \n",
       "1            0.971143         0.991042  \n",
       "2            0.996001         0.974756  \n",
       "3            0.990696         0.998790  \n",
       "4            0.995740         0.999232  \n",
       "5            0.995338         0.999228  \n",
       "6            0.996021         0.999212  \n",
       "7            0.997790         0.999393  "
      ]
     },
     "execution_count": 314,
     "metadata": {},
     "output_type": "execute_result"
    }
   ],
   "source": [
    "results"
   ]
  },
  {
   "cell_type": "markdown",
   "metadata": {},
   "source": [
    "**Classification Metrics:**\n",
    "* Accuracy\n",
    "* Precision\n",
    "* Recall\n",
    "* F1 Measure (F1 Score)\n",
    "\n",
    "Showing performance outcomes of the methods: \n",
    "* GRU\n",
    "* DNN\n",
    "* SVM\n",
    "* LR\n",
    "* GB\n",
    "* kNN\n",
    "\n",
    "LSTM and CNN were separated for visualization improvement."
   ]
  },
  {
   "cell_type": "code",
   "execution_count": 315,
   "metadata": {},
   "outputs": [],
   "source": [
    "import seaborn as sns\n",
    "import matplotlib.pyplot as plt\n",
    "sns.set()"
   ]
  },
  {
   "cell_type": "code",
   "execution_count": 316,
   "metadata": {},
   "outputs": [
    {
     "data": {
      "image/png": "[encoded data removed]",
      "text/plain": [
       "<Figure size 1296x432 with 6 Axes>"
      ]
     },
     "metadata": {},
     "output_type": "display_data"
    }
   ],
   "source": [
    "ax = sns.catplot(data=results.iloc[:,:5].query('Method != \"LSTM\" and Method != \"CNN\"'), col='Method', col_wrap=3, kind='bar', height=3, aspect=2)\n",
    "ax.set(ylim=(0.99,1))\n",
    "ax.set_xticklabels(rotation=45)\n",
    "ax = ax\n"
   ]
  },
  {
   "cell_type": "markdown",
   "metadata": {},
   "source": [
    "> As observed, the evaluated methods achieved good performance outcomes close to 1. As the evaluated methods achieved similar outcomes, a more specific analysis should be performed."
   ]
  },
  {
   "cell_type": "markdown",
   "metadata": {},
   "source": [
    "Showing results of the LSTM and CNN methods."
   ]
  },
  {
   "cell_type": "code",
   "execution_count": 349,
   "metadata": {},
   "outputs": [
    {
     "data": {
      "image/png": "[encoded data removed]",
      "text/plain": [
       "<Figure size 1296x216 with 2 Axes>"
      ]
     },
     "metadata": {},
     "output_type": "display_data"
    }
   ],
   "source": [
    "ax = sns.catplot(data=results.iloc[:,:5].query('Method == \"LSTM\" or Method == \"CNN\"'), col='Method', col_wrap=3, kind='bar', height=3, aspect=2)\n",
    "ax.set(ylim=(0.97,1))\n",
    "ax.set_xticklabels(rotation=45)\n",
    "ax = ax"
   ]
  },
  {
   "cell_type": "markdown",
   "metadata": {},
   "source": [
    "> CNN and LSTM fared worse between the tested approaches. However, these methods achieved performance metrics above 97%, which is a relatively good outcome. "
   ]
  },
  {
   "cell_type": "markdown",
   "metadata": {},
   "source": [
    "**Average of the Metrics**\n",
    "\n",
    "Plotting the Average of the previously mentioned performance metrics to summarize the method's results. "
   ]
  },
  {
   "cell_type": "code",
   "execution_count": 367,
   "metadata": {},
   "outputs": [
    {
     "data": {
      "image/png": "[encoded data removed]",
      "text/plain": [
       "<Figure size 864x288 with 1 Axes>"
      ]
     },
     "metadata": {},
     "output_type": "display_data"
    }
   ],
   "source": [
    "plt.figure(figsize=(12,4))\n",
    "ax = sns.barplot(data=results, y='Method', x='Average')\n",
    "ax.set(xlim=(0.98,1))\n",
    "ax.set_title('Average of the Metrics', fontsize=18, loc='left')\n",
    "ax.set_xticklabel()\n",
    "ax = ax"
   ]
  },
  {
   "cell_type": "markdown",
   "metadata": {},
   "source": [
    "> As observed, on average, kNN fared slightly better compared to GB, LR, SVM, and GRU, which, in turn, achieved very similar results. However, these methods performed nearly 99.9%, which is considered a good classification outcome. "
   ]
  },
  {
   "cell_type": "markdown",
   "metadata": {},
   "source": [
    "**Detection rate of Normal and Attack flow records**\n",
    "\n",
    "The following plot shows the results of each method for classifying normal and attack flow records."
   ]
  },
  {
   "cell_type": "code",
   "execution_count": 368,
   "metadata": {},
   "outputs": [
    {
     "data": {
      "image/png": "[encoded data removed]",
      "text/plain": [
       "<Figure size 1296x648 with 8 Axes>"
      ]
     },
     "metadata": {},
     "output_type": "display_data"
    }
   ],
   "source": [
    "ax = sns.catplot(data=results[['Method', 'Normal_Detect_Rate', 'Atk_Detect_Rate']], col='Method', col_wrap=3, kind='bar', height=3, aspect=2)\n",
    "ax.set(ylim=(0.97,1))\n",
    "ax.set_xticklabels(rotation=45)\n",
    "ax = ax\n"
   ]
  },
  {
   "cell_type": "markdown",
   "metadata": {},
   "source": [
    "> kNN achieved the best classification outcomes. \n",
    "\n",
    "> GRU showed the most balanced approach regarding classifying normal and attack flows. \n",
    "\n",
    "> Although CNN achieved a relatively good classification of attacks, the classification of normal record flows was low compared to other methods. This result can explain the Accuracy rate of this method. This situation also occurs with the LSTM method, which achieved a good classification rate for normal flows and a low classification rate for attack ones. "
   ]
  }
 ],
 "metadata": {
  "kernelspec": {
   "display_name": "Python 3 (ipykernel)",
   "language": "python",
   "name": "python3"
  },
  "language_info": {
   "codemirror_mode": {
    "name": "ipython",
    "version": 3
   },
   "file_extension": ".py",
   "mimetype": "text/x-python",
   "name": "python",
   "nbconvert_exporter": "python",
   "pygments_lexer": "ipython3",
   "version": "3.7.13"
  }
 },
 "nbformat": 4,
 "nbformat_minor": 2
}
