{
 "cells": [
  {
   "attachments": {},
   "cell_type": "markdown",
   "metadata": {},
   "source": [
    "# Machine and Deep Learning for DDoS Detection\n",
    "### Marcos V. O. Assis (mvoassis@gmail.com)\n",
    "With the pricey help of:\n",
    "### Alessandro N. (a.niccolini[at]protonmail.com)\n",
    "### Giacomo V. ()\n",
    "***\n",
    "\n",
    "> ## Published Results:\n",
    "\n",
    "* *A GRU deep learning system against attacks in software defined networks*\n",
    "\n",
    "* https://doi.org/10.1016/j.jnca.2020.102942\n",
    "\n",
    "\n",
    "\n",
    "* \\***Update - 05/2023** - Update the packages to the newest one.\n",
    "\n",
    "> ## Objectives\n",
    "\n",
    "1. Evaluate different Machine and Deep Learning methods for anomaly detection.\n",
    "2. Detection of Distributed Denial of Service Attacks\n",
    "\n",
    "> ## Dataset\n",
    "\n",
    "* CIC-DDoS2019 - https://www.unb.ca/cic/datasets/ddos-2019.html\n",
    "\n",
    "> ## Evaluated Methods\n",
    "\n",
    "* Gated Recurrent Units (GRU)\n",
    "* Long-Short Term Memory (LSTM)\n",
    "* Convolutional Neural Network (CNN)\n",
    "* Deep Neural Network (DNN)\n",
    "* Support Vector Machine (SVM)\n",
    "* Logistic Regression (LR)\n",
    "* Gradient Descent (GD)\n",
    "* k Nearest Neighbors (kNN)\n",
    "\n",
    "> ## Environment Config.\n",
    "\n",
    "* Python 3.11 + the following packages:\n",
    "    * pandas\n",
    "    * numpy\n",
    "    * scikit-learn\n",
    "    * keras\n",
    "    * tensorflow\n",
    "    * seaborn\n",
    "    * matplotlib\n",
    "\n",
    "***"
   ]
  },
  {
   "attachments": {},
   "cell_type": "markdown",
   "metadata": {},
   "source": [
    "# Importing and treating CIC-DDoS-2019"
   ]
  },
  {
   "cell_type": "code",
   "execution_count": 2,
   "metadata": {},
   "outputs": [],
   "source": [
    "import pandas as pd\n",
    "import numpy as np\n",
    "import hashlib\n",
    "import seaborn as sns\n",
    "import matplotlib.pyplot as plt\n",
    "import pickle\n",
    "from sklearn.utils import resample\n",
    "from sklearn.preprocessing import StandardScaler,MinMaxScaler\n",
    "from keras.models import Sequential\n",
    "from keras.layers import Dense,GRU,Embedding,Dropout,Flatten,Conv1D,MaxPooling1D,LSTM\n",
    "from sklearn.svm import SVC\n",
    "from sklearn.linear_model import LogisticRegression, SGDClassifier\n",
    "from sklearn.neighbors import KNeighborsClassifier\n",
    "from sklearn.model_selection import train_test_split\n",
    "from sklearn.metrics import confusion_matrix, precision_score, recall_score, f1_score, cohen_kappa_score, accuracy_score\n",
    "from keras.models import model_from_json\n",
    "from sklearn import preprocessing\n",
    "from imblearn.metrics import classification_report_imbalanced\n",
    "import numba as nb\n",
    "\n",
    "import warnings\n",
    "    \n",
    "\n",
    "warnings.filterwarnings('ignore')"
   ]
  },
  {
   "attachments": {},
   "cell_type": "markdown",
   "metadata": {},
   "source": [
    "## Defining functions to load files and downsample them\n",
    "\n",
    "As this research aims to develop a binary detector (Attack or Normal), we should balance the dataset between these two classes. However, CIC-DDOS2019 has few normal flows in it. Thus, downsampling is necessary.\n",
    "\n",
    "For the downsampling process, we allow anomalous flows to be \"mult\" times bigger than normal flows. This approach aims to reduce class disbalance while preventing information losses on attack flows (when the number of attack flows is downsampled to the number of normal ones, ML models could not fit appropriately).  "
   ]
  },
  {
   "cell_type": "code",
   "execution_count": 3,
   "metadata": {},
   "outputs": [],
   "source": [
    "mult = 5\n",
    "\n",
    "def load_file(path):\n",
    "    data = pd.read_csv(path, sep=',')\n",
    "\n",
    "    is_benign = data[' Label']=='BENIGN'\n",
    "    flows_ok = data[is_benign]\n",
    "    flows_ddos_full = data[~is_benign]\n",
    "    \n",
    "    sizeDownSample = len(flows_ok)*mult # final set size of anomalous data\n",
    "    \n",
    "    # downsample majority\n",
    "    if (len(flows_ok)*mult) < (len(flows_ddos_full)): \n",
    "        flows_ddos_reduced = resample(flows_ddos_full,\n",
    "                                         replace = False, # sample without replacement\n",
    "                                         n_samples = sizeDownSample, # match minority n\n",
    "                                         random_state = 27) # reproducible results\n",
    "    else:\n",
    "        flows_ddos_reduced = flows_ddos_full\n",
    "    \n",
    "    return flows_ok, flows_ddos_reduced\n",
    "\n",
    " \n",
    "def load_huge_file(path):\n",
    "    df_chunk = pd.read_csv(path, chunksize=500000)\n",
    "    \n",
    "    chunk_list_ok = []  # append each chunk df here \n",
    "    chunk_list_ddos = [] \n",
    "\n",
    "    # Each chunk is in df format\n",
    "    for chunk in df_chunk:  \n",
    "        # perform data filtering \n",
    "        is_benign = chunk[' Label']=='BENIGN'\n",
    "        flows_ok = chunk[is_benign]\n",
    "        flows_ddos_full = chunk[~is_benign]\n",
    "        \n",
    "        if (len(flows_ok)*mult) < (len(flows_ddos_full)): \n",
    "            sizeDownSample = len(flows_ok)*mult # tamanho do set final de dados anomalos\n",
    "            \n",
    "            # downsample majority\n",
    "            flows_ddos_reduced = resample(flows_ddos_full,\n",
    "                                             replace = False, # sample without replacement\n",
    "                                             n_samples = sizeDownSample, # match minority n\n",
    "                                             random_state = 27) # reproducible results \n",
    "        else:\n",
    "            flows_ddos_reduced = flows_ddos_full\n",
    "            \n",
    "        # Once the data filtering is done, append the chunk to list\n",
    "        chunk_list_ok.append(flows_ok)\n",
    "        chunk_list_ddos.append(flows_ddos_reduced)\n",
    "        \n",
    "    # concat the list into dataframe \n",
    "    flows_ok = pd.concat(chunk_list_ok)\n",
    "    flows_ddos = pd.concat(chunk_list_ddos)\n",
    "    \n",
    "    return flows_ok, flows_ddos"
   ]
  },
  {
   "cell_type": "code",
   "execution_count": 4,
   "metadata": {},
   "outputs": [
    {
     "data": {
      "text/plain": [
       "' Commands for Linux\\n!wget \"http://205.174.165.80/CICDataset/CICDDoS2019/Dataset/CSVs/CSV-01-12.zip\" -O temp.zip\\n! unzip temp.zip\\n! rm temp.zip\\n'"
      ]
     },
     "execution_count": 4,
     "metadata": {},
     "output_type": "execute_result"
    }
   ],
   "source": [
    "### Uncomment to download the database\n",
    "''' Commands for Windows\n",
    "!curl -o temp.zip http://205.174.165.80/CICDataset/CICDDoS2019/Dataset/CSVs/CSV-01-12.zip\n",
    "!tar -xf CSV-01-12.zip\n",
    "!tar -xf CSV-03-11.zip\n",
    "!del CSV-01-12.zip\n",
    "!del CSV-03-11.zip'''\n",
    "''' Commands for Linux\n",
    "!wget \"http://205.174.165.80/CICDataset/CICDDoS2019/Dataset/CSVs/CSV-01-12.zip\" -O temp.zip\n",
    "! unzip temp.zip\n",
    "! rm temp.zip\n",
    "'''"
   ]
  },
  {
   "attachments": {},
   "cell_type": "markdown",
   "metadata": {},
   "source": [
    "## Loading CIC-DDoS2019 - Day 1 (training)"
   ]
  },
  {
   "cell_type": "code",
   "execution_count": 5,
   "metadata": {},
   "outputs": [
    {
     "name": "stdout",
     "output_type": "stream",
     "text": [
      "file 1 loaded\n",
      "file 2 loaded\n",
      "file 3 loaded\n",
      "file 4 loaded\n",
      "file 5 loaded\n",
      "file 6 loaded\n",
      "file 7 loaded\n",
      "file 8 loaded\n",
      "file 9 loaded\n",
      "file 10 loaded\n",
      "file 11 loaded\n"
     ]
    }
   ],
   "source": [
    "# file 1\n",
    "flows_ok, flows_ddos = load_huge_file('./01-12/TFTP.csv')\n",
    "print('file 1 loaded')\n",
    "\n",
    "# file 2\n",
    "a,b = load_file('./01-12/DrDoS_LDAP.csv')\n",
    "flows_ok = pd.concat([flows_ok, a], ignore_index=True) \n",
    "flows_ddos = pd.concat([flows_ddos, b], ignore_index=True)\n",
    "print('file 2 loaded')\n",
    "\n",
    "# file 3\n",
    "a,b = load_file('./01-12/DrDoS_MSSQL.csv')\n",
    "flows_ok = pd.concat([flows_ok, a], ignore_index=True) \n",
    "flows_ddos = pd.concat([flows_ddos, b], ignore_index=True)\n",
    "print('file 3 loaded')\n",
    "\n",
    "# file 4\n",
    "a,b = load_file('./01-12/DrDoS_NetBIOS.csv')\n",
    "flows_ok = pd.concat([flows_ok, a], ignore_index=True) \n",
    "flows_ddos = pd.concat([flows_ddos, b], ignore_index=True)\n",
    "print('file 4 loaded')\n",
    "\n",
    "# file 5\n",
    "a,b = load_file('./01-12/DrDoS_NTP.csv')\n",
    "flows_ok = pd.concat([flows_ok, a], ignore_index=True) \n",
    "flows_ddos = pd.concat([flows_ddos, b], ignore_index=True)\n",
    "print('file 5 loaded')\n",
    "\n",
    "# file 6\n",
    "a,b = load_file('./01-12/DrDoS_SNMP.csv')\n",
    "flows_ok = pd.concat([flows_ok, a], ignore_index=True) \n",
    "flows_ddos = pd.concat([flows_ddos, b], ignore_index=True)\n",
    "print('file 6 loaded')\n",
    "\n",
    "# file 7\n",
    "a,b = load_file('./01-12/DrDoS_SSDP.csv')\n",
    "flows_ok = pd.concat([flows_ok, a], ignore_index=True) \n",
    "flows_ddos = pd.concat([flows_ddos, b], ignore_index=True)\n",
    "print('file 7 loaded')\n",
    "\n",
    "# file 8\n",
    "a,b = load_file('./01-12/DrDoS_UDP.csv')\n",
    "flows_ok = pd.concat([flows_ok, a], ignore_index=True) \n",
    "flows_ddos = pd.concat([flows_ddos, b], ignore_index=True)\n",
    "print('file 8 loaded')\n",
    "\n",
    "# file 9\n",
    "a,b = load_file('./01-12/Syn.csv')\n",
    "flows_ok = pd.concat([flows_ok, a], ignore_index=True) \n",
    "flows_ddos = pd.concat([flows_ddos, b], ignore_index=True)\n",
    "print('file 9 loaded')\n",
    "\n",
    "# file 10\n",
    "a,b = load_file('./01-12/DrDoS_DNS.csv')\n",
    "flows_ok = pd.concat([flows_ok, a], ignore_index=True) \n",
    "flows_ddos = pd.concat([flows_ddos, b], ignore_index=True)\n",
    "print('file 10 loaded')\n",
    "\n",
    "# file 11\n",
    "a,b = load_file('./01-12/UDPLag.csv')\n",
    "flows_ok = pd.concat([flows_ok, a], ignore_index=True) \n",
    "flows_ddos = pd.concat([flows_ddos, b], ignore_index=True)\n",
    "print('file 11 loaded')\n",
    "\n",
    "del a,b\n",
    "\n",
    "samples = pd.concat([flows_ok, flows_ddos], ignore_index=True)\n",
    "samples.to_csv(r'./01-12/export_dataframe.csv', index = None, header=True) \n",
    "\n",
    "del flows_ddos, flows_ok"
   ]
  },
  {
   "attachments": {},
   "cell_type": "markdown",
   "metadata": {},
   "source": [
    "## Loading CIC-DDoS2019 - Day 2 (testing)"
   ]
  },
  {
   "cell_type": "code",
   "execution_count": 6,
   "metadata": {},
   "outputs": [
    {
     "name": "stdout",
     "output_type": "stream",
     "text": [
      "file 1 loaded\n",
      "file 2 loaded\n",
      "file 3 loaded\n",
      "file 4 loaded\n",
      "file 5 loaded\n"
     ]
    }
   ],
   "source": [
    "# file 1\n",
    "flows_ok, flows_ddos = load_file('./03-11/LDAP.csv')\n",
    "print('file 1 loaded')\n",
    "\n",
    "# file 2\n",
    "a,b = load_file('./03-11/MSSQL.csv')\n",
    "flows_ok = pd.concat([flows_ok, a], ignore_index=True) \n",
    "flows_ddos = pd.concat([flows_ddos, b], ignore_index=True)\n",
    "print('file 2 loaded')\n",
    "\n",
    "# file 3\n",
    "a,b = load_file('./03-11/NetBIOS.csv')\n",
    "flows_ok = pd.concat([flows_ok, a], ignore_index=True) \n",
    "flows_ddos = pd.concat([flows_ddos, b], ignore_index=True)\n",
    "print('file 3 loaded')\n",
    "\n",
    "# file 4\n",
    "a,b = load_file('./03-11/PortMap.csv')\n",
    "flows_ok = pd.concat([flows_ok, a], ignore_index=True) \n",
    "flows_ddos = pd.concat([flows_ddos, b], ignore_index=True)\n",
    "print('file 4 loaded')\n",
    "\n",
    "# file 5\n",
    "a,b = load_file('./03-11/Syn.csv')\n",
    "flows_ok = pd.concat([flows_ok, a], ignore_index=True) \n",
    "flows_ddos = pd.concat([flows_ddos, b], ignore_index=True)\n",
    "print('file 5 loaded') "
   ]
  },
  {
   "cell_type": "code",
   "execution_count": 7,
   "metadata": {},
   "outputs": [],
   "source": [
    "# following files will load but also cause the following error:\n",
    "# ValueError: Failed to convert a NumPy array to a Tensor (Unsupported object type int) **\n",
    "'''# file 6\n",
    "\n",
    "a,b = load_huge_file('./03-11/UDP.csv')\n",
    "flows_ok = pd.concat([flows_ok, a], ignore_index=True) \n",
    "flows_ddos = pd.concat([flows_ddos, b], ignore_index=True)\n",
    "print('file 6 loaded')\n",
    "\n",
    "# file 7\n",
    "a,b = load_huge_file('./03-11/UDPLag.csv')\n",
    "flows_ok = pd.concat([flows_ok, a], ignore_index=True) \n",
    "flows_ddos = pd.concat([flows_ddos, b], ignore_index=True)\n",
    "print('file 7 loaded')'''\n",
    "\n",
    "tests = pd.concat([flows_ok, flows_ddos], ignore_index=True)\n",
    "tests.to_csv(r'./01-12/export_tests.csv', index = None, header=True) \n",
    "\n",
    "del flows_ddos, flows_ok, a, b"
   ]
  },
  {
   "attachments": {},
   "cell_type": "markdown",
   "metadata": {},
   "source": [
    "### Vissualization pre Pre-Processing"
   ]
  },
  {
   "cell_type": "code",
   "execution_count": 8,
   "metadata": {},
   "outputs": [
    {
     "name": "stdout",
     "output_type": "stream",
     "text": [
      "tests -> number of features: 88\n",
      "samples -> number of features: 88\n"
     ]
    }
   ],
   "source": [
    "num_features = tests.shape[1]\n",
    "print(\"tests -> number of features:\", num_features)\n",
    "num_features = samples.shape[1]\n",
    "print(\"samples -> number of features:\", num_features)"
   ]
  },
  {
   "attachments": {},
   "cell_type": "markdown",
   "metadata": {},
   "source": [
    "## CIC-DDoS2019 Data Processing"
   ]
  },
  {
   "cell_type": "code",
   "execution_count": 9,
   "metadata": {},
   "outputs": [
    {
     "name": "stdout",
     "output_type": "stream",
     "text": [
      "Training data processed\n"
     ]
    }
   ],
   "source": [
    "# training data\n",
    "samples = pd.read_csv('./01-12/export_dataframe.csv', sep=',')\n",
    "\n",
    "def string2numeric_hash(text):\n",
    "    return int(hashlib.md5(text).hexdigest()[:8], 16)\n",
    "\n",
    "# Flows Packet/s e Bytes/s - Replace infinity by 0\n",
    "samples = samples.replace('Infinity','0')\n",
    "samples = samples.replace(np.inf,0)\n",
    "#samples = samples.replace('nan','0')\n",
    "samples[' Flow Packets/s'] = pd.to_numeric(samples[' Flow Packets/s'])\n",
    "\n",
    "samples['Flow Bytes/s'] = samples['Flow Bytes/s'].fillna(0)\n",
    "samples['Flow Bytes/s'] = pd.to_numeric(samples['Flow Bytes/s'])\n",
    "\n",
    "\n",
    "#Label\n",
    "samples[' Label'] = samples[' Label'].replace('BENIGN',0)\n",
    "samples[' Label'] = samples[' Label'].replace('DrDoS_DNS',1)\n",
    "samples[' Label'] = samples[' Label'].replace('DrDoS_LDAP',1)\n",
    "samples[' Label'] = samples[' Label'].replace('DrDoS_MSSQL',1)\n",
    "samples[' Label'] = samples[' Label'].replace('DrDoS_NTP',1)\n",
    "samples[' Label'] = samples[' Label'].replace('DrDoS_NetBIOS',1)\n",
    "samples[' Label'] = samples[' Label'].replace('DrDoS_SNMP',1)\n",
    "samples[' Label'] = samples[' Label'].replace('DrDoS_SSDP',1)\n",
    "samples[' Label'] = samples[' Label'].replace('DrDoS_UDP',1)\n",
    "samples[' Label'] = samples[' Label'].replace('Syn',1)\n",
    "samples[' Label'] = samples[' Label'].replace('TFTP',1)\n",
    "samples[' Label'] = samples[' Label'].replace('UDP-lag',1)\n",
    "samples[' Label'] = samples[' Label'].replace('WebDDoS',1)\n",
    "\n",
    "#Timestamp - Drop day, then convert hour, minute and seconds to hashing \n",
    "colunaTime = pd.DataFrame(samples[' Timestamp'].str.split(' ').tolist(), columns = ['dia','horas'])\n",
    "colunaTime = pd.DataFrame(colunaTime['horas'].str.split('.').tolist(),columns = ['horas','milisec'])\n",
    "stringHoras = pd.DataFrame(colunaTime['horas'].str.encode('utf-8'))\n",
    "samples[' Timestamp'] = pd.DataFrame(stringHoras['horas'].apply(string2numeric_hash))#colunaTime['horas']\n",
    "del colunaTime,stringHoras\n",
    "\n",
    "\n",
    "# flowID - Source IP - Destination IP - Similar HTTP -> Delete (analyze flow by flow)\n",
    "del samples[' Source IP']\n",
    "del samples[' Destination IP']\n",
    "del samples['Flow ID']\n",
    "del samples['SimillarHTTP']\n",
    "del samples['Unnamed: 0']\n",
    "\n",
    "samples.to_csv(r'./01-12/export_dataframe_proc.csv', index = None, header=True) \n",
    "print('Training data processed')"
   ]
  },
  {
   "cell_type": "code",
   "execution_count": 10,
   "metadata": {},
   "outputs": [
    {
     "name": "stdout",
     "output_type": "stream",
     "text": [
      "Test data processed\n"
     ]
    }
   ],
   "source": [
    "# test data\n",
    "tests = pd.read_csv('./01-12/export_tests.csv', sep=',')\n",
    "\n",
    "def string2numeric_hash(text):\n",
    "    return int(hashlib.md5(text).hexdigest()[:8], 16)\n",
    "\n",
    "# Flows Packet/s e Bytes/s - Change infinity by 0\n",
    "tests = tests.replace('Infinity','0')\n",
    "tests = tests.replace(np.inf,0)\n",
    "#amostras = amostras.replace('nan','0')\n",
    "tests[' Flow Packets/s'] = pd.to_numeric(tests[' Flow Packets/s'])\n",
    "\n",
    "tests['Flow Bytes/s'] = tests['Flow Bytes/s'].fillna(0)\n",
    "tests['Flow Bytes/s'] = pd.to_numeric(tests['Flow Bytes/s'])\n",
    "\n",
    "\n",
    "#Label\n",
    "tests[' Label'] = tests[' Label'].replace('BENIGN',0)\n",
    "tests[' Label'] = tests[' Label'].replace('LDAP',1)\n",
    "tests[' Label'] = tests[' Label'].replace('NetBIOS',1)\n",
    "tests[' Label'] = tests[' Label'].replace('MSSQL',1)\n",
    "tests[' Label'] = tests[' Label'].replace('Portmap',1)\n",
    "tests[' Label'] = tests[' Label'].replace('Syn',1)\n",
    "#tests[' Label'] = tests[' Label'].replace('DrDoS_SNMP',1)\n",
    "#tests[' Label'] = tests[' Label'].replace('DrDoS_SSDP',1)\n",
    "\n",
    "#Timestamp - Drop day, then convert hour, minute and seconds to hashing \n",
    "colunaTime = pd.DataFrame(tests[' Timestamp'].str.split(' ').tolist(), columns = ['dia','horas'])\n",
    "colunaTime = pd.DataFrame(colunaTime['horas'].str.split('.').tolist(),columns = ['horas','milisec'])\n",
    "stringHoras = pd.DataFrame(colunaTime['horas'].str.encode('utf-8'))\n",
    "tests[' Timestamp'] = pd.DataFrame(stringHoras['horas'].apply(string2numeric_hash))#colunaTime['horas']\n",
    "del colunaTime,stringHoras\n",
    "\n",
    "# flowID - Source IP - Destination IP - Similar HTTP -> Delete (analyze flow by flow)\n",
    "del tests[' Source IP']\n",
    "del tests[' Destination IP']\n",
    "del tests['Flow ID']\n",
    "del tests['SimillarHTTP']\n",
    "del tests['Unnamed: 0']\n",
    "\n",
    "tests.to_csv(r'./01-12/export_tests_proc.csv', index = None, header=True) \n",
    "print('Test data processed')"
   ]
  },
  {
   "attachments": {},
   "cell_type": "markdown",
   "metadata": {},
   "source": [
    "## Methods implementation"
   ]
  },
  {
   "attachments": {},
   "cell_type": "markdown",
   "metadata": {},
   "source": [
    "### Gated Recurrent Units (GRU)"
   ]
  },
  {
   "cell_type": "code",
   "execution_count": 11,
   "metadata": {},
   "outputs": [],
   "source": [
    "#input_size\n",
    "# -> CIC-DDoS2019 82\n",
    "# -> CIC-IDS2018 78\n",
    "\n",
    "def GRU_model(input_size):\n",
    "   \n",
    "    # Initialize the constructor\n",
    "    model = Sequential()\n",
    "    \n",
    "    model.add(GRU(32, input_shape=(input_size,1), return_sequences=False)) #\n",
    "    model.add(Dropout(0.5))    \n",
    "    model.add(Dense(10, activation='relu'))\n",
    "    model.add(Dense(1, activation='sigmoid'))\n",
    "    \n",
    "    model.build()\n",
    "    print(model.summary())\n",
    "    \n",
    "    return model"
   ]
  },
  {
   "attachments": {},
   "cell_type": "markdown",
   "metadata": {},
   "source": [
    "### Convolutional Neural Network (CNN)"
   ]
  },
  {
   "cell_type": "code",
   "execution_count": 12,
   "metadata": {},
   "outputs": [],
   "source": [
    "def CNN_model(input_size):\n",
    "   \n",
    "    # Initialize the constructor\n",
    "    model = Sequential()\n",
    "    \n",
    "    model.add(Conv1D(filters=64, kernel_size=8, activation='relu', input_shape=(input_size,1)))\n",
    "    model.add(MaxPooling1D(2))\n",
    "    model.add(Conv1D(filters=32, kernel_size=16, activation='relu'))\n",
    "    model.add(MaxPooling1D(2))\n",
    "    model.add(Conv1D(filters=16, kernel_size=3, activation='relu'))\n",
    "    model.add(MaxPooling1D(2))\n",
    "    \n",
    "    model.add(Dropout(0.5))\n",
    "\n",
    "    model.add(Flatten())\n",
    "    model.add(Dense(10, activation='relu'))\n",
    "    model.add(Dense(1, activation='sigmoid'))\n",
    "    \n",
    "    print(model.summary())\n",
    "    \n",
    "    return model"
   ]
  },
  {
   "attachments": {},
   "cell_type": "markdown",
   "metadata": {},
   "source": [
    "### Long-Short Term Memory (LSTM)"
   ]
  },
  {
   "cell_type": "code",
   "execution_count": 13,
   "metadata": {},
   "outputs": [],
   "source": [
    "def LSTM_model(input_size):\n",
    "   \n",
    "    # Initialize the constructor\n",
    "    model = Sequential()\n",
    "    \n",
    "    model.add(LSTM(32,input_shape=(input_size,1), return_sequences=False))\n",
    "    model.add(Dropout(0.5))    \n",
    "    model.add(Dense(10, activation='relu'))\n",
    "    model.add(Dense(1, activation='sigmoid'))\n",
    "    \n",
    "    print(model.summary())\n",
    "    \n",
    "    return model"
   ]
  },
  {
   "attachments": {},
   "cell_type": "markdown",
   "metadata": {},
   "source": [
    "### Deep Neural Network (DNN)"
   ]
  },
  {
   "cell_type": "code",
   "execution_count": 14,
   "metadata": {},
   "outputs": [],
   "source": [
    "def DNN_model(input_size):\n",
    "   \n",
    "    # Initialize the constructor\n",
    "    model = Sequential()\n",
    "    \n",
    "    model.add(Dense(2, activation='relu', input_shape=(input_size,)))\n",
    "    #model.add(Dense(100, activation='relu'))   \n",
    "    #model.add(Dense(40, activation='relu'))\n",
    "    #model.add(Dense(10, activation='relu'))\n",
    "    #model.add(Dropout(0.5))\n",
    "    model.add(Dense(1, activation='sigmoid'))\n",
    "    \n",
    "    print(model.summary())\n",
    "    \n",
    "    return model"
   ]
  },
  {
   "attachments": {},
   "cell_type": "markdown",
   "metadata": {},
   "source": [
    "### Support Vector Machine (SVM)"
   ]
  },
  {
   "cell_type": "code",
   "execution_count": 15,
   "metadata": {},
   "outputs": [],
   "source": [
    "def SVM():\n",
    "    return SVC(kernel='linear')"
   ]
  },
  {
   "attachments": {},
   "cell_type": "markdown",
   "metadata": {},
   "source": [
    "### Logistic Regression (LR)"
   ]
  },
  {
   "cell_type": "code",
   "execution_count": 16,
   "metadata": {},
   "outputs": [],
   "source": [
    "def LR():\n",
    "    return LogisticRegression()"
   ]
  },
  {
   "attachments": {},
   "cell_type": "markdown",
   "metadata": {},
   "source": [
    "### Gradient Descent (GD)"
   ]
  },
  {
   "cell_type": "code",
   "execution_count": 17,
   "metadata": {},
   "outputs": [],
   "source": [
    "def GD():\n",
    "    return SGDClassifier()"
   ]
  },
  {
   "attachments": {},
   "cell_type": "markdown",
   "metadata": {},
   "source": [
    "### k Nearest Neighbors (kNN)"
   ]
  },
  {
   "cell_type": "code",
   "execution_count": 18,
   "metadata": {},
   "outputs": [],
   "source": [
    "def kNN():\n",
    "    return KNeighborsClassifier(n_neighbors=3, n_jobs=-1)"
   ]
  },
  {
   "attachments": {},
   "cell_type": "markdown",
   "metadata": {},
   "source": [
    "# Auxiliar Functions\n",
    "\n",
    "Implementation of auxiliar functions, such as testing, compiling/training, 3d reshape, etc. "
   ]
  },
  {
   "attachments": {},
   "cell_type": "markdown",
   "metadata": {},
   "source": [
    "### train_test(samples)\n",
    "> Receives a group of samples and split it in train/test sets."
   ]
  },
  {
   "cell_type": "code",
   "execution_count": 19,
   "metadata": {},
   "outputs": [],
   "source": [
    "def train_test(samples):\n",
    "    # Specify the data \n",
    "    X=samples.iloc[:,0:(samples.shape[1]-1)]\n",
    "    \n",
    "    # Specify the target labels and flatten the array\n",
    "    #y= np.ravel(amostras.type)\n",
    "    y= samples.iloc[:,-1]\n",
    "    \n",
    "    # Split the data up in train and test sets\n",
    "    X_train, X_test, y_train, y_test = train_test_split(X, y, test_size=0.33, random_state=42)\n",
    "    \n",
    "    return X_train, X_test, y_train, y_test"
   ]
  },
  {
   "attachments": {},
   "cell_type": "markdown",
   "metadata": {},
   "source": [
    "### normalize_data(X_train,X_test)\n",
    "\n",
    "> Normalize data between -1 and 1"
   ]
  },
  {
   "cell_type": "code",
   "execution_count": 20,
   "metadata": {},
   "outputs": [],
   "source": [
    "def normalize_data(X_train,X_test):\n",
    "    # Define the scaler \n",
    "    #scaler = StandardScaler().fit(X_train)\n",
    "    scaler = MinMaxScaler(feature_range=(-1, 1)).fit(X_train)\n",
    "    \n",
    "    # Scale the train set\n",
    "    X_train = scaler.transform(X_train)\n",
    "    \n",
    "    # Scale the test set\n",
    "    X_test = scaler.transform(X_test)\n",
    "    \n",
    "    return X_train, X_test"
   ]
  },
  {
   "attachments": {},
   "cell_type": "markdown",
   "metadata": {},
   "source": [
    "### format_{2,3}d()\n",
    "\n",
    "> Reshape data in 3d or 2d format (for input in methods such as GRU, CNN and LSTM)"
   ]
  },
  {
   "cell_type": "code",
   "execution_count": 21,
   "metadata": {},
   "outputs": [],
   "source": [
    "# Reshape data input\n",
    "\n",
    "def format_3d(df):\n",
    "    \n",
    "    X = np.array(df)\n",
    "    return np.reshape(X, (X.shape[0], X.shape[1], 1))\n",
    "\n",
    "def format_2d(df):\n",
    "    \n",
    "    X = np.array(df)\n",
    "    return np.reshape(X, (X.shape[0], X.shape[1]))"
   ]
  },
  {
   "attachments": {},
   "cell_type": "markdown",
   "metadata": {},
   "source": [
    "### compile_train(model,X_train,y_train,deep=True)\n",
    "\n",
    "> Compile and train learning model\n",
    "\n",
    "> deep = False for scikit-learn ML methods\n"
   ]
  },
  {
   "cell_type": "code",
   "execution_count": 22,
   "metadata": {},
   "outputs": [],
   "source": [
    "def compile_train(model,model_name,X_train,y_train,deep=True):\n",
    "    \n",
    "    if(deep==True):\n",
    "\n",
    "        model.compile(loss='binary_crossentropy',\n",
    "                      optimizer='adam',\n",
    "                      metrics=['accuracy'])\n",
    "        \n",
    "        history = model.fit(X_train, y_train,epochs=10, batch_size=256, verbose=1)\n",
    "        #model.fit(X_train, y_train,epochs=3)\n",
    "\n",
    "        # summarize history for accuracy\n",
    "        if 'acc' in history.history:\n",
    "            plt.plot(history.history['acc'])\n",
    "            plt.title('model accuracy')\n",
    "            plt.ylabel('accuracy')\n",
    "            plt.xlabel('epoch')\n",
    "            plt.legend(['train'], loc='upper left')\n",
    "            plt.show()\n",
    "        # summarize history for loss\n",
    "        if 'loss' in history.history:\n",
    "            plt.plot(history.history['loss'])\n",
    "            plt.title('Model loss of ' + model_name)\n",
    "            plt.ylabel('loss')\n",
    "            plt.xlabel('epoch')\n",
    "            plt.legend(['train'], loc='upper left')\n",
    "            plt.show()\n",
    "\n",
    "        print(model.metrics_names)\n",
    "    \n",
    "    else:\n",
    "        model.fit(X_train, y_train) #SVM, LR, GD\n",
    "    \n",
    "    print('Model Compiled and Trained')\n",
    "    return model\n"
   ]
  },
  {
   "attachments": {},
   "cell_type": "markdown",
   "metadata": {},
   "source": [
    "### testes(model,X_test,y_test,y_pred, deep=True)\n",
    "\n",
    "> Testing performance outcomes of the methods\n",
    "\n",
    "> deep = False for scikit-learn ML methods\n"
   ]
  },
  {
   "cell_type": "code",
   "execution_count": 23,
   "metadata": {},
   "outputs": [],
   "source": [
    "# Testing performance outcomes of the methods\n",
    "\n",
    "def testes(model,X_test,y_test,y_pred, deep=True):\n",
    "    if(deep==True): \n",
    "        score = model.evaluate(X_test, y_test,verbose=1)\n",
    "\n",
    "        print(score)\n",
    "    \n",
    "    # Alguns testes adicionais\n",
    "    #y_test = formatar2d(y_test)\n",
    "    #y_pred = formatar2d(y_pred)\n",
    "    \n",
    "    \n",
    "    # Accuracy \n",
    "    acc = accuracy_score(y_test, y_pred)\n",
    "    print('\\nAccuracy')\n",
    "    print(acc)\n",
    "    \n",
    "    # Precision \n",
    "    prec = precision_score(y_test, y_pred)#,average='macro')\n",
    "    print('\\nPrecision')\n",
    "    print(prec)\n",
    "    \n",
    "    # Recall\n",
    "    rec = recall_score(y_test, y_pred) #,average='macro')\n",
    "    print('\\nRecall')\n",
    "    print(rec)\n",
    "    \n",
    "    # F1 score\n",
    "    f1 = f1_score(y_test,y_pred) #,average='macro')\n",
    "    print('\\nF1 Score')\n",
    "    print(f1)\n",
    "    \n",
    "    # Average\n",
    "    avrg = (acc+prec+rec+f1)/4\n",
    "    print('\\nAverage (acc, prec, rec, f1)')\n",
    "    print(avrg)\n",
    "    \n",
    "    return acc, prec, rec, f1, avrg"
   ]
  },
  {
   "attachments": {},
   "cell_type": "markdown",
   "metadata": {},
   "source": [
    "### test_normal_atk(y_test,y_pred):\n",
    "\n",
    "> Calculate the correct classification rate of normal and attack flow records"
   ]
  },
  {
   "cell_type": "code",
   "execution_count": 24,
   "metadata": {},
   "outputs": [],
   "source": [
    "def test_normal_atk(y_test,y_pred):\n",
    "    df = pd.DataFrame()\n",
    "    df['y_test'] = y_test\n",
    "    df['y_pred'] = y_pred\n",
    "    \n",
    "    normal = len(df.query('y_test == 0'))\n",
    "    atk = len(y_test)-normal\n",
    "    \n",
    "    wrong = df.query('y_test != y_pred')\n",
    "    \n",
    "    normal_detect_rate = (normal - wrong.groupby('y_test').count().iloc[0][0]) / normal\n",
    "    atk_detect_rate = (atk - wrong.groupby('y_test').count().iloc[1][0]) / atk\n",
    "    \n",
    "    #print(normal_detect_rate,atk_detect_rate)\n",
    "    \n",
    "    return normal_detect_rate, atk_detect_rate\n",
    "    "
   ]
  },
  {
   "attachments": {},
   "cell_type": "markdown",
   "metadata": {},
   "source": [
    "### Saving and Loading methods\n",
    "\n",
    "> Methods for saving and loading trained models"
   ]
  },
  {
   "cell_type": "code",
   "execution_count": 25,
   "metadata": {},
   "outputs": [],
   "source": [
    "# Save model and weights\n",
    "\n",
    "def save_model(model,name):\n",
    "    \n",
    "    arq_json = 'Models/' + name + '.json'\n",
    "    model_json = model.to_json()\n",
    "    with open(arq_json,\"w\") as json_file:\n",
    "        json_file.write(model_json)\n",
    "    \n",
    "    arq_h5 = 'Models/' + name + '.h5'\n",
    "    model.save_weights(arq_h5)\n",
    "    print('Model Saved')\n",
    "    \n",
    "def load_model(name):\n",
    "    \n",
    "    arq_json = 'Models/' + name + '.json'\n",
    "    json_file = open(arq_json,'r')\n",
    "    loaded_model_json = json_file.read()\n",
    "    json_file.close()\n",
    "    loaded_model = model_from_json(loaded_model_json)\n",
    "    \n",
    "    arq_h5 = 'Models/' + name + '.h5'\n",
    "    loaded_model.load_weights(arq_h5)\n",
    "    \n",
    "    print('Model loaded')\n",
    "    \n",
    "    return loaded_model\n",
    "\n",
    "def save_Sklearn(model,nome):\n",
    "    arquivo = 'Models/'+ nome + '.pkl'\n",
    "    with open(arquivo,'wb') as file:\n",
    "        pickle.dump(model,file)\n",
    "    print('Model sklearn saved')\n",
    "\n",
    "def load_Sklearn(nome):\n",
    "    arquivo = 'Models/'+ nome + '.pkl'\n",
    "    with open(arquivo,'rb') as file:\n",
    "        model = pickle.load(file)\n",
    "    print('Model sklearn loaded')\n",
    "    return model"
   ]
  },
  {
   "attachments": {},
   "cell_type": "markdown",
   "metadata": {},
   "source": [
    "# Main script for testing the learning methods\n",
    "\n",
    "> **Dataset - CIC-DDoS2019**\n",
    "\n",
    "Loading training dataset (day 1), upsampling normal flows for balancing the training set. "
   ]
  },
  {
   "cell_type": "code",
   "execution_count": 26,
   "metadata": {},
   "outputs": [],
   "source": [
    "# UPSAMPLE OF NORMAL FLOWS\n",
    "    \n",
    "samples = pd.read_csv('./01-12/export_dataframe_proc.csv', sep=',')\n",
    "\n",
    "X_train, X_test, y_train, y_test = train_test(samples)\n",
    "\n",
    "\n",
    "# join again to increase the number of norms\n",
    "X = pd.concat([X_train, y_train], axis=1)\n",
    "\n",
    "# separate minority and majority classes\n",
    "is_benign = X[' Label']==0 # all-in-one database\n",
    "\n",
    "normal = X[is_benign]\n",
    "ddos = X[~is_benign]\n",
    "\n",
    "# upsample minority\n",
    "normal_upsampled = resample(normal,\n",
    "                          replace=True, # sample with replacement\n",
    "                          n_samples=len(ddos), # match number in majority class\n",
    "                          random_state=27) # reproducible results\n",
    "\n",
    "# combine majority and upsampled minority\n",
    "upsampled = pd.concat([normal_upsampled, ddos])\n",
    "\n",
    "# Specify the data \n",
    "X_train=upsampled.iloc[:,0:(upsampled.shape[1]-1)]    #DDoS\n",
    "y_train= upsampled.iloc[:,-1]  #DDoS\n",
    "\n",
    "input_size = (X_train.shape[1], 1)\n",
    "\n",
    "del X, normal_upsampled, ddos, upsampled, normal #, l1, l2 "
   ]
  },
  {
   "attachments": {},
   "cell_type": "markdown",
   "metadata": {},
   "source": [
    "Importing the test dataset (day 2) and normalizing data."
   ]
  },
  {
   "cell_type": "code",
   "execution_count": 27,
   "metadata": {},
   "outputs": [],
   "source": [
    "tests = pd.read_csv('./01-12/export_tests_proc.csv', sep=',')\n",
    "\n",
    "# X_test = np.concatenate((X_test,(tests.iloc[:,0:(tests.shape[1]-1)]).to_numpy())) # test 33% + test day\n",
    "# y_test = np.concatenate((y_test,tests.iloc[:,-1]))\n",
    "\n",
    "del X_test,y_test                         \n",
    "X_test = tests.iloc[:,0:(tests.shape[1]-1)]                        \n",
    "y_test = tests.iloc[:,-1]\n",
    "\n",
    "# print((y_test.shape))\n",
    "# print((X_test.shape))\n",
    "\n",
    "X_train, X_test = normalize_data(X_train,X_test)\n"
   ]
  },
  {
   "attachments": {},
   "cell_type": "markdown",
   "metadata": {},
   "source": [
    "### Vissualization Post Pre-Processing"
   ]
  },
  {
   "cell_type": "code",
   "execution_count": 28,
   "metadata": {},
   "outputs": [
    {
     "name": "stdout",
     "output_type": "stream",
     "text": [
      "tests -> number of features: 83\n",
      "samples -> number of features: 83\n"
     ]
    }
   ],
   "source": [
    "num_features = tests.shape[1]\n",
    "print(\"tests -> number of features:\", num_features)\n",
    "num_features = samples.shape[1]\n",
    "print(\"samples -> number of features:\", num_features)"
   ]
  },
  {
   "cell_type": "code",
   "execution_count": 29,
   "metadata": {},
   "outputs": [
    {
     "name": "stdout",
     "output_type": "stream",
     "text": [
      "<class 'pandas.core.frame.DataFrame'>\n",
      "RangeIndex: 298578 entries, 0 to 298577\n",
      "Data columns (total 83 columns):\n",
      " #   Column                        Non-Null Count   Dtype  \n",
      "---  ------                        --------------   -----  \n",
      " 0    Source Port                  298578 non-null  int64  \n",
      " 1    Destination Port             298578 non-null  int64  \n",
      " 2    Protocol                     298578 non-null  int64  \n",
      " 3    Timestamp                    298578 non-null  int64  \n",
      " 4    Flow Duration                298578 non-null  int64  \n",
      " 5    Total Fwd Packets            298578 non-null  int64  \n",
      " 6    Total Backward Packets       298578 non-null  int64  \n",
      " 7   Total Length of Fwd Packets   298578 non-null  float64\n",
      " 8    Total Length of Bwd Packets  298578 non-null  float64\n",
      " 9    Fwd Packet Length Max        298578 non-null  float64\n",
      " 10   Fwd Packet Length Min        298578 non-null  float64\n",
      " 11   Fwd Packet Length Mean       298578 non-null  float64\n",
      " 12   Fwd Packet Length Std        298578 non-null  float64\n",
      " 13  Bwd Packet Length Max         298578 non-null  float64\n",
      " 14   Bwd Packet Length Min        298578 non-null  float64\n",
      " 15   Bwd Packet Length Mean       298578 non-null  float64\n",
      " 16   Bwd Packet Length Std        298578 non-null  float64\n",
      " 17  Flow Bytes/s                  298578 non-null  float64\n",
      " 18   Flow Packets/s               298578 non-null  float64\n",
      " 19   Flow IAT Mean                298578 non-null  float64\n",
      " 20   Flow IAT Std                 298578 non-null  float64\n",
      " 21   Flow IAT Max                 298578 non-null  float64\n",
      " 22   Flow IAT Min                 298578 non-null  float64\n",
      " 23  Fwd IAT Total                 298578 non-null  float64\n",
      " 24   Fwd IAT Mean                 298578 non-null  float64\n",
      " 25   Fwd IAT Std                  298578 non-null  float64\n",
      " 26   Fwd IAT Max                  298578 non-null  float64\n",
      " 27   Fwd IAT Min                  298578 non-null  float64\n",
      " 28  Bwd IAT Total                 298578 non-null  float64\n",
      " 29   Bwd IAT Mean                 298578 non-null  float64\n",
      " 30   Bwd IAT Std                  298578 non-null  float64\n",
      " 31   Bwd IAT Max                  298578 non-null  float64\n",
      " 32   Bwd IAT Min                  298578 non-null  float64\n",
      " 33  Fwd PSH Flags                 298578 non-null  int64  \n",
      " 34   Bwd PSH Flags                298578 non-null  int64  \n",
      " 35   Fwd URG Flags                298578 non-null  int64  \n",
      " 36   Bwd URG Flags                298578 non-null  int64  \n",
      " 37   Fwd Header Length            298578 non-null  int64  \n",
      " 38   Bwd Header Length            298578 non-null  int64  \n",
      " 39  Fwd Packets/s                 298578 non-null  float64\n",
      " 40   Bwd Packets/s                298578 non-null  float64\n",
      " 41   Min Packet Length            298578 non-null  float64\n",
      " 42   Max Packet Length            298578 non-null  float64\n",
      " 43   Packet Length Mean           298578 non-null  float64\n",
      " 44   Packet Length Std            298578 non-null  float64\n",
      " 45   Packet Length Variance       298578 non-null  float64\n",
      " 46  FIN Flag Count                298578 non-null  int64  \n",
      " 47   SYN Flag Count               298578 non-null  int64  \n",
      " 48   RST Flag Count               298578 non-null  int64  \n",
      " 49   PSH Flag Count               298578 non-null  int64  \n",
      " 50   ACK Flag Count               298578 non-null  int64  \n",
      " 51   URG Flag Count               298578 non-null  int64  \n",
      " 52   CWE Flag Count               298578 non-null  int64  \n",
      " 53   ECE Flag Count               298578 non-null  int64  \n",
      " 54   Down/Up Ratio                298578 non-null  float64\n",
      " 55   Average Packet Size          298578 non-null  float64\n",
      " 56   Avg Fwd Segment Size         298578 non-null  float64\n",
      " 57   Avg Bwd Segment Size         298578 non-null  float64\n",
      " 58   Fwd Header Length.1          298578 non-null  int64  \n",
      " 59  Fwd Avg Bytes/Bulk            298578 non-null  int64  \n",
      " 60   Fwd Avg Packets/Bulk         298578 non-null  int64  \n",
      " 61   Fwd Avg Bulk Rate            298578 non-null  int64  \n",
      " 62   Bwd Avg Bytes/Bulk           298578 non-null  int64  \n",
      " 63   Bwd Avg Packets/Bulk         298578 non-null  int64  \n",
      " 64  Bwd Avg Bulk Rate             298578 non-null  int64  \n",
      " 65  Subflow Fwd Packets           298578 non-null  int64  \n",
      " 66   Subflow Fwd Bytes            298578 non-null  int64  \n",
      " 67   Subflow Bwd Packets          298578 non-null  int64  \n",
      " 68   Subflow Bwd Bytes            298578 non-null  int64  \n",
      " 69  Init_Win_bytes_forward        298578 non-null  int64  \n",
      " 70   Init_Win_bytes_backward      298578 non-null  int64  \n",
      " 71   act_data_pkt_fwd             298578 non-null  int64  \n",
      " 72   min_seg_size_forward         298578 non-null  int64  \n",
      " 73  Active Mean                   298578 non-null  float64\n",
      " 74   Active Std                   298578 non-null  float64\n",
      " 75   Active Max                   298578 non-null  float64\n",
      " 76   Active Min                   298578 non-null  float64\n",
      " 77  Idle Mean                     298578 non-null  float64\n",
      " 78   Idle Std                     298578 non-null  float64\n",
      " 79   Idle Max                     298578 non-null  float64\n",
      " 80   Idle Min                     298578 non-null  float64\n",
      " 81   Inbound                      298578 non-null  int64  \n",
      " 82   Label                        298578 non-null  int64  \n",
      "dtypes: float64(45), int64(38)\n",
      "memory usage: 189.1 MB\n"
     ]
    }
   ],
   "source": [
    "tests.info()"
   ]
  },
  {
   "cell_type": "code",
   "execution_count": 30,
   "metadata": {},
   "outputs": [
    {
     "name": "stdout",
     "output_type": "stream",
     "text": [
      " Source Port         0\n",
      " Destination Port    0\n",
      " Protocol            0\n",
      " Timestamp           0\n",
      " Flow Duration       0\n",
      "                    ..\n",
      " Idle Std            0\n",
      " Idle Max            0\n",
      " Idle Min            0\n",
      " Inbound             0\n",
      " Label               0\n",
      "Length: 83, dtype: int64\n"
     ]
    }
   ],
   "source": [
    "null_count = tests.isnull().sum()\n",
    "print(null_count)"
   ]
  },
  {
   "cell_type": "code",
   "execution_count": 31,
   "metadata": {},
   "outputs": [
    {
     "data": {
      "text/html": [
       "<div>\n",
       "<style scoped>\n",
       "    .dataframe tbody tr th:only-of-type {\n",
       "        vertical-align: middle;\n",
       "    }\n",
       "\n",
       "    .dataframe tbody tr th {\n",
       "        vertical-align: top;\n",
       "    }\n",
       "\n",
       "    .dataframe thead th {\n",
       "        text-align: right;\n",
       "    }\n",
       "</style>\n",
       "<table border=\"1\" class=\"dataframe\">\n",
       "  <thead>\n",
       "    <tr style=\"text-align: right;\">\n",
       "      <th></th>\n",
       "      <th>Source Port</th>\n",
       "      <th>Destination Port</th>\n",
       "      <th>Protocol</th>\n",
       "      <th>Timestamp</th>\n",
       "      <th>Flow Duration</th>\n",
       "      <th>Total Fwd Packets</th>\n",
       "      <th>Total Backward Packets</th>\n",
       "      <th>Total Length of Fwd Packets</th>\n",
       "      <th>Total Length of Bwd Packets</th>\n",
       "      <th>Fwd Packet Length Max</th>\n",
       "      <th>...</th>\n",
       "      <th>Active Mean</th>\n",
       "      <th>Active Std</th>\n",
       "      <th>Active Max</th>\n",
       "      <th>Active Min</th>\n",
       "      <th>Idle Mean</th>\n",
       "      <th>Idle Std</th>\n",
       "      <th>Idle Max</th>\n",
       "      <th>Idle Min</th>\n",
       "      <th>Inbound</th>\n",
       "      <th>Label</th>\n",
       "    </tr>\n",
       "  </thead>\n",
       "  <tbody>\n",
       "    <tr>\n",
       "      <th>86183</th>\n",
       "      <td>27804</td>\n",
       "      <td>5971</td>\n",
       "      <td>17</td>\n",
       "      <td>3284847794</td>\n",
       "      <td>1</td>\n",
       "      <td>2</td>\n",
       "      <td>0</td>\n",
       "      <td>1122.0</td>\n",
       "      <td>0.0</td>\n",
       "      <td>561.0</td>\n",
       "      <td>...</td>\n",
       "      <td>0.0</td>\n",
       "      <td>0.000000</td>\n",
       "      <td>0.0</td>\n",
       "      <td>0.0</td>\n",
       "      <td>0.000000e+00</td>\n",
       "      <td>0.000000e+00</td>\n",
       "      <td>0.0</td>\n",
       "      <td>0.0</td>\n",
       "      <td>1</td>\n",
       "      <td>1</td>\n",
       "    </tr>\n",
       "    <tr>\n",
       "      <th>244083</th>\n",
       "      <td>23139</td>\n",
       "      <td>51627</td>\n",
       "      <td>6</td>\n",
       "      <td>3567585503</td>\n",
       "      <td>1</td>\n",
       "      <td>2</td>\n",
       "      <td>0</td>\n",
       "      <td>12.0</td>\n",
       "      <td>0.0</td>\n",
       "      <td>6.0</td>\n",
       "      <td>...</td>\n",
       "      <td>0.0</td>\n",
       "      <td>0.000000</td>\n",
       "      <td>0.0</td>\n",
       "      <td>0.0</td>\n",
       "      <td>0.000000e+00</td>\n",
       "      <td>0.000000e+00</td>\n",
       "      <td>0.0</td>\n",
       "      <td>0.0</td>\n",
       "      <td>1</td>\n",
       "      <td>1</td>\n",
       "    </tr>\n",
       "    <tr>\n",
       "      <th>230073</th>\n",
       "      <td>33478</td>\n",
       "      <td>7815</td>\n",
       "      <td>17</td>\n",
       "      <td>3777910789</td>\n",
       "      <td>3</td>\n",
       "      <td>2</td>\n",
       "      <td>0</td>\n",
       "      <td>804.0</td>\n",
       "      <td>0.0</td>\n",
       "      <td>402.0</td>\n",
       "      <td>...</td>\n",
       "      <td>0.0</td>\n",
       "      <td>0.000000</td>\n",
       "      <td>0.0</td>\n",
       "      <td>0.0</td>\n",
       "      <td>0.000000e+00</td>\n",
       "      <td>0.000000e+00</td>\n",
       "      <td>0.0</td>\n",
       "      <td>0.0</td>\n",
       "      <td>1</td>\n",
       "      <td>1</td>\n",
       "    </tr>\n",
       "    <tr>\n",
       "      <th>30033</th>\n",
       "      <td>61521</td>\n",
       "      <td>443</td>\n",
       "      <td>6</td>\n",
       "      <td>3984748341</td>\n",
       "      <td>1</td>\n",
       "      <td>2</td>\n",
       "      <td>0</td>\n",
       "      <td>37.0</td>\n",
       "      <td>0.0</td>\n",
       "      <td>31.0</td>\n",
       "      <td>...</td>\n",
       "      <td>0.0</td>\n",
       "      <td>0.000000</td>\n",
       "      <td>0.0</td>\n",
       "      <td>0.0</td>\n",
       "      <td>0.000000e+00</td>\n",
       "      <td>0.000000e+00</td>\n",
       "      <td>0.0</td>\n",
       "      <td>0.0</td>\n",
       "      <td>0</td>\n",
       "      <td>0</td>\n",
       "    </tr>\n",
       "    <tr>\n",
       "      <th>224374</th>\n",
       "      <td>46005</td>\n",
       "      <td>18027</td>\n",
       "      <td>6</td>\n",
       "      <td>1017602862</td>\n",
       "      <td>114</td>\n",
       "      <td>2</td>\n",
       "      <td>2</td>\n",
       "      <td>12.0</td>\n",
       "      <td>12.0</td>\n",
       "      <td>6.0</td>\n",
       "      <td>...</td>\n",
       "      <td>0.0</td>\n",
       "      <td>0.000000</td>\n",
       "      <td>0.0</td>\n",
       "      <td>0.0</td>\n",
       "      <td>0.000000e+00</td>\n",
       "      <td>0.000000e+00</td>\n",
       "      <td>0.0</td>\n",
       "      <td>0.0</td>\n",
       "      <td>1</td>\n",
       "      <td>1</td>\n",
       "    </tr>\n",
       "    <tr>\n",
       "      <th>169829</th>\n",
       "      <td>7900</td>\n",
       "      <td>2339</td>\n",
       "      <td>6</td>\n",
       "      <td>3588018905</td>\n",
       "      <td>1</td>\n",
       "      <td>2</td>\n",
       "      <td>0</td>\n",
       "      <td>12.0</td>\n",
       "      <td>0.0</td>\n",
       "      <td>6.0</td>\n",
       "      <td>...</td>\n",
       "      <td>0.0</td>\n",
       "      <td>0.000000</td>\n",
       "      <td>0.0</td>\n",
       "      <td>0.0</td>\n",
       "      <td>0.000000e+00</td>\n",
       "      <td>0.000000e+00</td>\n",
       "      <td>0.0</td>\n",
       "      <td>0.0</td>\n",
       "      <td>1</td>\n",
       "      <td>1</td>\n",
       "    </tr>\n",
       "    <tr>\n",
       "      <th>257834</th>\n",
       "      <td>5288</td>\n",
       "      <td>2167</td>\n",
       "      <td>6</td>\n",
       "      <td>3462863336</td>\n",
       "      <td>108</td>\n",
       "      <td>2</td>\n",
       "      <td>2</td>\n",
       "      <td>12.0</td>\n",
       "      <td>12.0</td>\n",
       "      <td>6.0</td>\n",
       "      <td>...</td>\n",
       "      <td>0.0</td>\n",
       "      <td>0.000000</td>\n",
       "      <td>0.0</td>\n",
       "      <td>0.0</td>\n",
       "      <td>0.000000e+00</td>\n",
       "      <td>0.000000e+00</td>\n",
       "      <td>0.0</td>\n",
       "      <td>0.0</td>\n",
       "      <td>1</td>\n",
       "      <td>1</td>\n",
       "    </tr>\n",
       "    <tr>\n",
       "      <th>291514</th>\n",
       "      <td>52833</td>\n",
       "      <td>52833</td>\n",
       "      <td>6</td>\n",
       "      <td>2990525710</td>\n",
       "      <td>53325225</td>\n",
       "      <td>14</td>\n",
       "      <td>8</td>\n",
       "      <td>84.0</td>\n",
       "      <td>48.0</td>\n",
       "      <td>6.0</td>\n",
       "      <td>...</td>\n",
       "      <td>73.5</td>\n",
       "      <td>56.372866</td>\n",
       "      <td>116.0</td>\n",
       "      <td>1.0</td>\n",
       "      <td>8.887464e+06</td>\n",
       "      <td>3.205696e+06</td>\n",
       "      <td>13864469.0</td>\n",
       "      <td>6140273.0</td>\n",
       "      <td>1</td>\n",
       "      <td>1</td>\n",
       "    </tr>\n",
       "    <tr>\n",
       "      <th>215108</th>\n",
       "      <td>51409</td>\n",
       "      <td>32127</td>\n",
       "      <td>6</td>\n",
       "      <td>1017602862</td>\n",
       "      <td>1</td>\n",
       "      <td>2</td>\n",
       "      <td>0</td>\n",
       "      <td>12.0</td>\n",
       "      <td>0.0</td>\n",
       "      <td>6.0</td>\n",
       "      <td>...</td>\n",
       "      <td>0.0</td>\n",
       "      <td>0.000000</td>\n",
       "      <td>0.0</td>\n",
       "      <td>0.0</td>\n",
       "      <td>0.000000e+00</td>\n",
       "      <td>0.000000e+00</td>\n",
       "      <td>0.0</td>\n",
       "      <td>0.0</td>\n",
       "      <td>1</td>\n",
       "      <td>1</td>\n",
       "    </tr>\n",
       "    <tr>\n",
       "      <th>7760</th>\n",
       "      <td>50828</td>\n",
       "      <td>53</td>\n",
       "      <td>17</td>\n",
       "      <td>686475253</td>\n",
       "      <td>20862</td>\n",
       "      <td>2</td>\n",
       "      <td>2</td>\n",
       "      <td>84.0</td>\n",
       "      <td>116.0</td>\n",
       "      <td>42.0</td>\n",
       "      <td>...</td>\n",
       "      <td>0.0</td>\n",
       "      <td>0.000000</td>\n",
       "      <td>0.0</td>\n",
       "      <td>0.0</td>\n",
       "      <td>0.000000e+00</td>\n",
       "      <td>0.000000e+00</td>\n",
       "      <td>0.0</td>\n",
       "      <td>0.0</td>\n",
       "      <td>0</td>\n",
       "      <td>0</td>\n",
       "    </tr>\n",
       "  </tbody>\n",
       "</table>\n",
       "<p>10 rows × 83 columns</p>\n",
       "</div>"
      ],
      "text/plain": [
       "         Source Port   Destination Port   Protocol   Timestamp   \n",
       "86183          27804               5971         17  3284847794  \\\n",
       "244083         23139              51627          6  3567585503   \n",
       "230073         33478               7815         17  3777910789   \n",
       "30033          61521                443          6  3984748341   \n",
       "224374         46005              18027          6  1017602862   \n",
       "169829          7900               2339          6  3588018905   \n",
       "257834          5288               2167          6  3462863336   \n",
       "291514         52833              52833          6  2990525710   \n",
       "215108         51409              32127          6  1017602862   \n",
       "7760           50828                 53         17   686475253   \n",
       "\n",
       "         Flow Duration   Total Fwd Packets   Total Backward Packets   \n",
       "86183                1                   2                        0  \\\n",
       "244083               1                   2                        0   \n",
       "230073               3                   2                        0   \n",
       "30033                1                   2                        0   \n",
       "224374             114                   2                        2   \n",
       "169829               1                   2                        0   \n",
       "257834             108                   2                        2   \n",
       "291514        53325225                  14                        8   \n",
       "215108               1                   2                        0   \n",
       "7760             20862                   2                        2   \n",
       "\n",
       "        Total Length of Fwd Packets   Total Length of Bwd Packets   \n",
       "86183                        1122.0                           0.0  \\\n",
       "244083                         12.0                           0.0   \n",
       "230073                        804.0                           0.0   \n",
       "30033                          37.0                           0.0   \n",
       "224374                         12.0                          12.0   \n",
       "169829                         12.0                           0.0   \n",
       "257834                         12.0                          12.0   \n",
       "291514                         84.0                          48.0   \n",
       "215108                         12.0                           0.0   \n",
       "7760                           84.0                         116.0   \n",
       "\n",
       "         Fwd Packet Length Max  ...  Active Mean   Active Std   Active Max   \n",
       "86183                    561.0  ...          0.0     0.000000          0.0  \\\n",
       "244083                     6.0  ...          0.0     0.000000          0.0   \n",
       "230073                   402.0  ...          0.0     0.000000          0.0   \n",
       "30033                     31.0  ...          0.0     0.000000          0.0   \n",
       "224374                     6.0  ...          0.0     0.000000          0.0   \n",
       "169829                     6.0  ...          0.0     0.000000          0.0   \n",
       "257834                     6.0  ...          0.0     0.000000          0.0   \n",
       "291514                     6.0  ...         73.5    56.372866        116.0   \n",
       "215108                     6.0  ...          0.0     0.000000          0.0   \n",
       "7760                      42.0  ...          0.0     0.000000          0.0   \n",
       "\n",
       "         Active Min     Idle Mean      Idle Std    Idle Max   Idle Min   \n",
       "86183           0.0  0.000000e+00  0.000000e+00         0.0        0.0  \\\n",
       "244083          0.0  0.000000e+00  0.000000e+00         0.0        0.0   \n",
       "230073          0.0  0.000000e+00  0.000000e+00         0.0        0.0   \n",
       "30033           0.0  0.000000e+00  0.000000e+00         0.0        0.0   \n",
       "224374          0.0  0.000000e+00  0.000000e+00         0.0        0.0   \n",
       "169829          0.0  0.000000e+00  0.000000e+00         0.0        0.0   \n",
       "257834          0.0  0.000000e+00  0.000000e+00         0.0        0.0   \n",
       "291514          1.0  8.887464e+06  3.205696e+06  13864469.0  6140273.0   \n",
       "215108          0.0  0.000000e+00  0.000000e+00         0.0        0.0   \n",
       "7760            0.0  0.000000e+00  0.000000e+00         0.0        0.0   \n",
       "\n",
       "         Inbound   Label  \n",
       "86183          1       1  \n",
       "244083         1       1  \n",
       "230073         1       1  \n",
       "30033          0       0  \n",
       "224374         1       1  \n",
       "169829         1       1  \n",
       "257834         1       1  \n",
       "291514         1       1  \n",
       "215108         1       1  \n",
       "7760           0       0  \n",
       "\n",
       "[10 rows x 83 columns]"
      ]
     },
     "execution_count": 31,
     "metadata": {},
     "output_type": "execute_result"
    }
   ],
   "source": [
    "tests.sample(10)"
   ]
  },
  {
   "cell_type": "code",
   "execution_count": 32,
   "metadata": {},
   "outputs": [
    {
     "name": "stdout",
     "output_type": "stream",
     "text": [
      " Source Port         0\n",
      " Destination Port    0\n",
      " Protocol            0\n",
      " Timestamp           0\n",
      " Flow Duration       0\n",
      "                    ..\n",
      " Idle Std            0\n",
      " Idle Max            0\n",
      " Idle Min            0\n",
      " Inbound             0\n",
      " Label               0\n",
      "Length: 83, dtype: int64\n"
     ]
    }
   ],
   "source": [
    "null_count = samples.isnull().sum()\n",
    "print(null_count)"
   ]
  },
  {
   "cell_type": "code",
   "execution_count": null,
   "metadata": {},
   "outputs": [
    {
     "data": {
      "text/html": [
       "<div>\n",
       "<style scoped>\n",
       "    .dataframe tbody tr th:only-of-type {\n",
       "        vertical-align: middle;\n",
       "    }\n",
       "\n",
       "    .dataframe tbody tr th {\n",
       "        vertical-align: top;\n",
       "    }\n",
       "\n",
       "    .dataframe thead th {\n",
       "        text-align: right;\n",
       "    }\n",
       "</style>\n",
       "<table border=\"1\" class=\"dataframe\">\n",
       "  <thead>\n",
       "    <tr style=\"text-align: right;\">\n",
       "      <th></th>\n",
       "      <th>Source Port</th>\n",
       "      <th>Destination Port</th>\n",
       "      <th>Protocol</th>\n",
       "      <th>Timestamp</th>\n",
       "      <th>Flow Duration</th>\n",
       "      <th>Total Fwd Packets</th>\n",
       "      <th>Total Backward Packets</th>\n",
       "      <th>Total Length of Fwd Packets</th>\n",
       "      <th>Total Length of Bwd Packets</th>\n",
       "      <th>Fwd Packet Length Max</th>\n",
       "      <th>...</th>\n",
       "      <th>Active Mean</th>\n",
       "      <th>Active Std</th>\n",
       "      <th>Active Max</th>\n",
       "      <th>Active Min</th>\n",
       "      <th>Idle Mean</th>\n",
       "      <th>Idle Std</th>\n",
       "      <th>Idle Max</th>\n",
       "      <th>Idle Min</th>\n",
       "      <th>Inbound</th>\n",
       "      <th>Label</th>\n",
       "    </tr>\n",
       "  </thead>\n",
       "  <tbody>\n",
       "    <tr>\n",
       "      <th>118114</th>\n",
       "      <td>41187</td>\n",
       "      <td>10729</td>\n",
       "      <td>17</td>\n",
       "      <td>1546898973</td>\n",
       "      <td>9016177</td>\n",
       "      <td>8</td>\n",
       "      <td>0</td>\n",
       "      <td>4128.0</td>\n",
       "      <td>0.0</td>\n",
       "      <td>516.0</td>\n",
       "      <td>...</td>\n",
       "      <td>0.0</td>\n",
       "      <td>0.0</td>\n",
       "      <td>0.0</td>\n",
       "      <td>0.0</td>\n",
       "      <td>0.0</td>\n",
       "      <td>0.0</td>\n",
       "      <td>0.0</td>\n",
       "      <td>0.0</td>\n",
       "      <td>1</td>\n",
       "      <td>1</td>\n",
       "    </tr>\n",
       "    <tr>\n",
       "      <th>188765</th>\n",
       "      <td>55738</td>\n",
       "      <td>51488</td>\n",
       "      <td>17</td>\n",
       "      <td>2341517911</td>\n",
       "      <td>2</td>\n",
       "      <td>2</td>\n",
       "      <td>0</td>\n",
       "      <td>926.0</td>\n",
       "      <td>0.0</td>\n",
       "      <td>463.0</td>\n",
       "      <td>...</td>\n",
       "      <td>0.0</td>\n",
       "      <td>0.0</td>\n",
       "      <td>0.0</td>\n",
       "      <td>0.0</td>\n",
       "      <td>0.0</td>\n",
       "      <td>0.0</td>\n",
       "      <td>0.0</td>\n",
       "      <td>0.0</td>\n",
       "      <td>1</td>\n",
       "      <td>1</td>\n",
       "    </tr>\n",
       "    <tr>\n",
       "      <th>99011</th>\n",
       "      <td>62644</td>\n",
       "      <td>64088</td>\n",
       "      <td>17</td>\n",
       "      <td>1184513954</td>\n",
       "      <td>15014725</td>\n",
       "      <td>12</td>\n",
       "      <td>0</td>\n",
       "      <td>6192.0</td>\n",
       "      <td>0.0</td>\n",
       "      <td>516.0</td>\n",
       "      <td>...</td>\n",
       "      <td>0.0</td>\n",
       "      <td>0.0</td>\n",
       "      <td>0.0</td>\n",
       "      <td>0.0</td>\n",
       "      <td>0.0</td>\n",
       "      <td>0.0</td>\n",
       "      <td>0.0</td>\n",
       "      <td>0.0</td>\n",
       "      <td>1</td>\n",
       "      <td>1</td>\n",
       "    </tr>\n",
       "    <tr>\n",
       "      <th>307272</th>\n",
       "      <td>1019</td>\n",
       "      <td>35057</td>\n",
       "      <td>17</td>\n",
       "      <td>3731775746</td>\n",
       "      <td>1</td>\n",
       "      <td>2</td>\n",
       "      <td>0</td>\n",
       "      <td>2944.0</td>\n",
       "      <td>0.0</td>\n",
       "      <td>1472.0</td>\n",
       "      <td>...</td>\n",
       "      <td>0.0</td>\n",
       "      <td>0.0</td>\n",
       "      <td>0.0</td>\n",
       "      <td>0.0</td>\n",
       "      <td>0.0</td>\n",
       "      <td>0.0</td>\n",
       "      <td>0.0</td>\n",
       "      <td>0.0</td>\n",
       "      <td>1</td>\n",
       "      <td>1</td>\n",
       "    </tr>\n",
       "    <tr>\n",
       "      <th>80459</th>\n",
       "      <td>62583</td>\n",
       "      <td>2011</td>\n",
       "      <td>17</td>\n",
       "      <td>3630113326</td>\n",
       "      <td>3001884</td>\n",
       "      <td>4</td>\n",
       "      <td>0</td>\n",
       "      <td>2064.0</td>\n",
       "      <td>0.0</td>\n",
       "      <td>516.0</td>\n",
       "      <td>...</td>\n",
       "      <td>0.0</td>\n",
       "      <td>0.0</td>\n",
       "      <td>0.0</td>\n",
       "      <td>0.0</td>\n",
       "      <td>0.0</td>\n",
       "      <td>0.0</td>\n",
       "      <td>0.0</td>\n",
       "      <td>0.0</td>\n",
       "      <td>1</td>\n",
       "      <td>1</td>\n",
       "    </tr>\n",
       "    <tr>\n",
       "      <th>252289</th>\n",
       "      <td>794</td>\n",
       "      <td>39293</td>\n",
       "      <td>17</td>\n",
       "      <td>3186855131</td>\n",
       "      <td>49999</td>\n",
       "      <td>176</td>\n",
       "      <td>0</td>\n",
       "      <td>77440.0</td>\n",
       "      <td>0.0</td>\n",
       "      <td>440.0</td>\n",
       "      <td>...</td>\n",
       "      <td>0.0</td>\n",
       "      <td>0.0</td>\n",
       "      <td>0.0</td>\n",
       "      <td>0.0</td>\n",
       "      <td>0.0</td>\n",
       "      <td>0.0</td>\n",
       "      <td>0.0</td>\n",
       "      <td>0.0</td>\n",
       "      <td>1</td>\n",
       "      <td>1</td>\n",
       "    </tr>\n",
       "    <tr>\n",
       "      <th>250413</th>\n",
       "      <td>611</td>\n",
       "      <td>3401</td>\n",
       "      <td>17</td>\n",
       "      <td>537762227</td>\n",
       "      <td>11562</td>\n",
       "      <td>8</td>\n",
       "      <td>0</td>\n",
       "      <td>3520.0</td>\n",
       "      <td>0.0</td>\n",
       "      <td>440.0</td>\n",
       "      <td>...</td>\n",
       "      <td>0.0</td>\n",
       "      <td>0.0</td>\n",
       "      <td>0.0</td>\n",
       "      <td>0.0</td>\n",
       "      <td>0.0</td>\n",
       "      <td>0.0</td>\n",
       "      <td>0.0</td>\n",
       "      <td>0.0</td>\n",
       "      <td>1</td>\n",
       "      <td>1</td>\n",
       "    </tr>\n",
       "    <tr>\n",
       "      <th>233536</th>\n",
       "      <td>813</td>\n",
       "      <td>35064</td>\n",
       "      <td>17</td>\n",
       "      <td>3072256426</td>\n",
       "      <td>2112</td>\n",
       "      <td>26</td>\n",
       "      <td>0</td>\n",
       "      <td>10720.0</td>\n",
       "      <td>0.0</td>\n",
       "      <td>440.0</td>\n",
       "      <td>...</td>\n",
       "      <td>0.0</td>\n",
       "      <td>0.0</td>\n",
       "      <td>0.0</td>\n",
       "      <td>0.0</td>\n",
       "      <td>0.0</td>\n",
       "      <td>0.0</td>\n",
       "      <td>0.0</td>\n",
       "      <td>0.0</td>\n",
       "      <td>1</td>\n",
       "      <td>1</td>\n",
       "    </tr>\n",
       "    <tr>\n",
       "      <th>46055</th>\n",
       "      <td>57545</td>\n",
       "      <td>80</td>\n",
       "      <td>6</td>\n",
       "      <td>280745201</td>\n",
       "      <td>174133</td>\n",
       "      <td>2</td>\n",
       "      <td>2</td>\n",
       "      <td>2.0</td>\n",
       "      <td>0.0</td>\n",
       "      <td>1.0</td>\n",
       "      <td>...</td>\n",
       "      <td>0.0</td>\n",
       "      <td>0.0</td>\n",
       "      <td>0.0</td>\n",
       "      <td>0.0</td>\n",
       "      <td>0.0</td>\n",
       "      <td>0.0</td>\n",
       "      <td>0.0</td>\n",
       "      <td>0.0</td>\n",
       "      <td>0</td>\n",
       "      <td>0</td>\n",
       "    </tr>\n",
       "    <tr>\n",
       "      <th>134998</th>\n",
       "      <td>62502</td>\n",
       "      <td>45621</td>\n",
       "      <td>17</td>\n",
       "      <td>2593743318</td>\n",
       "      <td>18002274</td>\n",
       "      <td>14</td>\n",
       "      <td>0</td>\n",
       "      <td>7224.0</td>\n",
       "      <td>0.0</td>\n",
       "      <td>516.0</td>\n",
       "      <td>...</td>\n",
       "      <td>0.0</td>\n",
       "      <td>0.0</td>\n",
       "      <td>0.0</td>\n",
       "      <td>0.0</td>\n",
       "      <td>0.0</td>\n",
       "      <td>0.0</td>\n",
       "      <td>0.0</td>\n",
       "      <td>0.0</td>\n",
       "      <td>1</td>\n",
       "      <td>1</td>\n",
       "    </tr>\n",
       "  </tbody>\n",
       "</table>\n",
       "<p>10 rows × 83 columns</p>\n",
       "</div>"
      ],
      "text/plain": [
       "         Source Port   Destination Port   Protocol   Timestamp   \n",
       "118114         41187              10729         17  1546898973  \\\n",
       "188765         55738              51488         17  2341517911   \n",
       "99011          62644              64088         17  1184513954   \n",
       "307272          1019              35057         17  3731775746   \n",
       "80459          62583               2011         17  3630113326   \n",
       "252289           794              39293         17  3186855131   \n",
       "250413           611               3401         17   537762227   \n",
       "233536           813              35064         17  3072256426   \n",
       "46055          57545                 80          6   280745201   \n",
       "134998         62502              45621         17  2593743318   \n",
       "\n",
       "         Flow Duration   Total Fwd Packets   Total Backward Packets   \n",
       "118114         9016177                   8                        0  \\\n",
       "188765               2                   2                        0   \n",
       "99011         15014725                  12                        0   \n",
       "307272               1                   2                        0   \n",
       "80459          3001884                   4                        0   \n",
       "252289           49999                 176                        0   \n",
       "250413           11562                   8                        0   \n",
       "233536            2112                  26                        0   \n",
       "46055           174133                   2                        2   \n",
       "134998        18002274                  14                        0   \n",
       "\n",
       "        Total Length of Fwd Packets   Total Length of Bwd Packets   \n",
       "118114                       4128.0                           0.0  \\\n",
       "188765                        926.0                           0.0   \n",
       "99011                        6192.0                           0.0   \n",
       "307272                       2944.0                           0.0   \n",
       "80459                        2064.0                           0.0   \n",
       "252289                      77440.0                           0.0   \n",
       "250413                       3520.0                           0.0   \n",
       "233536                      10720.0                           0.0   \n",
       "46055                           2.0                           0.0   \n",
       "134998                       7224.0                           0.0   \n",
       "\n",
       "         Fwd Packet Length Max  ...  Active Mean   Active Std   Active Max   \n",
       "118114                   516.0  ...          0.0          0.0          0.0  \\\n",
       "188765                   463.0  ...          0.0          0.0          0.0   \n",
       "99011                    516.0  ...          0.0          0.0          0.0   \n",
       "307272                  1472.0  ...          0.0          0.0          0.0   \n",
       "80459                    516.0  ...          0.0          0.0          0.0   \n",
       "252289                   440.0  ...          0.0          0.0          0.0   \n",
       "250413                   440.0  ...          0.0          0.0          0.0   \n",
       "233536                   440.0  ...          0.0          0.0          0.0   \n",
       "46055                      1.0  ...          0.0          0.0          0.0   \n",
       "134998                   516.0  ...          0.0          0.0          0.0   \n",
       "\n",
       "         Active Min  Idle Mean   Idle Std   Idle Max   Idle Min   Inbound   \n",
       "118114          0.0        0.0        0.0        0.0        0.0         1  \\\n",
       "188765          0.0        0.0        0.0        0.0        0.0         1   \n",
       "99011           0.0        0.0        0.0        0.0        0.0         1   \n",
       "307272          0.0        0.0        0.0        0.0        0.0         1   \n",
       "80459           0.0        0.0        0.0        0.0        0.0         1   \n",
       "252289          0.0        0.0        0.0        0.0        0.0         1   \n",
       "250413          0.0        0.0        0.0        0.0        0.0         1   \n",
       "233536          0.0        0.0        0.0        0.0        0.0         1   \n",
       "46055           0.0        0.0        0.0        0.0        0.0         0   \n",
       "134998          0.0        0.0        0.0        0.0        0.0         1   \n",
       "\n",
       "         Label  \n",
       "118114       1  \n",
       "188765       1  \n",
       "99011        1  \n",
       "307272       1  \n",
       "80459        1  \n",
       "252289       1  \n",
       "250413       1  \n",
       "233536       1  \n",
       "46055        0  \n",
       "134998       1  \n",
       "\n",
       "[10 rows x 83 columns]"
      ]
     },
     "execution_count": 31,
     "metadata": {},
     "output_type": "execute_result"
    }
   ],
   "source": [
    "samples.sample(10)"
   ]
  },
  {
   "cell_type": "code",
   "execution_count": null,
   "metadata": {},
   "outputs": [
    {
     "name": "stdout",
     "output_type": "stream",
     "text": [
      "Index([' Source Port', ' Destination Port', ' Protocol', ' Timestamp',\n",
      "       ' Flow Duration', ' Total Fwd Packets', ' Total Backward Packets',\n",
      "       'Total Length of Fwd Packets', ' Total Length of Bwd Packets',\n",
      "       ' Fwd Packet Length Max', ' Fwd Packet Length Min',\n",
      "       ' Fwd Packet Length Mean', ' Fwd Packet Length Std',\n",
      "       'Bwd Packet Length Max', ' Bwd Packet Length Min',\n",
      "       ' Bwd Packet Length Mean', ' Bwd Packet Length Std', 'Flow Bytes/s',\n",
      "       ' Flow Packets/s', ' Flow IAT Mean', ' Flow IAT Std', ' Flow IAT Max',\n",
      "       ' Flow IAT Min', 'Fwd IAT Total', ' Fwd IAT Mean', ' Fwd IAT Std',\n",
      "       ' Fwd IAT Max', ' Fwd IAT Min', 'Bwd IAT Total', ' Bwd IAT Mean',\n",
      "       ' Bwd IAT Std', ' Bwd IAT Max', ' Bwd IAT Min', 'Fwd PSH Flags',\n",
      "       ' Bwd PSH Flags', ' Fwd URG Flags', ' Bwd URG Flags',\n",
      "       ' Fwd Header Length', ' Bwd Header Length', 'Fwd Packets/s',\n",
      "       ' Bwd Packets/s', ' Min Packet Length', ' Max Packet Length',\n",
      "       ' Packet Length Mean', ' Packet Length Std', ' Packet Length Variance',\n",
      "       'FIN Flag Count', ' SYN Flag Count', ' RST Flag Count',\n",
      "       ' PSH Flag Count', ' ACK Flag Count', ' URG Flag Count',\n",
      "       ' CWE Flag Count', ' ECE Flag Count', ' Down/Up Ratio',\n",
      "       ' Average Packet Size', ' Avg Fwd Segment Size',\n",
      "       ' Avg Bwd Segment Size', ' Fwd Header Length.1', 'Fwd Avg Bytes/Bulk',\n",
      "       ' Fwd Avg Packets/Bulk', ' Fwd Avg Bulk Rate', ' Bwd Avg Bytes/Bulk',\n",
      "       ' Bwd Avg Packets/Bulk', 'Bwd Avg Bulk Rate', 'Subflow Fwd Packets',\n",
      "       ' Subflow Fwd Bytes', ' Subflow Bwd Packets', ' Subflow Bwd Bytes',\n",
      "       'Init_Win_bytes_forward', ' Init_Win_bytes_backward',\n",
      "       ' act_data_pkt_fwd', ' min_seg_size_forward', 'Active Mean',\n",
      "       ' Active Std', ' Active Max', ' Active Min', 'Idle Mean', ' Idle Std',\n",
      "       ' Idle Max', ' Idle Min', ' Inbound', ' Label'],\n",
      "      dtype='object')\n"
     ]
    }
   ],
   "source": [
    "print(tests.columns)\n"
   ]
  },
  {
   "cell_type": "code",
   "execution_count": 80,
   "metadata": {},
   "outputs": [
    {
     "name": "stdout",
     "output_type": "stream",
     "text": [
      "        count\n",
      "Label        \n",
      "1      248815\n",
      "0       49763\n"
     ]
    },
    {
     "data": {
      "application/vnd.plotly.v1+json": {
       "config": {
        "plotlyServerURL": "https://plot.ly"
       },
       "data": [
        {
         "alignmentgroup": "True",
         "hovertemplate": "Label=%{x}<br>count=%{y}<extra></extra>",
         "legendgroup": "",
         "marker": {
          "color": [
           "red",
           "green"
          ],
          "pattern": {
           "shape": ""
          }
         },
         "name": "",
         "offsetgroup": "",
         "orientation": "v",
         "showlegend": false,
         "textposition": "auto",
         "type": "bar",
         "x": [
          1,
          0
         ],
         "xaxis": "x",
         "y": [
          248815,
          49763
         ],
         "yaxis": "y"
        }
       ],
       "layout": {
        "barmode": "relative",
        "legend": {
         "tracegroupgap": 0
        },
        "margin": {
         "t": 60
        },
        "template": {
         "data": {
          "bar": [
           {
            "error_x": {
             "color": "#2a3f5f"
            },
            "error_y": {
             "color": "#2a3f5f"
            },
            "marker": {
             "line": {
              "color": "#E5ECF6",
              "width": 0.5
             },
             "pattern": {
              "fillmode": "overlay",
              "size": 10,
              "solidity": 0.2
             }
            },
            "type": "bar"
           }
          ],
          "barpolar": [
           {
            "marker": {
             "line": {
              "color": "#E5ECF6",
              "width": 0.5
             },
             "pattern": {
              "fillmode": "overlay",
              "size": 10,
              "solidity": 0.2
             }
            },
            "type": "barpolar"
           }
          ],
          "carpet": [
           {
            "aaxis": {
             "endlinecolor": "#2a3f5f",
             "gridcolor": "white",
             "linecolor": "white",
             "minorgridcolor": "white",
             "startlinecolor": "#2a3f5f"
            },
            "baxis": {
             "endlinecolor": "#2a3f5f",
             "gridcolor": "white",
             "linecolor": "white",
             "minorgridcolor": "white",
             "startlinecolor": "#2a3f5f"
            },
            "type": "carpet"
           }
          ],
          "choropleth": [
           {
            "colorbar": {
             "outlinewidth": 0,
             "ticks": ""
            },
            "type": "choropleth"
           }
          ],
          "contour": [
           {
            "colorbar": {
             "outlinewidth": 0,
             "ticks": ""
            },
            "colorscale": [
             [
              0,
              "#0d0887"
             ],
             [
              0.1111111111111111,
              "#46039f"
             ],
             [
              0.2222222222222222,
              "#7201a8"
             ],
             [
              0.3333333333333333,
              "#9c179e"
             ],
             [
              0.4444444444444444,
              "#bd3786"
             ],
             [
              0.5555555555555556,
              "#d8576b"
             ],
             [
              0.6666666666666666,
              "#ed7953"
             ],
             [
              0.7777777777777778,
              "#fb9f3a"
             ],
             [
              0.8888888888888888,
              "#fdca26"
             ],
             [
              1,
              "#f0f921"
             ]
            ],
            "type": "contour"
           }
          ],
          "contourcarpet": [
           {
            "colorbar": {
             "outlinewidth": 0,
             "ticks": ""
            },
            "type": "contourcarpet"
           }
          ],
          "heatmap": [
           {
            "colorbar": {
             "outlinewidth": 0,
             "ticks": ""
            },
            "colorscale": [
             [
              0,
              "#0d0887"
             ],
             [
              0.1111111111111111,
              "#46039f"
             ],
             [
              0.2222222222222222,
              "#7201a8"
             ],
             [
              0.3333333333333333,
              "#9c179e"
             ],
             [
              0.4444444444444444,
              "#bd3786"
             ],
             [
              0.5555555555555556,
              "#d8576b"
             ],
             [
              0.6666666666666666,
              "#ed7953"
             ],
             [
              0.7777777777777778,
              "#fb9f3a"
             ],
             [
              0.8888888888888888,
              "#fdca26"
             ],
             [
              1,
              "#f0f921"
             ]
            ],
            "type": "heatmap"
           }
          ],
          "heatmapgl": [
           {
            "colorbar": {
             "outlinewidth": 0,
             "ticks": ""
            },
            "colorscale": [
             [
              0,
              "#0d0887"
             ],
             [
              0.1111111111111111,
              "#46039f"
             ],
             [
              0.2222222222222222,
              "#7201a8"
             ],
             [
              0.3333333333333333,
              "#9c179e"
             ],
             [
              0.4444444444444444,
              "#bd3786"
             ],
             [
              0.5555555555555556,
              "#d8576b"
             ],
             [
              0.6666666666666666,
              "#ed7953"
             ],
             [
              0.7777777777777778,
              "#fb9f3a"
             ],
             [
              0.8888888888888888,
              "#fdca26"
             ],
             [
              1,
              "#f0f921"
             ]
            ],
            "type": "heatmapgl"
           }
          ],
          "histogram": [
           {
            "marker": {
             "pattern": {
              "fillmode": "overlay",
              "size": 10,
              "solidity": 0.2
             }
            },
            "type": "histogram"
           }
          ],
          "histogram2d": [
           {
            "colorbar": {
             "outlinewidth": 0,
             "ticks": ""
            },
            "colorscale": [
             [
              0,
              "#0d0887"
             ],
             [
              0.1111111111111111,
              "#46039f"
             ],
             [
              0.2222222222222222,
              "#7201a8"
             ],
             [
              0.3333333333333333,
              "#9c179e"
             ],
             [
              0.4444444444444444,
              "#bd3786"
             ],
             [
              0.5555555555555556,
              "#d8576b"
             ],
             [
              0.6666666666666666,
              "#ed7953"
             ],
             [
              0.7777777777777778,
              "#fb9f3a"
             ],
             [
              0.8888888888888888,
              "#fdca26"
             ],
             [
              1,
              "#f0f921"
             ]
            ],
            "type": "histogram2d"
           }
          ],
          "histogram2dcontour": [
           {
            "colorbar": {
             "outlinewidth": 0,
             "ticks": ""
            },
            "colorscale": [
             [
              0,
              "#0d0887"
             ],
             [
              0.1111111111111111,
              "#46039f"
             ],
             [
              0.2222222222222222,
              "#7201a8"
             ],
             [
              0.3333333333333333,
              "#9c179e"
             ],
             [
              0.4444444444444444,
              "#bd3786"
             ],
             [
              0.5555555555555556,
              "#d8576b"
             ],
             [
              0.6666666666666666,
              "#ed7953"
             ],
             [
              0.7777777777777778,
              "#fb9f3a"
             ],
             [
              0.8888888888888888,
              "#fdca26"
             ],
             [
              1,
              "#f0f921"
             ]
            ],
            "type": "histogram2dcontour"
           }
          ],
          "mesh3d": [
           {
            "colorbar": {
             "outlinewidth": 0,
             "ticks": ""
            },
            "type": "mesh3d"
           }
          ],
          "parcoords": [
           {
            "line": {
             "colorbar": {
              "outlinewidth": 0,
              "ticks": ""
             }
            },
            "type": "parcoords"
           }
          ],
          "pie": [
           {
            "automargin": true,
            "type": "pie"
           }
          ],
          "scatter": [
           {
            "fillpattern": {
             "fillmode": "overlay",
             "size": 10,
             "solidity": 0.2
            },
            "type": "scatter"
           }
          ],
          "scatter3d": [
           {
            "line": {
             "colorbar": {
              "outlinewidth": 0,
              "ticks": ""
             }
            },
            "marker": {
             "colorbar": {
              "outlinewidth": 0,
              "ticks": ""
             }
            },
            "type": "scatter3d"
           }
          ],
          "scattercarpet": [
           {
            "marker": {
             "colorbar": {
              "outlinewidth": 0,
              "ticks": ""
             }
            },
            "type": "scattercarpet"
           }
          ],
          "scattergeo": [
           {
            "marker": {
             "colorbar": {
              "outlinewidth": 0,
              "ticks": ""
             }
            },
            "type": "scattergeo"
           }
          ],
          "scattergl": [
           {
            "marker": {
             "colorbar": {
              "outlinewidth": 0,
              "ticks": ""
             }
            },
            "type": "scattergl"
           }
          ],
          "scattermapbox": [
           {
            "marker": {
             "colorbar": {
              "outlinewidth": 0,
              "ticks": ""
             }
            },
            "type": "scattermapbox"
           }
          ],
          "scatterpolar": [
           {
            "marker": {
             "colorbar": {
              "outlinewidth": 0,
              "ticks": ""
             }
            },
            "type": "scatterpolar"
           }
          ],
          "scatterpolargl": [
           {
            "marker": {
             "colorbar": {
              "outlinewidth": 0,
              "ticks": ""
             }
            },
            "type": "scatterpolargl"
           }
          ],
          "scatterternary": [
           {
            "marker": {
             "colorbar": {
              "outlinewidth": 0,
              "ticks": ""
             }
            },
            "type": "scatterternary"
           }
          ],
          "surface": [
           {
            "colorbar": {
             "outlinewidth": 0,
             "ticks": ""
            },
            "colorscale": [
             [
              0,
              "#0d0887"
             ],
             [
              0.1111111111111111,
              "#46039f"
             ],
             [
              0.2222222222222222,
              "#7201a8"
             ],
             [
              0.3333333333333333,
              "#9c179e"
             ],
             [
              0.4444444444444444,
              "#bd3786"
             ],
             [
              0.5555555555555556,
              "#d8576b"
             ],
             [
              0.6666666666666666,
              "#ed7953"
             ],
             [
              0.7777777777777778,
              "#fb9f3a"
             ],
             [
              0.8888888888888888,
              "#fdca26"
             ],
             [
              1,
              "#f0f921"
             ]
            ],
            "type": "surface"
           }
          ],
          "table": [
           {
            "cells": {
             "fill": {
              "color": "#EBF0F8"
             },
             "line": {
              "color": "white"
             }
            },
            "header": {
             "fill": {
              "color": "#C8D4E3"
             },
             "line": {
              "color": "white"
             }
            },
            "type": "table"
           }
          ]
         },
         "layout": {
          "annotationdefaults": {
           "arrowcolor": "#2a3f5f",
           "arrowhead": 0,
           "arrowwidth": 1
          },
          "autotypenumbers": "strict",
          "coloraxis": {
           "colorbar": {
            "outlinewidth": 0,
            "ticks": ""
           }
          },
          "colorscale": {
           "diverging": [
            [
             0,
             "#8e0152"
            ],
            [
             0.1,
             "#c51b7d"
            ],
            [
             0.2,
             "#de77ae"
            ],
            [
             0.3,
             "#f1b6da"
            ],
            [
             0.4,
             "#fde0ef"
            ],
            [
             0.5,
             "#f7f7f7"
            ],
            [
             0.6,
             "#e6f5d0"
            ],
            [
             0.7,
             "#b8e186"
            ],
            [
             0.8,
             "#7fbc41"
            ],
            [
             0.9,
             "#4d9221"
            ],
            [
             1,
             "#276419"
            ]
           ],
           "sequential": [
            [
             0,
             "#0d0887"
            ],
            [
             0.1111111111111111,
             "#46039f"
            ],
            [
             0.2222222222222222,
             "#7201a8"
            ],
            [
             0.3333333333333333,
             "#9c179e"
            ],
            [
             0.4444444444444444,
             "#bd3786"
            ],
            [
             0.5555555555555556,
             "#d8576b"
            ],
            [
             0.6666666666666666,
             "#ed7953"
            ],
            [
             0.7777777777777778,
             "#fb9f3a"
            ],
            [
             0.8888888888888888,
             "#fdca26"
            ],
            [
             1,
             "#f0f921"
            ]
           ],
           "sequentialminus": [
            [
             0,
             "#0d0887"
            ],
            [
             0.1111111111111111,
             "#46039f"
            ],
            [
             0.2222222222222222,
             "#7201a8"
            ],
            [
             0.3333333333333333,
             "#9c179e"
            ],
            [
             0.4444444444444444,
             "#bd3786"
            ],
            [
             0.5555555555555556,
             "#d8576b"
            ],
            [
             0.6666666666666666,
             "#ed7953"
            ],
            [
             0.7777777777777778,
             "#fb9f3a"
            ],
            [
             0.8888888888888888,
             "#fdca26"
            ],
            [
             1,
             "#f0f921"
            ]
           ]
          },
          "colorway": [
           "#636efa",
           "#EF553B",
           "#00cc96",
           "#ab63fa",
           "#FFA15A",
           "#19d3f3",
           "#FF6692",
           "#B6E880",
           "#FF97FF",
           "#FECB52"
          ],
          "font": {
           "color": "#2a3f5f"
          },
          "geo": {
           "bgcolor": "white",
           "lakecolor": "white",
           "landcolor": "#E5ECF6",
           "showlakes": true,
           "showland": true,
           "subunitcolor": "white"
          },
          "hoverlabel": {
           "align": "left"
          },
          "hovermode": "closest",
          "mapbox": {
           "style": "light"
          },
          "paper_bgcolor": "white",
          "plot_bgcolor": "#E5ECF6",
          "polar": {
           "angularaxis": {
            "gridcolor": "white",
            "linecolor": "white",
            "ticks": ""
           },
           "bgcolor": "#E5ECF6",
           "radialaxis": {
            "gridcolor": "white",
            "linecolor": "white",
            "ticks": ""
           }
          },
          "scene": {
           "xaxis": {
            "backgroundcolor": "#E5ECF6",
            "gridcolor": "white",
            "gridwidth": 2,
            "linecolor": "white",
            "showbackground": true,
            "ticks": "",
            "zerolinecolor": "white"
           },
           "yaxis": {
            "backgroundcolor": "#E5ECF6",
            "gridcolor": "white",
            "gridwidth": 2,
            "linecolor": "white",
            "showbackground": true,
            "ticks": "",
            "zerolinecolor": "white"
           },
           "zaxis": {
            "backgroundcolor": "#E5ECF6",
            "gridcolor": "white",
            "gridwidth": 2,
            "linecolor": "white",
            "showbackground": true,
            "ticks": "",
            "zerolinecolor": "white"
           }
          },
          "shapedefaults": {
           "line": {
            "color": "#2a3f5f"
           }
          },
          "ternary": {
           "aaxis": {
            "gridcolor": "white",
            "linecolor": "white",
            "ticks": ""
           },
           "baxis": {
            "gridcolor": "white",
            "linecolor": "white",
            "ticks": ""
           },
           "bgcolor": "#E5ECF6",
           "caxis": {
            "gridcolor": "white",
            "linecolor": "white",
            "ticks": ""
           }
          },
          "title": {
           "x": 0.05
          },
          "xaxis": {
           "automargin": true,
           "gridcolor": "white",
           "linecolor": "white",
           "ticks": "",
           "title": {
            "standoff": 15
           },
           "zerolinecolor": "white",
           "zerolinewidth": 2
          },
          "yaxis": {
           "automargin": true,
           "gridcolor": "white",
           "linecolor": "white",
           "ticks": "",
           "title": {
            "standoff": 15
           },
           "zerolinecolor": "white",
           "zerolinewidth": 2
          }
         }
        },
        "title": {
         "text": "Data of Day 1",
         "x": 0.5,
         "xanchor": "center"
        },
        "xaxis": {
         "anchor": "y",
         "domain": [
          0,
          1
         ],
         "title": {
          "text": "Label"
         }
        },
        "yaxis": {
         "anchor": "x",
         "domain": [
          0,
          1
         ],
         "title": {
          "text": "Instances"
         }
        }
       }
      }
     },
     "metadata": {},
     "output_type": "display_data"
    }
   ],
   "source": [
    "import plotly.express as px\n",
    "# Remove leading whitespace from column name\n",
    "tests.columns = tests.columns.str.strip()\n",
    "\n",
    "# Create label_counter DataFrame\n",
    "label_counter1 = pd.DataFrame(tests['Label'].value_counts())\n",
    "\n",
    "# Print the DataFrame\n",
    "print(label_counter1)\n",
    "fig = px.bar(label_counter1, x=label_counter1.index, y=label_counter1['count'])\n",
    "\n",
    "fig.update_layout(\n",
    "    title={\n",
    "        'text': 'Data of Day 1',\n",
    "        'x': 0.5,\n",
    "        'xanchor': 'center'\n",
    "    },\n",
    "    xaxis_title=\"Label\",\n",
    "    yaxis_title=\"Instances\"\n",
    ")\n",
    "\n",
    "# Define the colors for the left and right columns\n",
    "fig.data[0].marker.color = ['red' if label == label_counter1.index[0] else 'green' for label in label_counter1.index]\n",
    "\n",
    "fig.show()"
   ]
  },
  {
   "cell_type": "code",
   "execution_count": 81,
   "metadata": {},
   "outputs": [
    {
     "name": "stdout",
     "output_type": "stream",
     "text": [
      "        count\n",
      "Label        \n",
      "1      275016\n",
      "0       56863\n"
     ]
    },
    {
     "data": {
      "application/vnd.plotly.v1+json": {
       "config": {
        "plotlyServerURL": "https://plot.ly"
       },
       "data": [
        {
         "alignmentgroup": "True",
         "hovertemplate": "Label=%{x}<br>count=%{y}<extra></extra>",
         "legendgroup": "",
         "marker": {
          "color": [
           "red",
           "green"
          ],
          "pattern": {
           "shape": ""
          }
         },
         "name": "",
         "offsetgroup": "",
         "orientation": "v",
         "showlegend": false,
         "textposition": "auto",
         "type": "bar",
         "x": [
          1,
          0
         ],
         "xaxis": "x",
         "y": [
          275016,
          56863
         ],
         "yaxis": "y"
        }
       ],
       "layout": {
        "barmode": "relative",
        "legend": {
         "tracegroupgap": 0
        },
        "margin": {
         "t": 60
        },
        "template": {
         "data": {
          "bar": [
           {
            "error_x": {
             "color": "#2a3f5f"
            },
            "error_y": {
             "color": "#2a3f5f"
            },
            "marker": {
             "line": {
              "color": "#E5ECF6",
              "width": 0.5
             },
             "pattern": {
              "fillmode": "overlay",
              "size": 10,
              "solidity": 0.2
             }
            },
            "type": "bar"
           }
          ],
          "barpolar": [
           {
            "marker": {
             "line": {
              "color": "#E5ECF6",
              "width": 0.5
             },
             "pattern": {
              "fillmode": "overlay",
              "size": 10,
              "solidity": 0.2
             }
            },
            "type": "barpolar"
           }
          ],
          "carpet": [
           {
            "aaxis": {
             "endlinecolor": "#2a3f5f",
             "gridcolor": "white",
             "linecolor": "white",
             "minorgridcolor": "white",
             "startlinecolor": "#2a3f5f"
            },
            "baxis": {
             "endlinecolor": "#2a3f5f",
             "gridcolor": "white",
             "linecolor": "white",
             "minorgridcolor": "white",
             "startlinecolor": "#2a3f5f"
            },
            "type": "carpet"
           }
          ],
          "choropleth": [
           {
            "colorbar": {
             "outlinewidth": 0,
             "ticks": ""
            },
            "type": "choropleth"
           }
          ],
          "contour": [
           {
            "colorbar": {
             "outlinewidth": 0,
             "ticks": ""
            },
            "colorscale": [
             [
              0,
              "#0d0887"
             ],
             [
              0.1111111111111111,
              "#46039f"
             ],
             [
              0.2222222222222222,
              "#7201a8"
             ],
             [
              0.3333333333333333,
              "#9c179e"
             ],
             [
              0.4444444444444444,
              "#bd3786"
             ],
             [
              0.5555555555555556,
              "#d8576b"
             ],
             [
              0.6666666666666666,
              "#ed7953"
             ],
             [
              0.7777777777777778,
              "#fb9f3a"
             ],
             [
              0.8888888888888888,
              "#fdca26"
             ],
             [
              1,
              "#f0f921"
             ]
            ],
            "type": "contour"
           }
          ],
          "contourcarpet": [
           {
            "colorbar": {
             "outlinewidth": 0,
             "ticks": ""
            },
            "type": "contourcarpet"
           }
          ],
          "heatmap": [
           {
            "colorbar": {
             "outlinewidth": 0,
             "ticks": ""
            },
            "colorscale": [
             [
              0,
              "#0d0887"
             ],
             [
              0.1111111111111111,
              "#46039f"
             ],
             [
              0.2222222222222222,
              "#7201a8"
             ],
             [
              0.3333333333333333,
              "#9c179e"
             ],
             [
              0.4444444444444444,
              "#bd3786"
             ],
             [
              0.5555555555555556,
              "#d8576b"
             ],
             [
              0.6666666666666666,
              "#ed7953"
             ],
             [
              0.7777777777777778,
              "#fb9f3a"
             ],
             [
              0.8888888888888888,
              "#fdca26"
             ],
             [
              1,
              "#f0f921"
             ]
            ],
            "type": "heatmap"
           }
          ],
          "heatmapgl": [
           {
            "colorbar": {
             "outlinewidth": 0,
             "ticks": ""
            },
            "colorscale": [
             [
              0,
              "#0d0887"
             ],
             [
              0.1111111111111111,
              "#46039f"
             ],
             [
              0.2222222222222222,
              "#7201a8"
             ],
             [
              0.3333333333333333,
              "#9c179e"
             ],
             [
              0.4444444444444444,
              "#bd3786"
             ],
             [
              0.5555555555555556,
              "#d8576b"
             ],
             [
              0.6666666666666666,
              "#ed7953"
             ],
             [
              0.7777777777777778,
              "#fb9f3a"
             ],
             [
              0.8888888888888888,
              "#fdca26"
             ],
             [
              1,
              "#f0f921"
             ]
            ],
            "type": "heatmapgl"
           }
          ],
          "histogram": [
           {
            "marker": {
             "pattern": {
              "fillmode": "overlay",
              "size": 10,
              "solidity": 0.2
             }
            },
            "type": "histogram"
           }
          ],
          "histogram2d": [
           {
            "colorbar": {
             "outlinewidth": 0,
             "ticks": ""
            },
            "colorscale": [
             [
              0,
              "#0d0887"
             ],
             [
              0.1111111111111111,
              "#46039f"
             ],
             [
              0.2222222222222222,
              "#7201a8"
             ],
             [
              0.3333333333333333,
              "#9c179e"
             ],
             [
              0.4444444444444444,
              "#bd3786"
             ],
             [
              0.5555555555555556,
              "#d8576b"
             ],
             [
              0.6666666666666666,
              "#ed7953"
             ],
             [
              0.7777777777777778,
              "#fb9f3a"
             ],
             [
              0.8888888888888888,
              "#fdca26"
             ],
             [
              1,
              "#f0f921"
             ]
            ],
            "type": "histogram2d"
           }
          ],
          "histogram2dcontour": [
           {
            "colorbar": {
             "outlinewidth": 0,
             "ticks": ""
            },
            "colorscale": [
             [
              0,
              "#0d0887"
             ],
             [
              0.1111111111111111,
              "#46039f"
             ],
             [
              0.2222222222222222,
              "#7201a8"
             ],
             [
              0.3333333333333333,
              "#9c179e"
             ],
             [
              0.4444444444444444,
              "#bd3786"
             ],
             [
              0.5555555555555556,
              "#d8576b"
             ],
             [
              0.6666666666666666,
              "#ed7953"
             ],
             [
              0.7777777777777778,
              "#fb9f3a"
             ],
             [
              0.8888888888888888,
              "#fdca26"
             ],
             [
              1,
              "#f0f921"
             ]
            ],
            "type": "histogram2dcontour"
           }
          ],
          "mesh3d": [
           {
            "colorbar": {
             "outlinewidth": 0,
             "ticks": ""
            },
            "type": "mesh3d"
           }
          ],
          "parcoords": [
           {
            "line": {
             "colorbar": {
              "outlinewidth": 0,
              "ticks": ""
             }
            },
            "type": "parcoords"
           }
          ],
          "pie": [
           {
            "automargin": true,
            "type": "pie"
           }
          ],
          "scatter": [
           {
            "fillpattern": {
             "fillmode": "overlay",
             "size": 10,
             "solidity": 0.2
            },
            "type": "scatter"
           }
          ],
          "scatter3d": [
           {
            "line": {
             "colorbar": {
              "outlinewidth": 0,
              "ticks": ""
             }
            },
            "marker": {
             "colorbar": {
              "outlinewidth": 0,
              "ticks": ""
             }
            },
            "type": "scatter3d"
           }
          ],
          "scattercarpet": [
           {
            "marker": {
             "colorbar": {
              "outlinewidth": 0,
              "ticks": ""
             }
            },
            "type": "scattercarpet"
           }
          ],
          "scattergeo": [
           {
            "marker": {
             "colorbar": {
              "outlinewidth": 0,
              "ticks": ""
             }
            },
            "type": "scattergeo"
           }
          ],
          "scattergl": [
           {
            "marker": {
             "colorbar": {
              "outlinewidth": 0,
              "ticks": ""
             }
            },
            "type": "scattergl"
           }
          ],
          "scattermapbox": [
           {
            "marker": {
             "colorbar": {
              "outlinewidth": 0,
              "ticks": ""
             }
            },
            "type": "scattermapbox"
           }
          ],
          "scatterpolar": [
           {
            "marker": {
             "colorbar": {
              "outlinewidth": 0,
              "ticks": ""
             }
            },
            "type": "scatterpolar"
           }
          ],
          "scatterpolargl": [
           {
            "marker": {
             "colorbar": {
              "outlinewidth": 0,
              "ticks": ""
             }
            },
            "type": "scatterpolargl"
           }
          ],
          "scatterternary": [
           {
            "marker": {
             "colorbar": {
              "outlinewidth": 0,
              "ticks": ""
             }
            },
            "type": "scatterternary"
           }
          ],
          "surface": [
           {
            "colorbar": {
             "outlinewidth": 0,
             "ticks": ""
            },
            "colorscale": [
             [
              0,
              "#0d0887"
             ],
             [
              0.1111111111111111,
              "#46039f"
             ],
             [
              0.2222222222222222,
              "#7201a8"
             ],
             [
              0.3333333333333333,
              "#9c179e"
             ],
             [
              0.4444444444444444,
              "#bd3786"
             ],
             [
              0.5555555555555556,
              "#d8576b"
             ],
             [
              0.6666666666666666,
              "#ed7953"
             ],
             [
              0.7777777777777778,
              "#fb9f3a"
             ],
             [
              0.8888888888888888,
              "#fdca26"
             ],
             [
              1,
              "#f0f921"
             ]
            ],
            "type": "surface"
           }
          ],
          "table": [
           {
            "cells": {
             "fill": {
              "color": "#EBF0F8"
             },
             "line": {
              "color": "white"
             }
            },
            "header": {
             "fill": {
              "color": "#C8D4E3"
             },
             "line": {
              "color": "white"
             }
            },
            "type": "table"
           }
          ]
         },
         "layout": {
          "annotationdefaults": {
           "arrowcolor": "#2a3f5f",
           "arrowhead": 0,
           "arrowwidth": 1
          },
          "autotypenumbers": "strict",
          "coloraxis": {
           "colorbar": {
            "outlinewidth": 0,
            "ticks": ""
           }
          },
          "colorscale": {
           "diverging": [
            [
             0,
             "#8e0152"
            ],
            [
             0.1,
             "#c51b7d"
            ],
            [
             0.2,
             "#de77ae"
            ],
            [
             0.3,
             "#f1b6da"
            ],
            [
             0.4,
             "#fde0ef"
            ],
            [
             0.5,
             "#f7f7f7"
            ],
            [
             0.6,
             "#e6f5d0"
            ],
            [
             0.7,
             "#b8e186"
            ],
            [
             0.8,
             "#7fbc41"
            ],
            [
             0.9,
             "#4d9221"
            ],
            [
             1,
             "#276419"
            ]
           ],
           "sequential": [
            [
             0,
             "#0d0887"
            ],
            [
             0.1111111111111111,
             "#46039f"
            ],
            [
             0.2222222222222222,
             "#7201a8"
            ],
            [
             0.3333333333333333,
             "#9c179e"
            ],
            [
             0.4444444444444444,
             "#bd3786"
            ],
            [
             0.5555555555555556,
             "#d8576b"
            ],
            [
             0.6666666666666666,
             "#ed7953"
            ],
            [
             0.7777777777777778,
             "#fb9f3a"
            ],
            [
             0.8888888888888888,
             "#fdca26"
            ],
            [
             1,
             "#f0f921"
            ]
           ],
           "sequentialminus": [
            [
             0,
             "#0d0887"
            ],
            [
             0.1111111111111111,
             "#46039f"
            ],
            [
             0.2222222222222222,
             "#7201a8"
            ],
            [
             0.3333333333333333,
             "#9c179e"
            ],
            [
             0.4444444444444444,
             "#bd3786"
            ],
            [
             0.5555555555555556,
             "#d8576b"
            ],
            [
             0.6666666666666666,
             "#ed7953"
            ],
            [
             0.7777777777777778,
             "#fb9f3a"
            ],
            [
             0.8888888888888888,
             "#fdca26"
            ],
            [
             1,
             "#f0f921"
            ]
           ]
          },
          "colorway": [
           "#636efa",
           "#EF553B",
           "#00cc96",
           "#ab63fa",
           "#FFA15A",
           "#19d3f3",
           "#FF6692",
           "#B6E880",
           "#FF97FF",
           "#FECB52"
          ],
          "font": {
           "color": "#2a3f5f"
          },
          "geo": {
           "bgcolor": "white",
           "lakecolor": "white",
           "landcolor": "#E5ECF6",
           "showlakes": true,
           "showland": true,
           "subunitcolor": "white"
          },
          "hoverlabel": {
           "align": "left"
          },
          "hovermode": "closest",
          "mapbox": {
           "style": "light"
          },
          "paper_bgcolor": "white",
          "plot_bgcolor": "#E5ECF6",
          "polar": {
           "angularaxis": {
            "gridcolor": "white",
            "linecolor": "white",
            "ticks": ""
           },
           "bgcolor": "#E5ECF6",
           "radialaxis": {
            "gridcolor": "white",
            "linecolor": "white",
            "ticks": ""
           }
          },
          "scene": {
           "xaxis": {
            "backgroundcolor": "#E5ECF6",
            "gridcolor": "white",
            "gridwidth": 2,
            "linecolor": "white",
            "showbackground": true,
            "ticks": "",
            "zerolinecolor": "white"
           },
           "yaxis": {
            "backgroundcolor": "#E5ECF6",
            "gridcolor": "white",
            "gridwidth": 2,
            "linecolor": "white",
            "showbackground": true,
            "ticks": "",
            "zerolinecolor": "white"
           },
           "zaxis": {
            "backgroundcolor": "#E5ECF6",
            "gridcolor": "white",
            "gridwidth": 2,
            "linecolor": "white",
            "showbackground": true,
            "ticks": "",
            "zerolinecolor": "white"
           }
          },
          "shapedefaults": {
           "line": {
            "color": "#2a3f5f"
           }
          },
          "ternary": {
           "aaxis": {
            "gridcolor": "white",
            "linecolor": "white",
            "ticks": ""
           },
           "baxis": {
            "gridcolor": "white",
            "linecolor": "white",
            "ticks": ""
           },
           "bgcolor": "#E5ECF6",
           "caxis": {
            "gridcolor": "white",
            "linecolor": "white",
            "ticks": ""
           }
          },
          "title": {
           "x": 0.05
          },
          "xaxis": {
           "automargin": true,
           "gridcolor": "white",
           "linecolor": "white",
           "ticks": "",
           "title": {
            "standoff": 15
           },
           "zerolinecolor": "white",
           "zerolinewidth": 2
          },
          "yaxis": {
           "automargin": true,
           "gridcolor": "white",
           "linecolor": "white",
           "ticks": "",
           "title": {
            "standoff": 15
           },
           "zerolinecolor": "white",
           "zerolinewidth": 2
          }
         }
        },
        "title": {
         "text": "Data of Day 1",
         "x": 0.5,
         "xanchor": "center"
        },
        "xaxis": {
         "anchor": "y",
         "domain": [
          0,
          1
         ],
         "title": {
          "text": "Label"
         }
        },
        "yaxis": {
         "anchor": "x",
         "domain": [
          0,
          1
         ],
         "title": {
          "text": "Instances"
         }
        }
       }
      }
     },
     "metadata": {},
     "output_type": "display_data"
    }
   ],
   "source": [
    "# Remove leading whitespace from column name\n",
    "samples.columns = samples.columns.str.strip()\n",
    "\n",
    "# Create label_counter DataFrame\n",
    "label_counter2 = pd.DataFrame(samples['Label'].value_counts())\n",
    "\n",
    "# Print the DataFrame\n",
    "print(label_counter2)\n",
    "fig = px.bar(label_counter2, x=label_counter2.index, y=label_counter2['count'])\n",
    "\n",
    "fig.update_layout(\n",
    "    title={\n",
    "        'text': 'Data of Day 1',\n",
    "        'x': 0.5,\n",
    "        'xanchor': 'center'\n",
    "    },\n",
    "    xaxis_title=\"Label\",\n",
    "    yaxis_title=\"Instances\"\n",
    ")\n",
    "\n",
    "# Define the colors for the left and right columns\n",
    "fig.data[0].marker.color = ['red' if label == label_counter1.index[0] else 'green' for label in label_counter1.index]\n",
    "\n",
    "fig.show()"
   ]
  },
  {
   "attachments": {},
   "cell_type": "markdown",
   "metadata": {},
   "source": [
    "Compiling and Training the methods\n",
    "\n",
    "> Comment the last 2 code blocks\n",
    "\n",
    "**OR**\n",
    "\n",
    "Loading and compiling the methods\n",
    "\n",
    "> Comment the first 2 code blocks"
   ]
  },
  {
   "cell_type": "code",
   "execution_count": 112,
   "metadata": {},
   "outputs": [
    {
     "name": "stdout",
     "output_type": "stream",
     "text": [
      "Model: \"sequential_6\"\n",
      "_________________________________________________________________\n",
      " Layer (type)                Output Shape              Param #   \n",
      "=================================================================\n",
      " gru_3 (GRU)                 (None, 32)                3360      \n",
      "                                                                 \n",
      " dropout_5 (Dropout)         (None, 32)                0         \n",
      "                                                                 \n",
      " dense_12 (Dense)            (None, 10)                330       \n",
      "                                                                 \n",
      " dense_13 (Dense)            (None, 1)                 11        \n",
      "                                                                 \n",
      "=================================================================\n",
      "Total params: 3,701\n",
      "Trainable params: 3,701\n",
      "Non-trainable params: 0\n",
      "_________________________________________________________________\n",
      "None\n",
      "Model: \"sequential_6\"\n",
      "_________________________________________________________________\n",
      " Layer (type)                Output Shape              Param #   \n",
      "=================================================================\n",
      " gru_3 (GRU)                 (None, 32)                3360      \n",
      "                                                                 \n",
      " dropout_5 (Dropout)         (None, 32)                0         \n",
      "                                                                 \n",
      " dense_12 (Dense)            (None, 10)                330       \n",
      "                                                                 \n",
      " dense_13 (Dense)            (None, 1)                 11        \n",
      "                                                                 \n",
      "=================================================================\n",
      "Total params: 3,701\n",
      "Trainable params: 3,701\n",
      "Non-trainable params: 0\n",
      "_________________________________________________________________\n",
      "Epoch 1/10\n",
      "1440/1440 [==============================] - 122s 83ms/step - loss: 0.1816 - accuracy: 0.9458\n",
      "Epoch 2/10\n",
      "1440/1440 [==============================] - 119s 82ms/step - loss: 0.0549 - accuracy: 0.9872\n",
      "Epoch 3/10\n",
      "1440/1440 [==============================] - 125s 87ms/step - loss: 0.0405 - accuracy: 0.9889\n",
      "Epoch 4/10\n",
      "1440/1440 [==============================] - 122s 85ms/step - loss: 0.0344 - accuracy: 0.9903\n",
      "Epoch 5/10\n",
      "1440/1440 [==============================] - 108s 75ms/step - loss: 0.0300 - accuracy: 0.9916\n",
      "Epoch 6/10\n",
      "1440/1440 [==============================] - 107s 74ms/step - loss: 0.0286 - accuracy: 0.9923\n",
      "Epoch 7/10\n",
      "1440/1440 [==============================] - 104s 72ms/step - loss: 0.0263 - accuracy: 0.9929\n",
      "Epoch 8/10\n",
      "1440/1440 [==============================] - 104s 72ms/step - loss: 0.0247 - accuracy: 0.9934\n",
      "Epoch 9/10\n",
      "1440/1440 [==============================] - 104s 72ms/step - loss: 0.0241 - accuracy: 0.9934\n",
      "Epoch 10/10\n",
      "1440/1440 [==============================] - 104s 72ms/step - loss: 0.0232 - accuracy: 0.9937\n"
     ]
    },
    {
     "data": {
      "image/png": "[encoded data removed]",
      "text/plain": [
       "<Figure size 640x480 with 1 Axes>"
      ]
     },
     "metadata": {},
     "output_type": "display_data"
    },
    {
     "name": "stdout",
     "output_type": "stream",
     "text": [
      "['loss', 'accuracy']\n",
      "Model Compiled and Trained\n"
     ]
    }
   ],
   "source": [
    "## Comment next 2 blocks if loading pre-trained models\n",
    "## Execute them if training new models\n",
    "'''model_gru = GRU_model(82) # when it train new model\n",
    "model_gru.summary()\n",
    "model_gru = compile_train(model_gru,\"GRU\",format_3d(X_train),y_train) '''"
   ]
  },
  {
   "cell_type": "code",
   "execution_count": 113,
   "metadata": {},
   "outputs": [
    {
     "name": "stdout",
     "output_type": "stream",
     "text": [
      "Model: \"sequential_7\"\n",
      "_________________________________________________________________\n",
      " Layer (type)                Output Shape              Param #   \n",
      "=================================================================\n",
      " conv1d_3 (Conv1D)           (None, 75, 64)            576       \n",
      "                                                                 \n",
      " max_pooling1d_3 (MaxPooling  (None, 37, 64)           0         \n",
      " 1D)                                                             \n",
      "                                                                 \n",
      " conv1d_4 (Conv1D)           (None, 22, 32)            32800     \n",
      "                                                                 \n",
      " max_pooling1d_4 (MaxPooling  (None, 11, 32)           0         \n",
      " 1D)                                                             \n",
      "                                                                 \n",
      " conv1d_5 (Conv1D)           (None, 9, 16)             1552      \n",
      "                                                                 \n",
      " max_pooling1d_5 (MaxPooling  (None, 4, 16)            0         \n",
      " 1D)                                                             \n",
      "                                                                 \n",
      " dropout_6 (Dropout)         (None, 4, 16)             0         \n",
      "                                                                 \n",
      " flatten_1 (Flatten)         (None, 64)                0         \n",
      "                                                                 \n",
      " dense_14 (Dense)            (None, 10)                650       \n",
      "                                                                 \n",
      " dense_15 (Dense)            (None, 1)                 11        \n",
      "                                                                 \n",
      "=================================================================\n",
      "Total params: 35,589\n",
      "Trainable params: 35,589\n",
      "Non-trainable params: 0\n",
      "_________________________________________________________________\n",
      "None\n",
      "Epoch 1/10\n",
      "1440/1440 [==============================] - 1733s 1s/step - loss: 0.0888 - accuracy: 0.9714\n",
      "Epoch 2/10\n",
      "1440/1440 [==============================] - 87s 60ms/step - loss: 0.0440 - accuracy: 0.9869\n",
      "Epoch 3/10\n",
      "1440/1440 [==============================] - 88s 61ms/step - loss: 0.0379 - accuracy: 0.9889\n",
      "Epoch 4/10\n",
      "1440/1440 [==============================] - 87s 61ms/step - loss: 0.0338 - accuracy: 0.9900\n",
      "Epoch 5/10\n",
      "1440/1440 [==============================] - 89s 62ms/step - loss: 0.0318 - accuracy: 0.9905\n",
      "Epoch 6/10\n",
      "1440/1440 [==============================] - 88s 61ms/step - loss: 0.0292 - accuracy: 0.9914\n",
      "Epoch 7/10\n",
      "1440/1440 [==============================] - 89s 62ms/step - loss: 0.0279 - accuracy: 0.9917\n",
      "Epoch 8/10\n",
      "1440/1440 [==============================] - 89s 62ms/step - loss: 0.0271 - accuracy: 0.9918\n",
      "Epoch 9/10\n",
      "1440/1440 [==============================] - 89s 62ms/step - loss: 0.0259 - accuracy: 0.9922\n",
      "Epoch 10/10\n",
      "1440/1440 [==============================] - 89s 62ms/step - loss: 0.0250 - accuracy: 0.9924\n"
     ]
    },
    {
     "data": {
      "image/png": "[encoded data removed]",
      "text/plain": [
       "<Figure size 640x480 with 1 Axes>"
      ]
     },
     "metadata": {},
     "output_type": "display_data"
    },
    {
     "name": "stdout",
     "output_type": "stream",
     "text": [
      "['loss', 'accuracy']\n",
      "Model Compiled and Trained\n"
     ]
    }
   ],
   "source": [
    "'''model_cnn = CNN_model(82)\n",
    "model_cnn = compile_train(model_cnn,\"CNN\",format_3d(X_train),y_train)'''"
   ]
  },
  {
   "cell_type": "code",
   "execution_count": 114,
   "metadata": {},
   "outputs": [
    {
     "name": "stdout",
     "output_type": "stream",
     "text": [
      "Model: \"sequential_8\"\n",
      "_________________________________________________________________\n",
      " Layer (type)                Output Shape              Param #   \n",
      "=================================================================\n",
      " lstm_1 (LSTM)               (None, 32)                4352      \n",
      "                                                                 \n",
      " dropout_7 (Dropout)         (None, 32)                0         \n",
      "                                                                 \n",
      " dense_16 (Dense)            (None, 10)                330       \n",
      "                                                                 \n",
      " dense_17 (Dense)            (None, 1)                 11        \n",
      "                                                                 \n",
      "=================================================================\n",
      "Total params: 4,693\n",
      "Trainable params: 4,693\n",
      "Non-trainable params: 0\n",
      "_________________________________________________________________\n",
      "None\n",
      "Epoch 1/10\n",
      "1440/1440 [==============================] - 129s 88ms/step - loss: 0.1427 - accuracy: 0.9512\n",
      "Epoch 2/10\n",
      "1440/1440 [==============================] - 130s 90ms/step - loss: 0.0667 - accuracy: 0.9811\n",
      "Epoch 3/10\n",
      "1440/1440 [==============================] - 127s 88ms/step - loss: 0.0914 - accuracy: 0.9783\n",
      "Epoch 4/10\n",
      "1440/1440 [==============================] - 127s 88ms/step - loss: 0.0625 - accuracy: 0.9874\n",
      "Epoch 5/10\n",
      "1440/1440 [==============================] - 126s 88ms/step - loss: 0.0577 - accuracy: 0.9881\n",
      "Epoch 6/10\n",
      "1440/1440 [==============================] - 126s 87ms/step - loss: 0.0483 - accuracy: 0.9887\n",
      "Epoch 7/10\n",
      "1440/1440 [==============================] - 126s 87ms/step - loss: 0.0398 - accuracy: 0.9900\n",
      "Epoch 8/10\n",
      "1440/1440 [==============================] - 126s 88ms/step - loss: 0.0346 - accuracy: 0.9904\n",
      "Epoch 9/10\n",
      "1440/1440 [==============================] - 126s 87ms/step - loss: 0.0313 - accuracy: 0.9916\n",
      "Epoch 10/10\n",
      "1440/1440 [==============================] - 126s 87ms/step - loss: 0.0216 - accuracy: 0.9937\n"
     ]
    },
    {
     "data": {
      "image/png": "[encoded data removed]",
      "text/plain": [
       "<Figure size 640x480 with 1 Axes>"
      ]
     },
     "metadata": {},
     "output_type": "display_data"
    },
    {
     "name": "stdout",
     "output_type": "stream",
     "text": [
      "['loss', 'accuracy']\n",
      "Model Compiled and Trained\n"
     ]
    }
   ],
   "source": [
    "'''model_lstm = LSTM_model(82)\n",
    "model_lstm = compile_train(model_lstm,\"LSTM\",format_3d(X_train),y_train)'''"
   ]
  },
  {
   "cell_type": "code",
   "execution_count": 115,
   "metadata": {},
   "outputs": [
    {
     "name": "stdout",
     "output_type": "stream",
     "text": [
      "Model: \"sequential_9\"\n",
      "_________________________________________________________________\n",
      " Layer (type)                Output Shape              Param #   \n",
      "=================================================================\n",
      " dense_18 (Dense)            (None, 2)                 166       \n",
      "                                                                 \n",
      " dense_19 (Dense)            (None, 1)                 3         \n",
      "                                                                 \n",
      "=================================================================\n",
      "Total params: 169\n",
      "Trainable params: 169\n",
      "Non-trainable params: 0\n",
      "_________________________________________________________________\n",
      "None\n",
      "Epoch 1/10\n",
      "1440/1440 [==============================] - 2s 1ms/step - loss: 0.2826 - accuracy: 0.9617\n",
      "Epoch 2/10\n",
      "1440/1440 [==============================] - 1s 932us/step - loss: 0.1306 - accuracy: 0.9874\n",
      "Epoch 3/10\n",
      "1440/1440 [==============================] - 1s 935us/step - loss: 0.0896 - accuracy: 0.9876\n",
      "Epoch 4/10\n",
      "1440/1440 [==============================] - 1s 945us/step - loss: 0.0723 - accuracy: 0.9883\n",
      "Epoch 5/10\n",
      "1440/1440 [==============================] - 1s 992us/step - loss: 0.0636 - accuracy: 0.9887\n",
      "Epoch 6/10\n",
      "1440/1440 [==============================] - 1s 950us/step - loss: 0.0589 - accuracy: 0.9888\n",
      "Epoch 7/10\n",
      "1440/1440 [==============================] - 1s 939us/step - loss: 0.0560 - accuracy: 0.9887\n",
      "Epoch 8/10\n",
      "1440/1440 [==============================] - 1s 919us/step - loss: 0.0540 - accuracy: 0.9887\n",
      "Epoch 9/10\n",
      "1440/1440 [==============================] - 1s 927us/step - loss: 0.0526 - accuracy: 0.9887\n",
      "Epoch 10/10\n",
      "1440/1440 [==============================] - 1s 889us/step - loss: 0.0516 - accuracy: 0.9890\n"
     ]
    },
    {
     "data": {
      "image/png": "[encoded data removed]",
      "text/plain": [
       "<Figure size 640x480 with 1 Axes>"
      ]
     },
     "metadata": {},
     "output_type": "display_data"
    },
    {
     "name": "stdout",
     "output_type": "stream",
     "text": [
      "['loss', 'accuracy']\n",
      "Model Compiled and Trained\n"
     ]
    }
   ],
   "source": [
    "'''model_dnn = DNN_model(X_train.shape[1])\n",
    "model_dnn = compile_train(model_dnn,\"DNN\",X_train,y_train)'''"
   ]
  },
  {
   "cell_type": "code",
   "execution_count": 116,
   "metadata": {},
   "outputs": [
    {
     "name": "stdout",
     "output_type": "stream",
     "text": [
      "Model Compiled and Trained\n"
     ]
    }
   ],
   "source": [
    "'''model_svm = SVM()\n",
    "model_svm = compile_train(model_svm,\"SVM\",X_train,y_train,False)'''"
   ]
  },
  {
   "cell_type": "code",
   "execution_count": 117,
   "metadata": {},
   "outputs": [
    {
     "name": "stdout",
     "output_type": "stream",
     "text": [
      "Model Compiled and Trained\n"
     ]
    }
   ],
   "source": [
    "'''model_lr = LR()\n",
    "model_lr = compile_train(model_lr,\"LR\",X_train,y_train,False)'''"
   ]
  },
  {
   "cell_type": "code",
   "execution_count": 118,
   "metadata": {},
   "outputs": [
    {
     "name": "stdout",
     "output_type": "stream",
     "text": [
      "Model Compiled and Trained\n"
     ]
    }
   ],
   "source": [
    "'''model_gd = GD()\n",
    "model_gd = compile_train(model_gd,\"GD\",X_train,y_train,False)'''"
   ]
  },
  {
   "cell_type": "code",
   "execution_count": 119,
   "metadata": {
    "scrolled": true
   },
   "outputs": [
    {
     "name": "stdout",
     "output_type": "stream",
     "text": [
      "Model Compiled and Trained\n"
     ]
    }
   ],
   "source": [
    "'''model_knn = kNN()\n",
    "model_knn = compile_train(model_knn,\"KNN\",X_train,y_train,False)'''"
   ]
  },
  {
   "attachments": {},
   "cell_type": "markdown",
   "metadata": {},
   "source": [
    "#### Loading Models"
   ]
  },
  {
   "cell_type": "code",
   "execution_count": 82,
   "metadata": {},
   "outputs": [
    {
     "name": "stdout",
     "output_type": "stream",
     "text": [
      "Model loaded\n",
      "Model loaded\n",
      "Model loaded\n",
      "Model loaded\n",
      "Model sklearn loaded\n",
      "Model sklearn loaded\n",
      "Model sklearn loaded\n",
      "Model sklearn loaded\n"
     ]
    }
   ],
   "source": [
    "## Comment next 2 blocks if training new models\n",
    "## Execute them if loading pre-trained models\n",
    "\n",
    "model_gru = load_model('GRU20-32-b256') # when loading previously saved trained model and weights\n",
    "model_cnn = load_model('CNN5-3cam-b2560')\n",
    "model_lstm = load_model('LSTM5-32-b256')\n",
    "model_dnn = load_model('DNN5-2560')\n",
    "model_svm = load_Sklearn('SVM')\n",
    "model_lr = load_Sklearn('LR')\n",
    "model_gd = load_Sklearn('GD')\n",
    "model_knn = load_Sklearn('kNN-1viz')\n",
    "\n",
    "model_gru.compile(loss='binary_crossentropy', optimizer='adam', metrics=['accuracy'])\n",
    "model_cnn.compile(loss='binary_crossentropy', optimizer='adam', metrics=['accuracy'])\n",
    "model_lstm.compile(loss='binary_crossentropy', optimizer='adam', metrics=['accuracy'])\n",
    "model_dnn.compile(loss='binary_crossentropy', optimizer='adam', metrics=['accuracy'])"
   ]
  },
  {
   "attachments": {},
   "cell_type": "markdown",
   "metadata": {},
   "source": [
    "#### Save Models"
   ]
  },
  {
   "cell_type": "code",
   "execution_count": 121,
   "metadata": {},
   "outputs": [
    {
     "name": "stdout",
     "output_type": "stream",
     "text": [
      "Model Saved\n",
      "Model Saved\n",
      "Model Saved\n",
      "Model Saved\n",
      "Model sklearn saved\n",
      "Model sklearn saved\n",
      "Model sklearn saved\n",
      "Model sklearn saved\n"
     ]
    }
   ],
   "source": [
    "# Comment if you wan't to save your models\n",
    "'''save_model(model_gru, 'GRU20-32-b256')\n",
    "save_model(model_cnn, 'CNN5-3cam-b2560')\n",
    "save_model(model_lstm, 'LSTM5-32-b256')\n",
    "save_model(model_dnn, 'DNN5-2560')\n",
    "save_Sklearn(model_svm, 'SVM')\n",
    "save_Sklearn(model_lr, 'LR')\n",
    "save_Sklearn(model_gd, 'GD')\n",
    "save_Sklearn(model_knn, 'kNN-1viz')'''\n"
   ]
  },
  {
   "attachments": {},
   "cell_type": "markdown",
   "metadata": {},
   "source": [
    "# Testing CIC-DDoS2019 "
   ]
  },
  {
   "cell_type": "code",
   "execution_count": 83,
   "metadata": {},
   "outputs": [],
   "source": [
    "results = pd.DataFrame(columns=['Method','Accuracy','Precision','Recall', 'F1_Score', 'Average','Normal_Detect_Rate','Atk_Detect_Rate'])"
   ]
  },
  {
   "attachments": {},
   "cell_type": "markdown",
   "metadata": {},
   "source": [
    "### GRU"
   ]
  },
  {
   "cell_type": "code",
   "execution_count": 84,
   "metadata": {},
   "outputs": [
    {
     "name": "stdout",
     "output_type": "stream",
     "text": [
      "9331/9331 [==============================] - 48s 5ms/step\n",
      "9331/9331 [==============================] - 70s 7ms/step - loss: 0.0312 - accuracy: 0.9939\n",
      "[0.031175224110484123, 0.9939111471176147]\n",
      "\n",
      "Accuracy\n",
      "0.993911138797902\n",
      "\n",
      "Precision\n",
      "0.9937234395551238\n",
      "\n",
      "Recall\n",
      "0.9990032755259932\n",
      "\n",
      "F1 Score\n",
      "0.9963563629367154\n",
      "\n",
      "Average (acc, prec, rec, f1)\n",
      "0.9957485542039336\n"
     ]
    }
   ],
   "source": [
    "y_pred = model_gru.predict(format_3d(X_test)) \n",
    "\n",
    "y_pred = y_pred.round()\n",
    " \n",
    "acc, prec, rec, f1, avrg = testes(model_gru,format_3d(X_test),y_test,y_pred)\n",
    "\n",
    "norm, atk = test_normal_atk(y_test,y_pred)\n",
    "\n",
    "# create a DataFrame from the dictionary\n",
    "result_df = pd.DataFrame({'Method': 'GRU',\n",
    "                          'Accuracy': acc,\n",
    "                          'Precision': prec,\n",
    "                          'F1_Score': f1,\n",
    "                          'Recall': rec,\n",
    "                          'Average': avrg,\n",
    "                          'Normal_Detect_Rate': norm,\n",
    "                          'Atk_Detect_Rate': atk}, index=[0])\n",
    "\n",
    "# concatenate the new DataFrame with the existing results DataFrame\n",
    "results = pd.concat([results, result_df], ignore_index=True)"
   ]
  },
  {
   "cell_type": "code",
   "execution_count": 86,
   "metadata": {},
   "outputs": [
    {
     "name": "stdout",
     "output_type": "stream",
     "text": [
      "\n",
      "CLASSIFICATION REPORT\n",
      "\n",
      "                   pre       rec       spe        f1       geo       iba       sup\n",
      "\n",
      "       Good       0.99      0.97      1.00      0.98      0.98      0.96     49763\n",
      "        Bad       0.99      1.00      0.97      1.00      0.98      0.97    248815\n",
      "\n",
      "avg / total       0.99      0.99      0.97      0.99      0.98      0.97    298578\n",
      "\n",
      "\n",
      "CONFUSION MATRIX\n"
     ]
    },
    {
     "data": {
      "text/plain": [
       "<Axes: >"
      ]
     },
     "execution_count": 86,
     "metadata": {},
     "output_type": "execute_result"
    },
    {
     "data": {
      "image/png": "[encoded data removed]",
      "text/plain": [
       "<Figure size 600x400 with 2 Axes>"
      ]
     },
     "metadata": {},
     "output_type": "display_data"
    }
   ],
   "source": [
    "con_mat = pd.DataFrame(confusion_matrix(y_test, y_pred),\n",
    "            columns = ['Predicted:Good', 'Predicted:Bad'],\n",
    "            index = ['Actual:Good', 'Actual:Bad'])\n",
    "\n",
    "print('\\nCLASSIFICATION REPORT\\n')\n",
    "print(classification_report_imbalanced(y_test, y_pred,\n",
    "                            target_names =['Good','Bad']))\n",
    "\n",
    "print('\\nCONFUSION MATRIX')\n",
    "plt.figure(figsize= (6,4))\n",
    "sns.heatmap(con_mat, annot = True,fmt='d',cmap=\"YlGnBu\")"
   ]
  },
  {
   "attachments": {},
   "cell_type": "markdown",
   "metadata": {},
   "source": [
    "### CNN"
   ]
  },
  {
   "cell_type": "code",
   "execution_count": 87,
   "metadata": {},
   "outputs": [
    {
     "name": "stdout",
     "output_type": "stream",
     "text": [
      "9331/9331 [==============================] - 33s 3ms/step\n",
      "9331/9331 [==============================] - 38s 4ms/step - loss: 0.0244 - accuracy: 0.9874\n",
      "[0.024435434490442276, 0.987410306930542]\n",
      "\n",
      "Accuracy\n",
      "0.9874103249402166\n",
      "\n",
      "Precision\n",
      "0.990233577927326\n",
      "\n",
      "Recall\n",
      "0.9947028917066897\n",
      "\n",
      "F1 Score\n",
      "0.9924632032288528\n",
      "\n",
      "Average (acc, prec, rec, f1)\n",
      "0.9912024994507712\n"
     ]
    }
   ],
   "source": [
    "y_pred = model_cnn.predict(format_3d(X_test)) \n",
    "\n",
    "y_pred = y_pred.round()\n",
    " \n",
    "acc, prec, rec, f1, avrg = testes(model_cnn,format_3d(X_test),y_test,y_pred)\n",
    "\n",
    "norm, atk = test_normal_atk(y_test,y_pred)\n",
    "\n",
    "# create a DataFrame from the dictionary\n",
    "result_df = pd.DataFrame({'Method':'CNN', 'Accuracy':acc, 'Precision':prec, 'F1_Score':f1,\n",
    "                          'Recall':rec,'Average':avrg, 'Normal_Detect_Rate':norm, 'Atk_Detect_Rate':atk}, index=[0])\n",
    "\n",
    "# concatenate the new DataFrame with the existing results DataFrame\n",
    "results = pd.concat([results, result_df], ignore_index=True)"
   ]
  },
  {
   "cell_type": "code",
   "execution_count": 88,
   "metadata": {},
   "outputs": [
    {
     "name": "stdout",
     "output_type": "stream",
     "text": [
      "\n",
      "CLASSIFICATION REPORT\n",
      "\n",
      "                   pre       rec       spe        f1       geo       iba       sup\n",
      "\n",
      "       Good       0.97      0.95      0.99      0.96      0.97      0.94     49763\n",
      "        Bad       0.99      0.99      0.95      0.99      0.97      0.95    248815\n",
      "\n",
      "avg / total       0.99      0.99      0.96      0.99      0.97      0.95    298578\n",
      "\n",
      "\n",
      "CONFUSION MATRIX\n"
     ]
    },
    {
     "data": {
      "text/plain": [
       "<Axes: >"
      ]
     },
     "execution_count": 88,
     "metadata": {},
     "output_type": "execute_result"
    },
    {
     "data": {
      "image/png": "[encoded data removed]",
      "text/plain": [
       "<Figure size 600x400 with 2 Axes>"
      ]
     },
     "metadata": {},
     "output_type": "display_data"
    }
   ],
   "source": [
    "con_mat = pd.DataFrame(confusion_matrix(y_test, y_pred),\n",
    "            columns = ['Predicted:Good', 'Predicted:Bad'],\n",
    "            index = ['Actual:Good', 'Actual:Bad'])\n",
    "\n",
    "print('\\nCLASSIFICATION REPORT\\n')\n",
    "print(classification_report_imbalanced(y_test, y_pred,\n",
    "                            target_names =['Good','Bad']))\n",
    "\n",
    "print('\\nCONFUSION MATRIX')\n",
    "plt.figure(figsize= (6,4))\n",
    "sns.heatmap(con_mat, annot = True,fmt='d',cmap=\"YlGnBu\")"
   ]
  },
  {
   "attachments": {},
   "cell_type": "markdown",
   "metadata": {},
   "source": [
    "### LSTM"
   ]
  },
  {
   "cell_type": "code",
   "execution_count": 89,
   "metadata": {},
   "outputs": [
    {
     "name": "stdout",
     "output_type": "stream",
     "text": [
      "9331/9331 [==============================] - 60s 6ms/step\n",
      "9331/9331 [==============================] - 65s 7ms/step - loss: 0.0203 - accuracy: 0.9980\n",
      "[0.020341472700238228, 0.9979837536811829]\n",
      "\n",
      "Accuracy\n",
      "0.9979837764336288\n",
      "\n",
      "Precision\n",
      "0.9992557817710784\n",
      "\n",
      "Recall\n",
      "0.9983240560255612\n",
      "\n",
      "F1 Score\n",
      "0.9987897016071636\n",
      "\n",
      "Average (acc, prec, rec, f1)\n",
      "0.998588328959358\n"
     ]
    }
   ],
   "source": [
    "y_pred = model_lstm.predict(format_3d(X_test))\n",
    "\n",
    "y_pred = y_pred.round()\n",
    " \n",
    "acc, prec, rec, f1, avrg = testes(model_lstm,format_3d(X_test),y_test,y_pred)\n",
    "\n",
    "norm, atk = test_normal_atk(y_test,y_pred)\n",
    "\n",
    "# create a DataFrame from the dictionary\n",
    "result_df = pd.DataFrame({'Method':'LSTM', 'Accuracy':acc, 'Precision':prec, 'F1_Score':f1,\n",
    "                          'Recall':rec,'Average':avrg, 'Normal_Detect_Rate':norm, 'Atk_Detect_Rate':atk}, index=[0])\n",
    "\n",
    "# concatenate the new DataFrame with the existing results DataFrame\n",
    "results = pd.concat([results, result_df], ignore_index=True)\n"
   ]
  },
  {
   "cell_type": "code",
   "execution_count": 90,
   "metadata": {},
   "outputs": [
    {
     "name": "stdout",
     "output_type": "stream",
     "text": [
      "\n",
      "CLASSIFICATION REPORT\n",
      "\n",
      "                   pre       rec       spe        f1       geo       iba       sup\n",
      "\n",
      "       Good       0.99      1.00      1.00      0.99      1.00      0.99     49763\n",
      "        Bad       1.00      1.00      1.00      1.00      1.00      0.99    248815\n",
      "\n",
      "avg / total       1.00      1.00      1.00      1.00      1.00      0.99    298578\n",
      "\n",
      "\n",
      "CONFUSION MATRIX\n"
     ]
    },
    {
     "data": {
      "text/plain": [
       "<Axes: >"
      ]
     },
     "execution_count": 90,
     "metadata": {},
     "output_type": "execute_result"
    },
    {
     "data": {
      "image/png": "[encoded data removed]",
      "text/plain": [
       "<Figure size 600x400 with 2 Axes>"
      ]
     },
     "metadata": {},
     "output_type": "display_data"
    }
   ],
   "source": [
    "con_mat = pd.DataFrame(confusion_matrix(y_test, y_pred),\n",
    "            columns = ['Predicted:Good', 'Predicted:Bad'],\n",
    "            index = ['Actual:Good', 'Actual:Bad'])\n",
    "\n",
    "print('\\nCLASSIFICATION REPORT\\n')\n",
    "print(classification_report_imbalanced(y_test, y_pred,\n",
    "                            target_names =['Good','Bad']))\n",
    "\n",
    "print('\\nCONFUSION MATRIX')\n",
    "plt.figure(figsize= (6,4))\n",
    "sns.heatmap(con_mat, annot = True,fmt='d',cmap=\"YlGnBu\")"
   ]
  },
  {
   "attachments": {},
   "cell_type": "markdown",
   "metadata": {},
   "source": [
    "### DNN"
   ]
  },
  {
   "cell_type": "code",
   "execution_count": 91,
   "metadata": {},
   "outputs": [
    {
     "name": "stdout",
     "output_type": "stream",
     "text": [
      "9331/9331 [==============================] - 6s 632us/step\n",
      "9331/9331 [==============================] - 6s 672us/step - loss: 0.0629 - accuracy: 0.9979\n",
      "[0.0628826916217804, 0.9979168176651001]\n",
      "\n",
      "Accuracy\n",
      "0.9979167922619885\n",
      "\n",
      "Precision\n",
      "0.9982934673931811\n",
      "\n",
      "Recall\n",
      "0.9992082470912124\n",
      "\n",
      "F1 Score\n",
      "0.9987506477750684\n",
      "\n",
      "Average (acc, prec, rec, f1)\n",
      "0.9985422886303627\n"
     ]
    }
   ],
   "source": [
    "y_pred = model_dnn.predict(X_test) \n",
    "\n",
    "y_pred = y_pred.round()\n",
    " \n",
    "acc, prec, rec, f1, avrg = testes(model_dnn,X_test,y_test,y_pred)\n",
    "\n",
    "norm, atk = test_normal_atk(y_test,y_pred)\n",
    "\n",
    "# create a DataFrame from the dictionary\n",
    "result_df = pd.DataFrame({'Method':'DNN', 'Accuracy':acc, 'Precision':prec, 'F1_Score':f1,\n",
    "                          'Recall':rec,'Average':avrg, 'Normal_Detect_Rate':norm, 'Atk_Detect_Rate':atk}, index=[0])\n",
    "\n",
    "# concatenate the new DataFrame with the existing results DataFrame\n",
    "results = pd.concat([results, result_df], ignore_index=True)"
   ]
  },
  {
   "cell_type": "code",
   "execution_count": 92,
   "metadata": {},
   "outputs": [
    {
     "name": "stdout",
     "output_type": "stream",
     "text": [
      "\n",
      "CLASSIFICATION REPORT\n",
      "\n",
      "                   pre       rec       spe        f1       geo       iba       sup\n",
      "\n",
      "       Good       1.00      0.99      1.00      0.99      1.00      0.99     49763\n",
      "        Bad       1.00      1.00      0.99      1.00      1.00      0.99    248815\n",
      "\n",
      "avg / total       1.00      1.00      0.99      1.00      1.00      0.99    298578\n",
      "\n",
      "\n",
      "CONFUSION MATRIX\n"
     ]
    },
    {
     "data": {
      "text/plain": [
       "<Axes: >"
      ]
     },
     "execution_count": 92,
     "metadata": {},
     "output_type": "execute_result"
    },
    {
     "data": {
      "image/png": "[encoded data removed]",
      "text/plain": [
       "<Figure size 600x400 with 2 Axes>"
      ]
     },
     "metadata": {},
     "output_type": "display_data"
    }
   ],
   "source": [
    "con_mat = pd.DataFrame(confusion_matrix(y_test, y_pred),\n",
    "            columns = ['Predicted:Good', 'Predicted:Bad'],\n",
    "            index = ['Actual:Good', 'Actual:Bad'])\n",
    "\n",
    "print('\\nCLASSIFICATION REPORT\\n')\n",
    "print(classification_report_imbalanced(y_test, y_pred,\n",
    "                            target_names =['Good','Bad']))\n",
    "\n",
    "print('\\nCONFUSION MATRIX')\n",
    "plt.figure(figsize= (6,4))\n",
    "sns.heatmap(con_mat, annot = True,fmt='d',cmap=\"YlGnBu\")"
   ]
  },
  {
   "attachments": {},
   "cell_type": "markdown",
   "metadata": {},
   "source": [
    "### SVM"
   ]
  },
  {
   "cell_type": "code",
   "execution_count": 93,
   "metadata": {},
   "outputs": [
    {
     "name": "stdout",
     "output_type": "stream",
     "text": [
      "\n",
      "Accuracy\n",
      "0.9986502689414491\n",
      "\n",
      "Precision\n",
      "0.9991480332427783\n",
      "\n",
      "Recall\n",
      "0.9992323613930029\n",
      "\n",
      "F1 Score\n",
      "0.9991901955386405\n",
      "\n",
      "Average (acc, prec, rec, f1)\n",
      "0.9990552147789676\n"
     ]
    }
   ],
   "source": [
    "y_pred = model_svm.predict(X_test) \n",
    "\n",
    "y_pred = y_pred.round()\n",
    " \n",
    "acc, prec, rec, f1, avrg = testes(model_svm,X_test,y_test,y_pred,False)\n",
    "\n",
    "norm, atk = test_normal_atk(y_test,y_pred)\n",
    "\n",
    "# create a DataFrame from the dictionary\n",
    "result_df = pd.DataFrame({'Method':'SVM', 'Accuracy':acc, 'Precision':prec, 'F1_Score':f1,\n",
    "                          'Recall':rec,'Average':avrg, 'Normal_Detect_Rate':norm, 'Atk_Detect_Rate':atk}, index=[0])\n",
    "\n",
    "# concatenate the new DataFrame with the existing results DataFrame\n",
    "results = pd.concat([results, result_df], ignore_index=True)"
   ]
  },
  {
   "cell_type": "code",
   "execution_count": 94,
   "metadata": {},
   "outputs": [
    {
     "name": "stdout",
     "output_type": "stream",
     "text": [
      "\n",
      "CLASSIFICATION REPORT\n",
      "\n",
      "                   pre       rec       spe        f1       geo       iba       sup\n",
      "\n",
      "       Good       1.00      1.00      1.00      1.00      1.00      0.99     49763\n",
      "        Bad       1.00      1.00      1.00      1.00      1.00      1.00    248815\n",
      "\n",
      "avg / total       1.00      1.00      1.00      1.00      1.00      1.00    298578\n",
      "\n",
      "\n",
      "CONFUSION MATRIX\n"
     ]
    },
    {
     "data": {
      "text/plain": [
       "<Axes: >"
      ]
     },
     "execution_count": 94,
     "metadata": {},
     "output_type": "execute_result"
    },
    {
     "data": {
      "image/png": "[encoded data removed]",
      "text/plain": [
       "<Figure size 600x400 with 2 Axes>"
      ]
     },
     "metadata": {},
     "output_type": "display_data"
    }
   ],
   "source": [
    "con_mat = pd.DataFrame(confusion_matrix(y_test, y_pred),\n",
    "            columns = ['Predicted:Good', 'Predicted:Bad'],\n",
    "            index = ['Actual:Good', 'Actual:Bad'])\n",
    "\n",
    "print('\\nCLASSIFICATION REPORT\\n')\n",
    "print(classification_report_imbalanced(y_test, y_pred,\n",
    "                            target_names =['Good','Bad']))\n",
    "\n",
    "print('\\nCONFUSION MATRIX')\n",
    "plt.figure(figsize= (6,4))\n",
    "sns.heatmap(con_mat, annot = True,fmt='d',cmap=\"YlGnBu\")"
   ]
  },
  {
   "attachments": {},
   "cell_type": "markdown",
   "metadata": {},
   "source": [
    "### LR"
   ]
  },
  {
   "cell_type": "code",
   "execution_count": 95,
   "metadata": {},
   "outputs": [
    {
     "name": "stdout",
     "output_type": "stream",
     "text": [
      "\n",
      "Accuracy\n",
      "0.9973005378828983\n",
      "\n",
      "Precision\n",
      "0.9990060482167217\n",
      "\n",
      "Recall\n",
      "0.9977533508831863\n",
      "\n",
      "F1 Score\n",
      "0.9983793066006056\n",
      "\n",
      "Average (acc, prec, rec, f1)\n",
      "0.998109810895853\n"
     ]
    }
   ],
   "source": [
    "y_pred = model_lr.predict(X_test) \n",
    "\n",
    "y_pred = y_pred.round()\n",
    " \n",
    "acc, prec, rec, f1, avrg = testes(model_lr,X_test,y_test,y_pred,False)\n",
    "\n",
    "norm, atk = test_normal_atk(y_test,y_pred)\n",
    "\n",
    "# create a DataFrame from the dictionary\n",
    "result_df = pd.DataFrame({'Method':'LR', 'Accuracy':acc, 'Precision':prec, 'F1_Score':f1,\n",
    "                          'Recall':rec,'Average':avrg, 'Normal_Detect_Rate':norm, 'Atk_Detect_Rate':atk}, index=[0])\n",
    "\n",
    "# concatenate the new DataFrame with the existing results DataFrame\n",
    "results = pd.concat([results, result_df], ignore_index=True)"
   ]
  },
  {
   "cell_type": "code",
   "execution_count": 96,
   "metadata": {},
   "outputs": [
    {
     "name": "stdout",
     "output_type": "stream",
     "text": [
      "\n",
      "CLASSIFICATION REPORT\n",
      "\n",
      "                   pre       rec       spe        f1       geo       iba       sup\n",
      "\n",
      "       Good       0.99      1.00      1.00      0.99      1.00      0.99     49763\n",
      "        Bad       1.00      1.00      1.00      1.00      1.00      0.99    248815\n",
      "\n",
      "avg / total       1.00      1.00      1.00      1.00      1.00      0.99    298578\n",
      "\n",
      "\n",
      "CONFUSION MATRIX\n"
     ]
    },
    {
     "data": {
      "text/plain": [
       "<Axes: >"
      ]
     },
     "execution_count": 96,
     "metadata": {},
     "output_type": "execute_result"
    },
    {
     "data": {
      "image/png": "[encoded data removed]",
      "text/plain": [
       "<Figure size 600x400 with 2 Axes>"
      ]
     },
     "metadata": {},
     "output_type": "display_data"
    }
   ],
   "source": [
    "con_mat = pd.DataFrame(confusion_matrix(y_test, y_pred),\n",
    "            columns = ['Predicted:Good', 'Predicted:Bad'],\n",
    "            index = ['Actual:Good', 'Actual:Bad'])\n",
    "\n",
    "print('\\nCLASSIFICATION REPORT\\n')\n",
    "print(classification_report_imbalanced(y_test, y_pred,\n",
    "                            target_names =['Good','Bad']))\n",
    "\n",
    "print('\\nCONFUSION MATRIX')\n",
    "plt.figure(figsize= (6,4))\n",
    "sns.heatmap(con_mat, annot = True,fmt='d',cmap=\"YlGnBu\")"
   ]
  },
  {
   "attachments": {},
   "cell_type": "markdown",
   "metadata": {},
   "source": [
    "### GB"
   ]
  },
  {
   "cell_type": "code",
   "execution_count": 97,
   "metadata": {},
   "outputs": [
    {
     "name": "stdout",
     "output_type": "stream",
     "text": [
      "\n",
      "Accuracy\n",
      "0.9986770626101052\n",
      "\n",
      "Precision\n",
      "0.9991881812043855\n",
      "\n",
      "Recall\n",
      "0.999224323292406\n",
      "\n",
      "F1 Score\n",
      "0.9992062519215736\n",
      "\n",
      "Average (acc, prec, rec, f1)\n",
      "0.9990739547571177\n"
     ]
    }
   ],
   "source": [
    "y_pred = model_gd.predict(X_test) \n",
    "\n",
    "y_pred = y_pred.round()\n",
    " \n",
    "acc, prec, rec, f1, avrg = testes(model_gd,X_test,y_test,y_pred,False)\n",
    "\n",
    "norm, atk = test_normal_atk(y_test,y_pred)\n",
    "\n",
    "# create a DataFrame from the dictionary\n",
    "result_df = pd.DataFrame({'Method':'GB', 'Accuracy':acc, 'Precision':prec, 'F1_Score':f1,\n",
    "                          'Recall':rec,'Average':avrg, 'Normal_Detect_Rate':norm, 'Atk_Detect_Rate':atk}, index=[0])\n",
    "\n",
    "# concatenate the new DataFrame with the existing results DataFrame\n",
    "results = pd.concat([results, result_df], ignore_index=True)"
   ]
  },
  {
   "cell_type": "code",
   "execution_count": 98,
   "metadata": {},
   "outputs": [
    {
     "name": "stdout",
     "output_type": "stream",
     "text": [
      "\n",
      "CLASSIFICATION REPORT\n",
      "\n",
      "                   pre       rec       spe        f1       geo       iba       sup\n",
      "\n",
      "       Good       1.00      1.00      1.00      1.00      1.00      0.99     49763\n",
      "        Bad       1.00      1.00      1.00      1.00      1.00      1.00    248815\n",
      "\n",
      "avg / total       1.00      1.00      1.00      1.00      1.00      1.00    298578\n",
      "\n",
      "\n",
      "CONFUSION MATRIX\n"
     ]
    },
    {
     "data": {
      "text/plain": [
       "<Axes: >"
      ]
     },
     "execution_count": 98,
     "metadata": {},
     "output_type": "execute_result"
    },
    {
     "data": {
      "image/png": "[encoded data removed]",
      "text/plain": [
       "<Figure size 600x400 with 2 Axes>"
      ]
     },
     "metadata": {},
     "output_type": "display_data"
    }
   ],
   "source": [
    "con_mat = pd.DataFrame(confusion_matrix(y_test, y_pred),\n",
    "            columns = ['Predicted:Good', 'Predicted:Bad'],\n",
    "            index = ['Actual:Good', 'Actual:Bad'])\n",
    "\n",
    "print('\\nCLASSIFICATION REPORT\\n')\n",
    "print(classification_report_imbalanced(y_test, y_pred,\n",
    "                            target_names =['Good','Bad']))\n",
    "\n",
    "print('\\nCONFUSION MATRIX')\n",
    "plt.figure(figsize= (6,4))\n",
    "sns.heatmap(con_mat, annot = True,fmt='d',cmap=\"YlGnBu\")"
   ]
  },
  {
   "attachments": {},
   "cell_type": "markdown",
   "metadata": {},
   "source": [
    "### kNN"
   ]
  },
  {
   "cell_type": "code",
   "execution_count": 99,
   "metadata": {},
   "outputs": [
    {
     "name": "stdout",
     "output_type": "stream",
     "text": [
      "\n",
      "Accuracy\n",
      "0.9987038562787613\n",
      "\n",
      "Precision\n",
      "0.999549571288387\n",
      "\n",
      "Recall\n",
      "0.998894761167936\n",
      "\n",
      "F1 Score\n",
      "0.9992220589506439\n",
      "\n",
      "Average (acc, prec, rec, f1)\n",
      "0.9990925619214321\n"
     ]
    }
   ],
   "source": [
    "y_pred = model_knn.predict(X_test) \n",
    "\n",
    "y_pred = y_pred.round()\n",
    " \n",
    "acc, prec, rec, f1, avrg = testes(model_knn,X_test,y_test,y_pred,False)\n",
    "\n",
    "norm, atk = test_normal_atk(y_test,y_pred)\n",
    "\n",
    "# create a DataFrame from the dictionary\n",
    "result_df = pd.DataFrame({'Method':'kNN', 'Accuracy':acc, 'Precision':prec, 'F1_Score':f1,\n",
    "                          'Recall':rec,'Average':avrg, 'Normal_Detect_Rate':norm, 'Atk_Detect_Rate':atk}, index=[0])\n",
    "\n",
    "# concatenate the new DataFrame with the existing results DataFrame\n",
    "results = pd.concat([results, result_df], ignore_index=True)"
   ]
  },
  {
   "cell_type": "code",
   "execution_count": 100,
   "metadata": {},
   "outputs": [
    {
     "name": "stdout",
     "output_type": "stream",
     "text": [
      "\n",
      "CLASSIFICATION REPORT\n",
      "\n",
      "                   pre       rec       spe        f1       geo       iba       sup\n",
      "\n",
      "       Good       0.99      1.00      1.00      1.00      1.00      1.00     49763\n",
      "        Bad       1.00      1.00      1.00      1.00      1.00      1.00    248815\n",
      "\n",
      "avg / total       1.00      1.00      1.00      1.00      1.00      1.00    298578\n",
      "\n",
      "\n",
      "CONFUSION MATRIX\n"
     ]
    },
    {
     "data": {
      "text/plain": [
       "<Axes: >"
      ]
     },
     "execution_count": 100,
     "metadata": {},
     "output_type": "execute_result"
    },
    {
     "data": {
      "image/png": "[encoded data removed]",
      "text/plain": [
       "<Figure size 600x400 with 2 Axes>"
      ]
     },
     "metadata": {},
     "output_type": "display_data"
    }
   ],
   "source": [
    "con_mat = pd.DataFrame(confusion_matrix(y_test, y_pred),\n",
    "            columns = ['Predicted:Good', 'Predicted:Bad'],\n",
    "            index = ['Actual:Good', 'Actual:Bad'])\n",
    "\n",
    "print('\\nCLASSIFICATION REPORT\\n')\n",
    "print(classification_report_imbalanced(y_test, y_pred,\n",
    "                            target_names =['Good','Bad']))\n",
    "\n",
    "print('\\nCONFUSION MATRIX')\n",
    "plt.figure(figsize= (6,4))\n",
    "sns.heatmap(con_mat, annot = True,fmt='d',cmap=\"YlGnBu\")"
   ]
  },
  {
   "attachments": {},
   "cell_type": "markdown",
   "metadata": {},
   "source": [
    "# Discussion and Results\n",
    "\n",
    "Showing the table 'results', containing the performance metrics outcomes for each method."
   ]
  },
  {
   "cell_type": "code",
   "execution_count": 101,
   "metadata": {},
   "outputs": [
    {
     "data": {
      "text/html": [
       "<div>\n",
       "<style scoped>\n",
       "    .dataframe tbody tr th:only-of-type {\n",
       "        vertical-align: middle;\n",
       "    }\n",
       "\n",
       "    .dataframe tbody tr th {\n",
       "        vertical-align: top;\n",
       "    }\n",
       "\n",
       "    .dataframe thead th {\n",
       "        text-align: right;\n",
       "    }\n",
       "</style>\n",
       "<table border=\"1\" class=\"dataframe\">\n",
       "  <thead>\n",
       "    <tr style=\"text-align: right;\">\n",
       "      <th></th>\n",
       "      <th>Method</th>\n",
       "      <th>Accuracy</th>\n",
       "      <th>Precision</th>\n",
       "      <th>Recall</th>\n",
       "      <th>F1_Score</th>\n",
       "      <th>Average</th>\n",
       "      <th>Normal_Detect_Rate</th>\n",
       "      <th>Atk_Detect_Rate</th>\n",
       "    </tr>\n",
       "  </thead>\n",
       "  <tbody>\n",
       "    <tr>\n",
       "      <th>0</th>\n",
       "      <td>GRU</td>\n",
       "      <td>0.993911</td>\n",
       "      <td>0.993723</td>\n",
       "      <td>0.999003</td>\n",
       "      <td>0.996356</td>\n",
       "      <td>0.995749</td>\n",
       "      <td>0.968450</td>\n",
       "      <td>0.999003</td>\n",
       "    </tr>\n",
       "    <tr>\n",
       "      <th>1</th>\n",
       "      <td>CNN</td>\n",
       "      <td>0.987410</td>\n",
       "      <td>0.990234</td>\n",
       "      <td>0.994703</td>\n",
       "      <td>0.992463</td>\n",
       "      <td>0.991202</td>\n",
       "      <td>0.950947</td>\n",
       "      <td>0.994703</td>\n",
       "    </tr>\n",
       "    <tr>\n",
       "      <th>2</th>\n",
       "      <td>LSTM</td>\n",
       "      <td>0.997984</td>\n",
       "      <td>0.999256</td>\n",
       "      <td>0.998324</td>\n",
       "      <td>0.998790</td>\n",
       "      <td>0.998588</td>\n",
       "      <td>0.996282</td>\n",
       "      <td>0.998324</td>\n",
       "    </tr>\n",
       "    <tr>\n",
       "      <th>3</th>\n",
       "      <td>DNN</td>\n",
       "      <td>0.997917</td>\n",
       "      <td>0.998293</td>\n",
       "      <td>0.999208</td>\n",
       "      <td>0.998751</td>\n",
       "      <td>0.998542</td>\n",
       "      <td>0.991460</td>\n",
       "      <td>0.999208</td>\n",
       "    </tr>\n",
       "    <tr>\n",
       "      <th>4</th>\n",
       "      <td>SVM</td>\n",
       "      <td>0.998650</td>\n",
       "      <td>0.999148</td>\n",
       "      <td>0.999232</td>\n",
       "      <td>0.999190</td>\n",
       "      <td>0.999055</td>\n",
       "      <td>0.995740</td>\n",
       "      <td>0.999232</td>\n",
       "    </tr>\n",
       "    <tr>\n",
       "      <th>5</th>\n",
       "      <td>LR</td>\n",
       "      <td>0.997301</td>\n",
       "      <td>0.999006</td>\n",
       "      <td>0.997753</td>\n",
       "      <td>0.998379</td>\n",
       "      <td>0.998110</td>\n",
       "      <td>0.995036</td>\n",
       "      <td>0.997753</td>\n",
       "    </tr>\n",
       "    <tr>\n",
       "      <th>6</th>\n",
       "      <td>GB</td>\n",
       "      <td>0.998677</td>\n",
       "      <td>0.999188</td>\n",
       "      <td>0.999224</td>\n",
       "      <td>0.999206</td>\n",
       "      <td>0.999074</td>\n",
       "      <td>0.995941</td>\n",
       "      <td>0.999224</td>\n",
       "    </tr>\n",
       "    <tr>\n",
       "      <th>7</th>\n",
       "      <td>kNN</td>\n",
       "      <td>0.998704</td>\n",
       "      <td>0.999550</td>\n",
       "      <td>0.998895</td>\n",
       "      <td>0.999222</td>\n",
       "      <td>0.999093</td>\n",
       "      <td>0.997749</td>\n",
       "      <td>0.998895</td>\n",
       "    </tr>\n",
       "  </tbody>\n",
       "</table>\n",
       "</div>"
      ],
      "text/plain": [
       "  Method  Accuracy  Precision    Recall  F1_Score   Average   \n",
       "0    GRU  0.993911   0.993723  0.999003  0.996356  0.995749  \\\n",
       "1    CNN  0.987410   0.990234  0.994703  0.992463  0.991202   \n",
       "2   LSTM  0.997984   0.999256  0.998324  0.998790  0.998588   \n",
       "3    DNN  0.997917   0.998293  0.999208  0.998751  0.998542   \n",
       "4    SVM  0.998650   0.999148  0.999232  0.999190  0.999055   \n",
       "5     LR  0.997301   0.999006  0.997753  0.998379  0.998110   \n",
       "6     GB  0.998677   0.999188  0.999224  0.999206  0.999074   \n",
       "7    kNN  0.998704   0.999550  0.998895  0.999222  0.999093   \n",
       "\n",
       "   Normal_Detect_Rate  Atk_Detect_Rate  \n",
       "0            0.968450         0.999003  \n",
       "1            0.950947         0.994703  \n",
       "2            0.996282         0.998324  \n",
       "3            0.991460         0.999208  \n",
       "4            0.995740         0.999232  \n",
       "5            0.995036         0.997753  \n",
       "6            0.995941         0.999224  \n",
       "7            0.997749         0.998895  "
      ]
     },
     "execution_count": 101,
     "metadata": {},
     "output_type": "execute_result"
    }
   ],
   "source": [
    "results"
   ]
  },
  {
   "attachments": {},
   "cell_type": "markdown",
   "metadata": {},
   "source": [
    "**Classification Metrics:**\n",
    "* Accuracy\n",
    "* Precision\n",
    "* Recall\n",
    "* F1 Measure (F1 Score)\n",
    "\n",
    "Showing performance outcomes of the methods: \n",
    "* GRU\n",
    "* DNN\n",
    "* SVM\n",
    "* LR\n",
    "* GB\n",
    "* kNN\n",
    "\n",
    "LSTM and CNN were separated for visualization improvement."
   ]
  },
  {
   "cell_type": "code",
   "execution_count": 144,
   "metadata": {},
   "outputs": [],
   "source": [
    "sns.set()"
   ]
  },
  {
   "cell_type": "code",
   "execution_count": 145,
   "metadata": {},
   "outputs": [
    {
     "data": {
      "image/png": "[encoded data removed]",
      "text/plain": [
       "<Figure size 1800x600 with 6 Axes>"
      ]
     },
     "metadata": {},
     "output_type": "display_data"
    }
   ],
   "source": [
    "ax = sns.catplot(data=results.iloc[:,:5].query('Method != \"LSTM\" and Method != \"CNN\"'), col='Method', col_wrap=3, kind='bar', height=3, aspect=2)\n",
    "ax.set(ylim=(0.99,1))\n",
    "ax.set_xticklabels(rotation=45)\n",
    "ax = ax\n"
   ]
  },
  {
   "attachments": {},
   "cell_type": "markdown",
   "metadata": {},
   "source": [
    "> As observed, the evaluated methods achieved good performance outcomes close to 1. As the evaluated methods achieved similar outcomes, a more specific analysis should be performed."
   ]
  },
  {
   "attachments": {},
   "cell_type": "markdown",
   "metadata": {},
   "source": [
    "Showing results of the LSTM and CNN methods."
   ]
  },
  {
   "cell_type": "code",
   "execution_count": 146,
   "metadata": {},
   "outputs": [
    {
     "data": {
      "image/png": "[encoded data removed]",
      "text/plain": [
       "<Figure size 1800x300 with 2 Axes>"
      ]
     },
     "metadata": {},
     "output_type": "display_data"
    }
   ],
   "source": [
    "ax = sns.catplot(data=results.iloc[:,:5].query('Method == \"LSTM\" or Method == \"CNN\"'), col='Method', col_wrap=3, kind='bar', height=3, aspect=2)\n",
    "ax.set(ylim=(0.97,1))\n",
    "ax.set_xticklabels(rotation=45)\n",
    "ax = ax"
   ]
  },
  {
   "attachments": {},
   "cell_type": "markdown",
   "metadata": {},
   "source": [
    "> CNN and LSTM fared worse between the tested approaches. However, these methods achieved performance metrics above 97%, which is a relatively good outcome. "
   ]
  },
  {
   "attachments": {},
   "cell_type": "markdown",
   "metadata": {},
   "source": [
    "**Average of the Metrics**\n",
    "\n",
    "Plotting the Average of the previously mentioned performance metrics to summarize the method's results. "
   ]
  },
  {
   "cell_type": "code",
   "execution_count": 147,
   "metadata": {},
   "outputs": [
    {
     "data": {
      "image/png": "[encoded data removed]",
      "text/plain": [
       "<Figure size 1200x400 with 1 Axes>"
      ]
     },
     "metadata": {},
     "output_type": "display_data"
    }
   ],
   "source": [
    "plt.figure(figsize=(12,4))\n",
    "ax = sns.barplot(data=results, y='Method', x='Average')\n",
    "ax.set(xlim=(0.98,1))\n",
    "ax.set_title('Average of the Metrics', fontsize=18, loc='left')\n",
    "ax.set_xticklabels(ax.get_xticklabels(), fontsize=12)\n",
    "ax = ax"
   ]
  },
  {
   "attachments": {},
   "cell_type": "markdown",
   "metadata": {},
   "source": [
    "> As observed, on average, kNN fared slightly better compared to GB, LR, SVM, and GRU, which, in turn, achieved very similar results. However, these methods performed nearly 99.9%, which is considered a good classification outcome. "
   ]
  },
  {
   "attachments": {},
   "cell_type": "markdown",
   "metadata": {},
   "source": [
    "**Detection rate of Normal and Attack flow records**\n",
    "\n",
    "The following plot shows the results of each method for classifying normal and attack flow records."
   ]
  },
  {
   "cell_type": "code",
   "execution_count": 148,
   "metadata": {},
   "outputs": [
    {
     "data": {
      "image/png": "[encoded data removed]",
      "text/plain": [
       "<Figure size 1800x900 with 8 Axes>"
      ]
     },
     "metadata": {},
     "output_type": "display_data"
    }
   ],
   "source": [
    "ax = sns.catplot(data=results[['Method', 'Normal_Detect_Rate', 'Atk_Detect_Rate']], col='Method', col_wrap=3, kind='bar', height=3, aspect=2)\n",
    "ax.set(ylim=(0.97,1))\n",
    "ax.set_xticklabels(rotation=45)\n",
    "ax = ax\n"
   ]
  },
  {
   "attachments": {},
   "cell_type": "markdown",
   "metadata": {},
   "source": [
    "> kNN achieved the best classification outcomes. \n",
    "\n",
    "> GRU showed the most balanced approach regarding classifying normal and attack flows. \n",
    "\n",
    "> Although CNN achieved a relatively good classification of attacks, the classification of normal record flows was low compared to other methods. This result can explain the Accuracy rate of this method. This situation also occurs with the LSTM method, which achieved a good classification rate for normal flows and a low classification rate for attack ones. "
   ]
  }
 ],
 "metadata": {
  "kernelspec": {
   "display_name": "Python 3 (ipykernel)",
   "language": "python",
   "name": "python3"
  },
  "language_info": {
   "codemirror_mode": {
    "name": "ipython",
    "version": 3
   },
   "file_extension": ".py",
   "mimetype": "text/x-python",
   "name": "python",
   "nbconvert_exporter": "python",
   "pygments_lexer": "ipython3",
   "version": "3.11.3"
  }
 },
 "nbformat": 4,
 "nbformat_minor": 2
}
